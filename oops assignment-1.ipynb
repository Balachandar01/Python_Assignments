{
 "cells": [
  {
   "cell_type": "markdown",
   "id": "c7abc4b3-a878-4c44-9393-b17e489e153d",
   "metadata": {},
   "source": [
    "Problem 1: Bank Account Create a class representing a bank account with attributes like account number, account holder name, and balance. Implement methods to deposit and withdraw money from the account."
   ]
  },
  {
   "cell_type": "code",
   "execution_count": 35,
   "id": "09406b14-e954-45bf-8122-5240ede38270",
   "metadata": {},
   "outputs": [
    {
     "name": "stdout",
     "output_type": "stream",
     "text": [
      "Balance = 10000\n",
      "The balance is 9000 after withdrawal of 1000\n",
      "The balance is 15000 after withdrawal of 6000\n",
      "Balance = 15000\n"
     ]
    }
   ],
   "source": [
    "class Bank_system():\n",
    "    def __init__(self,account_number,account_holder_name,balance):\n",
    "        self.account_number = account_number\n",
    "        self.account_holder_name = account_holder_name\n",
    "        self._balance = balance\n",
    "        \n",
    "    def get_balance(self):\n",
    "        return f\"Balance = {self._balance}\"\n",
    "        \n",
    "    def withdraw(self,money):\n",
    "        if money<=self._balance:\n",
    "            self._balance -= money\n",
    "            return (\"The balance is {} after withdrawal of {}\".format(self._balance, money))\n",
    "        else:\n",
    "            return \"insufficient fund\"\n",
    "    \n",
    "    def deposit(self,money):\n",
    "        self._balance += money\n",
    "        return \"The balance is {} after withdrawal of {}\".format(self._balance, money)\n",
    "    \n",
    "Bank_account_1 = Bank_system(\"987654\",\"Nikhil kamath\",10000)\n",
    "print(Bank_account_1.get_balance())\n",
    "print(Bank_account_1.withdraw(1000))\n",
    "print(Bank_account_1.deposit(6000))\n",
    "print(Bank_account_1.get_balance())\n"
   ]
  },
  {
   "cell_type": "markdown",
   "id": "eec11771-b5dd-49cb-ba45-889a78f4b6c8",
   "metadata": {},
   "source": [
    "Problem 2: Employee Management Create a class representing an employee with attributes like employee ID, name, and salary. Implement methods to calculate the yearly bonus and display employee details."
   ]
  },
  {
   "cell_type": "code",
   "execution_count": 15,
   "id": "94e316b2-bf8e-4888-a936-5ce313a777a1",
   "metadata": {},
   "outputs": [
    {
     "name": "stdout",
     "output_type": "stream",
     "text": [
      "The employee 1 details: The employee name = Virat-employee_id = xxx123xxx-salary = 100000\n",
      "The employeen 1 yearly bonus is 40000.0\n",
      "The employee 2 details: The employee name = kohli-employee_id = xxx321xxx-salary = 200000\n",
      "The employeen 1 yearly bonus is 20000.0\n"
     ]
    }
   ],
   "source": [
    "class Employee():\n",
    "    \n",
    "    def __init__(self,employee_id,name,salary):\n",
    "        self.employee_id = employee_id\n",
    "        self.name = name\n",
    "        self.salary = salary\n",
    "    \n",
    "    def bonus(self,yearly_raise):\n",
    "        self.yearly_raise = yearly_raise\n",
    "        return self.salary * self.yearly_raise\n",
    "    \n",
    "    def info(self):\n",
    "        return f\"The employee name = {self.name}-employee_id = {self.employee_id}-salary = {self.salary}\"\n",
    "    \n",
    "employee_1 = Employee(\"xxx123xxx\",\"Virat\",100000)\n",
    "employee_2 = Employee(\"xxx321xxx\",\"kohli\",200000)\n",
    "\n",
    "print(\"The employee 1 details:\",employee_1.info())\n",
    "print(\"The employeen 1 yearly bonus is\",employee_1.bonus(0.40))\n",
    "\n",
    "print(\"The employee 2 details:\",employee_2.info())\n",
    "print(\"The employeen 1 yearly bonus is\",employee_2.bonus(0.10))"
   ]
  },
  {
   "cell_type": "markdown",
   "id": "fac5a4a4-d53b-4c27-86a4-2d3ad67f6d95",
   "metadata": {},
   "source": [
    "Problem 3: Vehicle Rental Create a class representing a vehicle rental system. Implement methods to rent a vehicle, return a vehicle, and display available vehicles."
   ]
  },
  {
   "cell_type": "code",
   "execution_count": 7,
   "id": "e4f94f61-93b7-428f-9e94-6c0339d73613",
   "metadata": {},
   "outputs": [
    {
     "name": "stdout",
     "output_type": "stream",
     "text": [
      "{'1234': 'BMW', '4321': 'AUDI'}\n",
      "Vehicle 4321 AUDI rented successfully.\n",
      "{'1234': 'BMW'}\n",
      "Vehicle 4321 AUDI returned successfully.\n",
      "{'1234': 'BMW', '4321': 'AUDI'}\n"
     ]
    }
   ],
   "source": [
    "class Rental_system():\n",
    "    def __init__(self):\n",
    "        self.available_vehicle = {}\n",
    "\n",
    "    def add(self, vehicle_id, model):\n",
    "        self.available_vehicle[vehicle_id] = model\n",
    "\n",
    "    def available_vehicle(self):\n",
    "        if not self.available_vehicle:\n",
    "            return \"No vehicles available.\"\n",
    "        else:\n",
    "            return self.available_vehicle\n",
    "\n",
    "    def rent(self, vehicle_id, model):\n",
    "        if vehicle_id in self.available_vehicle:\n",
    "            model = self.available_vehicle.pop(vehicle_id)\n",
    "            return f\"Vehicle {vehicle_id} {model} rented successfully.\"\n",
    "\n",
    "    def return_vehicle(self, vehicle_id, model):\n",
    "        self.available_vehicle[vehicle_id] = model\n",
    "        return f\"Vehicle {vehicle_id} {model} returned successfully.\"\n",
    "\n",
    "\n",
    "rental_1 = Rental_system()\n",
    "rental_1.add(\"1234\", \"BMW\")\n",
    "rental_1.add(\"4321\", \"AUDI\")\n",
    "print(rental_1.available_vehicle)\n",
    "print(rental_1.rent(\"4321\", \"AUDI\"))\n",
    "print(rental_1.available_vehicle)\n",
    "print(rental_1.return_vehicle(\"4321\", \"AUDI\"))\n",
    "print(rental_1.available_vehicle)"
   ]
  },
  {
   "cell_type": "markdown",
   "id": "15ef7528-42a5-49eb-b0e4-091d6ba68bc6",
   "metadata": {},
   "source": [
    "Problem 4: Library Catalog Create classes representing a library and a book. Implement methods to add books to the library, borrow books, and display available books."
   ]
  },
  {
   "cell_type": "code",
   "execution_count": 28,
   "id": "3de5b0ba-f246-4462-ba30-d74aeda1d212",
   "metadata": {},
   "outputs": [
    {
     "name": "stdout",
     "output_type": "stream",
     "text": [
      "['IKIGAI', 'Elonk musk']\n",
      "['IKIGAI', 'Elonk musk']\n"
     ]
    }
   ],
   "source": [
    "#Doubt in this code\n",
    "class Book:\n",
    "    def __init__(self, book_name, copies, genre):\n",
    "        self.book_name = book_name\n",
    "        self.copies = copies\n",
    "        self.genre = genre\n",
    "class Library:\n",
    "    def __init__(self):\n",
    "        self.available_books = []\n",
    "\n",
    "    def add_(self, book):\n",
    "        self.book = book\n",
    "        self.available_books.append(book)\n",
    "\n",
    "    def borrow(self, book_name):\n",
    "        for book in self.available_books:\n",
    "            if book.book_name == book_name and book.copies > 0:\n",
    "                book.copies -= 1\n",
    "                return \"BOOK BORROWED\"\n",
    "\n",
    "        return \"NO books available\"\n",
    "\n",
    "    def display(self):\n",
    "        return [book.book_name for book in self.available_books]\n",
    "\n",
    "\n",
    "book1 = Book(\"IKIGAI\", 5, \"Longevity\")\n",
    "book2 = Book(\"Elonk musk\", 3, \"Biography\")\n",
    "lib1 = Library()\n",
    "lib1.add_(book1)\n",
    "lib1.add_(book2)\n",
    "print(lib1.display())\n",
    "lib1.borrow(\"IKIGAI\")\n",
    "lib1.borrow(\"IKIGAI\")\n",
    "lib1.borrow(\"IKIGAI\")\n",
    "lib1.borrow(\"IKIGAI\")\n",
    "lib1.borrow(\"IKIGAI\")\n",
    "lib1.borrow(\"IKIGAI\")\n",
    "print(lib1.display())"
   ]
  },
  {
   "cell_type": "markdown",
   "id": "05b9ef86-946c-4c39-a4b8-3cdb4b2992ad",
   "metadata": {},
   "source": [
    "Problem 5: Product Inventory Create classes representing a product and an inventory system. Implement methods to add products to the inventory, update product quantity, and display available products."
   ]
  },
  {
   "cell_type": "code",
   "execution_count": 2,
   "id": "904e1718-988a-45cb-98f2-cd94c8b6562b",
   "metadata": {},
   "outputs": [
    {
     "name": "stdout",
     "output_type": "stream",
     "text": [
      "Product added Successfully\n",
      "Product added Successfully\n",
      "['Amul chocolate', 'Amul icecream']\n",
      "500\n",
      "The product is updated\n",
      "1000\n"
     ]
    }
   ],
   "source": [
    "class Product:\n",
    "    def __init__(self,product_id,product_name,quantity):\n",
    "        self.product_id = product_id\n",
    "        self.product_name = product_name\n",
    "        self.quantity = quantity \n",
    "        \n",
    "class Inventory_system:\n",
    "    def __init__(self):\n",
    "        self.available_products = []\n",
    "        \n",
    "    def add(self,product):\n",
    "        self.product = product \n",
    "        self.available_products.append(self.product)\n",
    "        return \"Product added Successfully\"\n",
    "    \n",
    "    def display(self):\n",
    "        return [product.product_name for product in self.available_products]\n",
    "    \n",
    "    def update(self,product_name,quantity):\n",
    "        for product in self.available_products:\n",
    "            if product.product_name == product_name:\n",
    "                product.quantity = quantity\n",
    "                return \"The product is updated\"\n",
    "        return \"The product is not available\"\n",
    "    \n",
    "product1 = Product(\"123\",\"Amul chocolate\",143)\n",
    "product2 = Product(\"321\",\"Amul icecream\",500)\n",
    "\n",
    "shop1 = Inventory_system()\n",
    "print(shop1.add(product1))\n",
    "print(shop1.add(product2))\n",
    "print(shop1.display())\n",
    "print(product2.quantity)\n",
    "print(shop1.update(\"Amul icecream\",1000))\n",
    "print(product2.quantity)"
   ]
  },
  {
   "cell_type": "markdown",
   "id": "c78c3ac3-ad48-4a30-950c-0d5db88e9fd1",
   "metadata": {},
   "source": [
    "Problem 6: Shape Calculation Create a class representing a shape with attributes like length, width, and height. Implement methods to calculate the area and perimeter of the shape.\n"
   ]
  },
  {
   "cell_type": "code",
   "execution_count": 24,
   "id": "698732bd-639a-418c-b8fb-8edfd2c83397",
   "metadata": {},
   "outputs": [
    {
     "name": "stdout",
     "output_type": "stream",
     "text": [
      "The are of the rectange = 20\n",
      "The perimeter of the rectangle = 40\n",
      "The are of the circle = 50.24\n",
      "The perimeter of the circle = 25.12\n"
     ]
    }
   ],
   "source": [
    "class shape :\n",
    "    \n",
    "    def area(self):\n",
    "        pass\n",
    "    \n",
    "    def perimeter(self):\n",
    "        pass\n",
    "    \n",
    "class Rectangle(shape):\n",
    "    \n",
    "    def __init__(self,length,width):\n",
    "        self.length = length \n",
    "        self.width = width\n",
    "        \n",
    "    def area(self):\n",
    "        area = self.length * self.width\n",
    "        return f\"The are of the rectange = {area}\"\n",
    "    \n",
    "    def perimeter(self):\n",
    "        perimeter  = 2*(self.length * self.width)\n",
    "        return f\"The perimeter of the rectangle = {perimeter}\"\n",
    "    \n",
    "class Circle(shape):\n",
    "    \n",
    "    def __init__(self,radius):\n",
    "        self.radius = radius\n",
    "        \n",
    "    def area(self):\n",
    "        area = 3.14 * self.radius * self.radius\n",
    "        return f\"The are of the circle = {area}\"\n",
    "    \n",
    "    def perimeter(self):\n",
    "        perimeter  = 2*(self.radius * 3.14)\n",
    "        return f\"The perimeter of the circle = {perimeter}\"\n",
    "    \n",
    "    \n",
    "        \n",
    "rec = Rectangle(4,5)  \n",
    "print(rec.area())\n",
    "print(rec.perimeter())\n",
    "\n",
    "circ = Circle(4)\n",
    "print(circ.area())\n",
    "print(circ.perimeter())\n",
    "    "
   ]
  },
  {
   "cell_type": "markdown",
   "id": "e240d8fa-ffa7-407b-9d4f-180cb409de50",
   "metadata": {},
   "source": [
    "Problem 7: Student Management Create a class representing a student with attributes like student ID, name, and grades. Implement methods to calculate the average grade and display student details.\n"
   ]
  },
  {
   "cell_type": "code",
   "execution_count": 27,
   "id": "466509a3-51ab-4bc5-92c7-89257e19a2f3",
   "metadata": {},
   "outputs": [
    {
     "name": "stdout",
     "output_type": "stream",
     "text": [
      "ID = 1234BR20\n",
      "Name = Virat kohli\n",
      "Grades = 60, 100\n",
      "80\n"
     ]
    }
   ],
   "source": [
    "class Students():\n",
    "    \n",
    "    def __init__(self,student_id,name):\n",
    "        self.student_id = student_id\n",
    "        self.name = name \n",
    "        self.grades = []\n",
    "        \n",
    "    def add_grades(self,grade):\n",
    "        self.grades.append(grade)\n",
    "        \n",
    "    def student_info(self):\n",
    "        info_str = f\"ID = {self.student_id}\\nName = {self.name}\\nGrades = {', '.join(map(str, self.grades))}\"\n",
    "        return info_str\n",
    "    \n",
    "    def average_grade(self):\n",
    "        if not self.grades:\n",
    "            return 0\n",
    "        return int(sum(self.grades)/len(self.grades))\n",
    "\n",
    "student_1 = Students(\"1234BR20\",\"Virat kohli\")\n",
    "student_1.add_grades(60)\n",
    "student_1.add_grades(100)\n",
    "print(student_1.student_info())      \n",
    "print(student_1.average_grade())\n",
    "        "
   ]
  },
  {
   "cell_type": "markdown",
   "id": "b7defc81-861e-4447-bf53-d4d51bfefc98",
   "metadata": {},
   "source": [
    "Problem 8: Email Management Create a class representing an email with attributes like sender, recipient, and subject. Implement methods to send an email and display email details.\n"
   ]
  },
  {
   "cell_type": "code",
   "execution_count": 35,
   "id": "bde6e16e-5718-484d-a6b5-08cfcc85deba",
   "metadata": {},
   "outputs": [
    {
     "name": "stdout",
     "output_type": "stream",
     "text": [
      "Message 'Current topic Oops' sended.\n",
      "Sender = xxx,recipient = yyy,Subject = Python,Message = ['Current topic Oops']\n"
     ]
    }
   ],
   "source": [
    "class Email():\n",
    "    \n",
    "    def __init__(self,sender,recipient,subject):\n",
    "        self.sender = sender \n",
    "        self.recipient = recipient\n",
    "        self.subject = subject\n",
    "        self.msg = []\n",
    "        \n",
    "    def send(self,msg):\n",
    "        self.msg.append(msg)\n",
    "        return f\"Message '{msg}' sended.\"\n",
    "        \n",
    "    def detail_of_mail(self):\n",
    "        return f\"Sender = {self.sender},recipient = {self.recipient},Subject = {self.subject},Message = {self.msg}\"\n",
    "    \n",
    "mail_1 = Email(\"xxx\",\"yyy\",\"Python\")\n",
    "print(mail_1.send(\"Current topic Oops\"))\n",
    "print(mail_1.detail_of_mail())\n",
    "        \n",
    "        "
   ]
  },
  {
   "cell_type": "markdown",
   "id": "f3d467c0-4a15-4183-9326-fb2d7dd84bda",
   "metadata": {},
   "source": [
    "Problem 9: Social Media Profile Create a class representing a social media profile with attributes like username and posts. Implement methods to add posts, display posts, and search for posts by keyword."
   ]
  },
  {
   "cell_type": "code",
   "execution_count": 61,
   "id": "518d1f38-bc29-474d-81af-2f82b19d85b9",
   "metadata": {},
   "outputs": [
    {
     "name": "stdout",
     "output_type": "stream",
     "text": [
      "Post  added to the Usename:Virat kohli \n",
      "Post  added to the Usename:Virat kohli \n",
      "Post  added to the Usename:Virat kohli \n",
      "Post  added to the Usename:Virat kohli \n",
      "Post  added to the Usename:Virat kohli \n",
      "The available post of Virat kohli are\n",
      "['Key to success', '48th ton', 'Key to consistency', 'Key to display', 'The Goat']\n",
      "The matched post for Virat kohli are \n",
      "The matched posts for Virat kohli are:\n",
      " - Key to success\n",
      " - Key to consistency\n",
      " - Key to display\n"
     ]
    }
   ],
   "source": [
    "class Social_media:\n",
    "    \n",
    "    def __init__(self,username):\n",
    "        self.username = username \n",
    "        self.post = []\n",
    "        \n",
    "    def add_post(self,post):\n",
    "        self.post.append(post)\n",
    "        return f\"Post  added to the Usename:{self.username} \"\n",
    "    \n",
    "    def display_post(self):\n",
    "        if not self.post:\n",
    "            return f\"The {self.username} has no post\"\n",
    "        else:\n",
    "            print(f\"The available post of {self.username} are\")\n",
    "            post = [post for post in self.post]\n",
    "            return post\n",
    "            \n",
    "    def search(self,keyword):\n",
    "        match_post = [post for post in self.post if keyword.lower() in post.lower()]\n",
    "        if not match_post:\n",
    "            return f\"The {self.username} has no post matching {keyword}\"\n",
    "        else:\n",
    "            print(f\"The matched post for {self.username} are \")\n",
    "            matched = [f\" - {post}\" for post in match_post]\n",
    "            return f\"The matched posts for {self.username} are:\\n\" + \"\\n\".join(matched)\n",
    "            \n",
    "user_1 = Social_media(\"Virat kohli\")\n",
    "print(user_1.add_post(\"Key to success\"))\n",
    "print(user_1.add_post(\"48th ton\"))\n",
    "print(user_1.add_post(\"Key to consistency\"))\n",
    "print(user_1.add_post(\"Key to display\"))\n",
    "print(user_1.add_post(\"The Goat\"))\n",
    "print(user_1.display_post())\n",
    "print(user_1.search(\"key\"))"
   ]
  },
  {
   "cell_type": "code",
   "execution_count": null,
   "id": "5a2c33b5-6f8c-4a8d-8f28-06f38b3421ed",
   "metadata": {},
   "outputs": [],
   "source": []
  }
 ],
 "metadata": {
  "kernelspec": {
   "display_name": "Python 3 (ipykernel)",
   "language": "python",
   "name": "python3"
  },
  "language_info": {
   "codemirror_mode": {
    "name": "ipython",
    "version": 3
   },
   "file_extension": ".py",
   "mimetype": "text/x-python",
   "name": "python",
   "nbconvert_exporter": "python",
   "pygments_lexer": "ipython3",
   "version": "3.10.8"
  }
 },
 "nbformat": 4,
 "nbformat_minor": 5
}
