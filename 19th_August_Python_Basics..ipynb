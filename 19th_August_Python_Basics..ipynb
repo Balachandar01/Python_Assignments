{
 "cells": [
  {
   "cell_type": "raw",
   "id": "98bba211-90c5-47ad-aacc-ca659c903025",
   "metadata": {},
   "source": [
    "#   Topic 1 =  Python Basic Variable"
   ]
  },
  {
   "cell_type": "raw",
   "id": "ed08255e-601b-4627-8cd0-3074b5f3cb43",
   "metadata": {},
   "source": [
    "# Assignment 1st question = swapping variables without using temperory variable."
   ]
  },
  {
   "cell_type": "code",
   "execution_count": 1,
   "id": "8679c5ea-6657-4a22-b355-9507e08a321a",
   "metadata": {},
   "outputs": [
    {
     "name": "stdout",
     "output_type": "stream",
     "text": [
      "44 33\n"
     ]
    }
   ],
   "source": [
    "x = 33\n",
    "y = 44\n",
    "x,y = y,x\n",
    "print(x,y)"
   ]
  },
  {
   "cell_type": "raw",
   "id": "9e767757-3f09-48b0-9a7d-64d07214c701",
   "metadata": {},
   "source": [
    "# Assignment 2nd question = program to calculate the area of the rectangle"
   ]
  },
  {
   "cell_type": "code",
   "execution_count": 7,
   "id": "c1d16513-4f4b-41c9-a625-150f4d1b37b1",
   "metadata": {},
   "outputs": [
    {
     "name": "stdin",
     "output_type": "stream",
     "text": [
      "Enter the value of Length ?  123.657\n",
      "Enter the calue of Width ?  765.987\n"
     ]
    },
    {
     "name": "stdout",
     "output_type": "stream",
     "text": [
      "Area of the rectangle = 94719.65\n"
     ]
    }
   ],
   "source": [
    "Length = float(input(\"Enter the value of Length ? \"))\n",
    "Width = float(input(\"Enter the calue of Width ? \"))\n",
    "# Formula to calculate the area of the rectangle by using length and width\n",
    "Area = Length*Width\n",
    "print(f\"Area of the rectangle = {Area:.2f}\")"
   ]
  },
  {
   "cell_type": "raw",
   "id": "c089d438-928d-487d-975e-21bb22ae0b0a",
   "metadata": {},
   "source": [
    "# Assignment 3rd question = program to convert the temperature from celsius to fahrenheit then Take the temperature in Celsius as input, store it in a variable,convert it to fahrenheit, and display the result."
   ]
  },
  {
   "cell_type": "code",
   "execution_count": 9,
   "id": "632393e0-fbcc-48a2-a121-4c0f6605b081",
   "metadata": {},
   "outputs": [
    {
     "name": "stdin",
     "output_type": "stream",
     "text": [
      "Enter the temperature in celsius =  100\n"
     ]
    },
    {
     "name": "stdout",
     "output_type": "stream",
     "text": [
      "The temperature in Fahrenheit: 212.0\n"
     ]
    }
   ],
   "source": [
    "celsius = float(input(\"Enter the temperature in celsius = \"))\n",
    "Fahrenheit = (celsius*9/5) + 32\n",
    "print(\"The temperature in Fahrenheit:\",Fahrenheit)"
   ]
  },
  {
   "cell_type": "raw",
   "id": "657ef77d-387a-4c95-a91e-2ae01f87c360",
   "metadata": {},
   "source": [
    "#   Topic 2 = String Based Questions"
   ]
  },
  {
   "cell_type": "raw",
   "id": "4d05474a-8bbc-47f5-9415-d0fd35653c09",
   "metadata": {},
   "source": [
    "# Assignment 1st question = Python program that takes a string as input and prints the length of the string."
   ]
  },
  {
   "cell_type": "code",
   "execution_count": 6,
   "id": "baca64bf-8792-4073-96f6-ffa3641da36c",
   "metadata": {},
   "outputs": [
    {
     "name": "stdin",
     "output_type": "stream",
     "text": [
      "Enter your Name :  Balachandar.B\n"
     ]
    },
    {
     "name": "stdout",
     "output_type": "stream",
     "text": [
      "THE LENGTH OF THE STRING :  13\n"
     ]
    }
   ],
   "source": [
    "Name = str(input(\"Enter your Name : \"))\n",
    "length = len(Name)\n",
    "print(\"THE LENGTH OF THE STRING : \",length)\n"
   ]
  },
  {
   "cell_type": "raw",
   "id": "dcc7af14-ee3d-4571-98d5-c3071f39a485",
   "metadata": {},
   "source": [
    "# Assignment 2nd question = program that takes a sentence from the user and counts the number of vowels (a, e, i, o, u) in the string."
   ]
  },
  {
   "cell_type": "code",
   "execution_count": 1,
   "id": "5471594f-238a-435b-9a14-fc5fee7ff82e",
   "metadata": {},
   "outputs": [
    {
     "name": "stdin",
     "output_type": "stream",
     "text": [
      "Enter the string :  BALAchandar\n"
     ]
    },
    {
     "name": "stdout",
     "output_type": "stream",
     "text": [
      "The number of vowels present in the string is : 4\n"
     ]
    }
   ],
   "source": [
    "Sentence = input(\"Enter the string : \")\n",
    "String = Sentence.lower()\n",
    "List = [\"a\",\"e\",\"i\",\"o\",\"u\"]\n",
    "#here variable count is initialize to 0 to keep track of number of vowels\n",
    "count = 0\n",
    "for char in String:\n",
    "    if char in List:\n",
    "        count = count + 1\n",
    "print(\"The number of vowels present in the string is :\",count)\n"
   ]
  },
  {
   "cell_type": "raw",
   "id": "c5f1452b-ced0-4a8d-b952-dec0622ced51",
   "metadata": {},
   "source": [
    "# Assignment 3rd question = Given a string, reverse the order of characters using string slicing and print the reversed string."
   ]
  },
  {
   "cell_type": "code",
   "execution_count": 4,
   "id": "66fbb853-a9df-4c8e-9c49-42ee1d92b4f7",
   "metadata": {},
   "outputs": [
    {
     "name": "stdin",
     "output_type": "stream",
     "text": [
      "enter the value of string :  taekwondo\n"
     ]
    },
    {
     "name": "stdout",
     "output_type": "stream",
     "text": [
      "The reverse of the string is odnowkeat\n"
     ]
    }
   ],
   "source": [
    "string = str(input(\"enter the value of string : \"))\n",
    "string_reverse = string[ : :-1]\n",
    "print(\"The reverse of the string is\",string_reverse)\n",
    "                   "
   ]
  },
  {
   "cell_type": "raw",
   "id": "00967037-8042-4fc9-92b7-dada0e6d01b5",
   "metadata": {},
   "source": [
    "# Assignment 4th question = program that takes a string as input and checks if it is a palindrome."
   ]
  },
  {
   "cell_type": "code",
   "execution_count": 12,
   "id": "b24a2ab4-dac4-416a-a3ff-e003b7d7f7e0",
   "metadata": {},
   "outputs": [
    {
     "name": "stdin",
     "output_type": "stream",
     "text": [
      "enter the string :  madam\n"
     ]
    },
    {
     "name": "stdout",
     "output_type": "stream",
     "text": [
      "Yup! It is Palindrome\n"
     ]
    }
   ],
   "source": [
    "Userinput = str(input(\"enter the string : \"))\n",
    "Userinput_reverse = Userinput[ : :-1]\n",
    "if Userinput == Userinput_reverse:\n",
    "    print(\"Yup! It is Palindrome\")\n",
    "else:\n",
    "    print(\"NOPE! It is not Palindrome\")\n"
   ]
  },
  {
   "cell_type": "raw",
   "id": "bc954cb5-f28a-43ab-b144-3c9101a4780a",
   "metadata": {},
   "source": [
    "# Assignment 5th question = program that takes a string as input and removes all the spaces from it and Print the modified string without spaces."
   ]
  },
  {
   "cell_type": "code",
   "execution_count": 14,
   "id": "40f9f730-cd96-455b-a89f-196931b78808",
   "metadata": {},
   "outputs": [
    {
     "name": "stdin",
     "output_type": "stream",
     "text": [
      "Enter the value :  z e br a    !\n"
     ]
    },
    {
     "name": "stdout",
     "output_type": "stream",
     "text": [
      "The String without spaces : zebra!\n"
     ]
    }
   ],
   "source": [
    "string = str(input(\"Enter the value : \"))\n",
    "string1 = string.replace(\" \",\"\")\n",
    "print(\"The String without spaces :\",string1)"
   ]
  },
  {
   "cell_type": "code",
   "execution_count": null,
   "id": "ad980626-7def-4341-a790-02eb9b317691",
   "metadata": {},
   "outputs": [],
   "source": []
  }
 ],
 "metadata": {
  "kernelspec": {
   "display_name": "Python 3 (ipykernel)",
   "language": "python",
   "name": "python3"
  },
  "language_info": {
   "codemirror_mode": {
    "name": "ipython",
    "version": 3
   },
   "file_extension": ".py",
   "mimetype": "text/x-python",
   "name": "python",
   "nbconvert_exporter": "python",
   "pygments_lexer": "ipython3",
   "version": "3.10.8"
  }
 },
 "nbformat": 4,
 "nbformat_minor": 5
}
