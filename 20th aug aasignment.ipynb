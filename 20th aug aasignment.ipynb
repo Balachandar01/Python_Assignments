{
 "cells": [
  {
   "cell_type": "raw",
   "id": "d1bb90bd-2055-4505-817d-8085c3a2abef",
   "metadata": {},
   "source": [
    "TOPIC: String Based Assignment Problem"
   ]
  },
  {
   "cell_type": "raw",
   "id": "aaaad80e-4ebf-45d4-ab2a-d14ee4065958",
   "metadata": {},
   "source": [
    "1. Write a program to reverse a string."
   ]
  },
  {
   "cell_type": "code",
   "execution_count": 1,
   "id": "cd4c491a-a103-49a5-a079-138b3ba43a68",
   "metadata": {},
   "outputs": [
    {
     "name": "stdin",
     "output_type": "stream",
     "text": [
      "Enter the string :  Balachandar\n"
     ]
    },
    {
     "name": "stdout",
     "output_type": "stream",
     "text": [
      "The reversed string is: radnahcalaB\n"
     ]
    }
   ],
   "source": [
    "string = str(input(\"Enter the string : \"))\n",
    "def rev_string(string):\n",
    "     reversedstring = string[: :-1]\n",
    "     return reversedstring\n",
    "reversedstringfinal = rev_string(string)\n",
    "print(\"The reversed string is:\",reversedstringfinal)\n",
    "\n",
    "    "
   ]
  },
  {
   "cell_type": "raw",
   "id": "506a0683-0872-44b8-be65-e4216c6939f9",
   "metadata": {},
   "source": [
    "2.Check if a string is a palindrome."
   ]
  },
  {
   "cell_type": "code",
   "execution_count": 4,
   "id": "700bfa4b-78b7-4b3f-8fad-c0c831955adf",
   "metadata": {},
   "outputs": [
    {
     "name": "stdin",
     "output_type": "stream",
     "text": [
      "Enter the string :  madam\n"
     ]
    },
    {
     "name": "stdout",
     "output_type": "stream",
     "text": [
      "Yup! it is palindrome\n"
     ]
    }
   ],
   "source": [
    "stringinput = str(input(\"Enter the string : \"))\n",
    "stringrev = stringinput[ : :-1]\n",
    "def ispalindrome():\n",
    "    if stringinput == stringrev:\n",
    "        print(\"Yup! it is palindrome\")\n",
    "    else:\n",
    "        print(\"Nope! it is not palindrome\")\n",
    "ispalindrome()\n",
    "    "
   ]
  },
  {
   "cell_type": "raw",
   "id": "2a681703-3f48-4fd8-aa60-75b579a3f679",
   "metadata": {},
   "source": [
    "3.Convert a string to uppercase."
   ]
  },
  {
   "cell_type": "code",
   "execution_count": 6,
   "id": "9d8486c8-010a-4968-bbf6-0543a9624d3e",
   "metadata": {},
   "outputs": [
    {
     "name": "stdin",
     "output_type": "stream",
     "text": [
      "enter the string :  machine learning\n"
     ]
    },
    {
     "name": "stdout",
     "output_type": "stream",
     "text": [
      "The Result :  MACHINE LEARNING\n"
     ]
    }
   ],
   "source": [
    "stringinput = str(input(\"enter the string : \"))\n",
    "def cnupc():\n",
    "    newstring = stringinput.upper()\n",
    "    print(\"The Result :\",newstring)\n",
    "cnupc()\n",
    "                    "
   ]
  },
  {
   "cell_type": "raw",
   "id": "2d41302d-66cb-4142-8c43-183f34a2c786",
   "metadata": {},
   "source": [
    "4.Convert a string to lowercase."
   ]
  },
  {
   "cell_type": "code",
   "execution_count": 10,
   "id": "a93f8a90-e9ca-4e63-8467-5f7c1eee7054",
   "metadata": {},
   "outputs": [
    {
     "name": "stdin",
     "output_type": "stream",
     "text": [
      "enter the string :  DATA SCIENCE\n"
     ]
    },
    {
     "name": "stdout",
     "output_type": "stream",
     "text": [
      "The Result : data science\n"
     ]
    }
   ],
   "source": [
    "stringinput = str(input(\"enter the string : \"))\n",
    "def cnlwc():\n",
    "    newstring = stringinput.lower()\n",
    "    print(\"The Result :\",newstring)\n",
    "cnlwc()"
   ]
  },
  {
   "cell_type": "raw",
   "id": "26581123-4c73-41db-aad6-e8a57e368b47",
   "metadata": {},
   "source": [
    "5.Count the number of vowels in a string."
   ]
  },
  {
   "cell_type": "code",
   "execution_count": 25,
   "id": "f95f0a3d-b2db-4a23-8d20-01a236677de6",
   "metadata": {},
   "outputs": [
    {
     "name": "stdin",
     "output_type": "stream",
     "text": [
      "Enter the string : balachandar\n"
     ]
    },
    {
     "name": "stdout",
     "output_type": "stream",
     "text": [
      "Total Number of Vowels present = 4\n"
     ]
    }
   ],
   "source": [
    "i_str = str(input(\"Enter the string :\"))\n",
    "f_str = i_str.lower()\n",
    "vowels = (\"a\",\"e\",\"i\",\"o\",\"u\")\n",
    "def vcount():\n",
    "    count = 0\n",
    "    for i in f_str:\n",
    "        if i in vowels:\n",
    "            count += 1\n",
    "    print(\"Total Number of Vowels present =\",count)\n",
    "vcount()\n",
    "    \n",
    "            \n",
    "    "
   ]
  },
  {
   "cell_type": "raw",
   "id": "ae19ab71-ee3b-4172-98d9-bc492568e6fa",
   "metadata": {},
   "source": [
    "6. Count the number of consonants in a string."
   ]
  },
  {
   "cell_type": "code",
   "execution_count": 9,
   "id": "329c75f6-648b-46d5-a908-da3bfbffe6d4",
   "metadata": {},
   "outputs": [
    {
     "name": "stdin",
     "output_type": "stream",
     "text": [
      "enter the string :  Balachandar123\n"
     ]
    },
    {
     "name": "stdout",
     "output_type": "stream",
     "text": [
      "Total no of consonants : 11\n"
     ]
    }
   ],
   "source": [
    "i_str = input(\"enter the string : \")\n",
    "rstr=i_str.lower()\n",
    "consonants=(\"a\",'b','c','d','e','f','g','h','i','j','k','l','m','n','o','p','q','r','s','t','y','u','z','x','v','w')\n",
    "def iscons():\n",
    "        count = 0\n",
    "        for i in rstr:\n",
    "            if i in consonants:\n",
    "                count+=1\n",
    "        print(\"Total no of consonants :\",count)\n",
    "iscons()"
   ]
  },
  {
   "cell_type": "raw",
   "id": "49e75bb2-8282-4dde-98cb-07e502568410",
   "metadata": {},
   "source": [
    "7.Remove all whitespaces from a string."
   ]
  },
  {
   "cell_type": "code",
   "execution_count": 15,
   "id": "f1237fb8-e0c2-487f-89fd-69efbc5e410d",
   "metadata": {},
   "outputs": [
    {
     "name": "stdin",
     "output_type": "stream",
     "text": [
      "Enter the string :  ba la ch ! 1 2 3 4 5 \n"
     ]
    },
    {
     "name": "stdout",
     "output_type": "stream",
     "text": [
      "Enter the string without spaces : balach!12345\n"
     ]
    }
   ],
   "source": [
    "istr=input(\"Enter the string : \")\n",
    "def rwhite():\n",
    "     rstr=istr.replace(\" \",\"\")\n",
    "     print(\"Enter the string without spaces :\",rstr)\n",
    "rwhite()\n",
    "    "
   ]
  },
  {
   "cell_type": "raw",
   "id": "0f3430a2-ddd6-49b4-8252-a828972bb6d0",
   "metadata": {},
   "source": [
    "8.Find the length of a string without using the `len()` function."
   ]
  },
  {
   "cell_type": "code",
   "execution_count": 16,
   "id": "0fd8902d-ecef-4ef5-8147-82648a8a0ade",
   "metadata": {},
   "outputs": [
    {
     "name": "stdin",
     "output_type": "stream",
     "text": [
      "Enter string: Bala1234@\n"
     ]
    },
    {
     "name": "stdout",
     "output_type": "stream",
     "text": [
      "Length of the string is: 9\n"
     ]
    }
   ],
   "source": [
    "istr=input(\"Enter string:\")\n",
    "def lstng():\n",
    "    count=0\n",
    "    for i in istr:\n",
    "        if i in istr:\n",
    "            count+=1\n",
    "    print(\"Length of the string is:\",count)\n",
    "lstng()"
   ]
  },
  {
   "cell_type": "raw",
   "id": "f339425a-3ae4-4f61-a205-d813d1526992",
   "metadata": {},
   "source": [
    "9.Check if a string contains a specific word."
   ]
  },
  {
   "cell_type": "code",
   "execution_count": 18,
   "id": "40078d47-b956-45bc-b8cc-8ec4f08920af",
   "metadata": {},
   "outputs": [
    {
     "name": "stdin",
     "output_type": "stream",
     "text": [
      "Enter the string: pwskills fav mentor is sudhanshu sir\n"
     ]
    },
    {
     "name": "stdout",
     "output_type": "stream",
     "text": [
      "yup! Present\n"
     ]
    }
   ],
   "source": [
    "istr=input(\"Enter the string:\")\n",
    "rstr=istr.replace(\" \",\"\")\n",
    "if 'sudhanshusir' in rstr:\n",
    "        print(\"yup! Present\")\n",
    "else:\n",
    "    print(\"nope! not present\")"
   ]
  },
  {
   "cell_type": "raw",
   "id": "578b141b-82bf-42d2-8cc0-77058a7c9e79",
   "metadata": {},
   "source": [
    "10.Replace a word in a string with another word."
   ]
  },
  {
   "cell_type": "code",
   "execution_count": 8,
   "id": "0554b893-0bee-4f8a-8dca-95a3512e319c",
   "metadata": {},
   "outputs": [
    {
     "name": "stdin",
     "output_type": "stream",
     "text": [
      "enter the string : balakumar\n"
     ]
    },
    {
     "name": "stdout",
     "output_type": "stream",
     "text": [
      "Replaced string  arunkumar\n"
     ]
    }
   ],
   "source": [
    "i_str=input(\"enter the string :\")\n",
    "r_str=i_str.replace(\"bala\",\"arun\")\n",
    "print(\"Replaced string \",r_str)"
   ]
  },
  {
   "cell_type": "raw",
   "id": "9d79cb52-8052-4af4-802a-f9931c7d5607",
   "metadata": {},
   "source": [
    "11. Count the occurrences of a word in a string."
   ]
  },
  {
   "cell_type": "code",
   "execution_count": 9,
   "id": "85e7a6ed-c7d5-4bf4-ba79-6c0573a1be21",
   "metadata": {},
   "outputs": [
    {
     "name": "stdin",
     "output_type": "stream",
     "text": [
      "Enter the string:  winnner!winner\n"
     ]
    },
    {
     "name": "stdout",
     "output_type": "stream",
     "text": [
      "The number of occurences is 2\n"
     ]
    }
   ],
   "source": [
    "i_str=input(\"Enter the string: \")\n",
    "cnts=i_str.count(\"win\")\n",
    "print(\"The number of occurences is\",cnts)"
   ]
  },
  {
   "cell_type": "raw",
   "id": "ab5b56c6-85d1-454e-9508-262189d9b247",
   "metadata": {},
   "source": [
    "12. Find the first occurrence of a word in a string."
   ]
  },
  {
   "cell_type": "code",
   "execution_count": 1,
   "id": "0d45a7e5-3d5a-4f04-a8b7-799da6dc469e",
   "metadata": {},
   "outputs": [
    {
     "name": "stdin",
     "output_type": "stream",
     "text": [
      "ente the string: Balachandar\n"
     ]
    },
    {
     "name": "stdout",
     "output_type": "stream",
     "text": [
      "The first occurrence of word in a string is at 1\n"
     ]
    }
   ],
   "source": [
    "i_str = input(\"ente the string:\")\n",
    "def focr():\n",
    "    res=i_str.index(\"a\")\n",
    "    print(\"The first occurrence of word in a string is at\",res)\n",
    "focr()\n"
   ]
  },
  {
   "cell_type": "raw",
   "id": "c556858f-297a-4168-b07c-4607b244eb4b",
   "metadata": {},
   "source": [
    "13. Find the last occurrence of a word in a string."
   ]
  },
  {
   "cell_type": "code",
   "execution_count": 3,
   "id": "9c671de5-700a-4de3-847a-93da539a2277",
   "metadata": {},
   "outputs": [
    {
     "name": "stdin",
     "output_type": "stream",
     "text": [
      "Enter the string:  Balachandar\n"
     ]
    },
    {
     "name": "stdout",
     "output_type": "stream",
     "text": [
      "The last occurrence of a word in string is at 9\n"
     ]
    }
   ],
   "source": [
    "i_str = input(\"Enter the string: \")\n",
    "def lsocr():\n",
    "    res = i_str.rindex(\"a\")\n",
    "    print(\"The last occurrence of a word in string is at\",res)\n",
    "lsocr()"
   ]
  },
  {
   "cell_type": "raw",
   "id": "7bea4f6c-26a1-43b4-9d9b-73c0293f7c48",
   "metadata": {},
   "source": [
    "14.Split a string into a list of words."
   ]
  },
  {
   "cell_type": "code",
   "execution_count": 4,
   "id": "d6128b96-199e-44d3-97da-0dac36063e68",
   "metadata": {},
   "outputs": [
    {
     "name": "stdin",
     "output_type": "stream",
     "text": [
      "Enter the string:  sivasakthi\n"
     ]
    },
    {
     "name": "stdout",
     "output_type": "stream",
     "text": [
      "The list = ['s', 'i', 'v', 'a', 's', 'a', 'k', 't', 'h', 'i']\n"
     ]
    }
   ],
   "source": [
    "i_str = input(\"Enter the string: \")\n",
    "res=list(i_str)\n",
    "print(\"The list =\",res)"
   ]
  },
  {
   "cell_type": "raw",
   "id": "8d7c7968-223b-42c9-a04c-70e1459389ed",
   "metadata": {},
   "source": [
    "15.Join a list of words into a string."
   ]
  },
  {
   "cell_type": "code",
   "execution_count": 15,
   "id": "61f3db5e-9279-4434-a0b3-9b9697a9b8d2",
   "metadata": {},
   "outputs": [
    {
     "name": "stdout",
     "output_type": "stream",
     "text": [
      "Full stack data science pro 2.00\n"
     ]
    }
   ],
   "source": [
    "l1=[\"Full\",\"stack\",\"data science\",\"pro\",\"2.00\",]\n",
    "res=\" \".join(map(str,l1))\n",
    "print(res)"
   ]
  },
  {
   "cell_type": "raw",
   "id": "f7e29f25-edc5-42d8-b2be-96cd9b952a2e",
   "metadata": {},
   "source": [
    "16.Convert a string where words are separated by spaces to one where words\n",
    "are separated by underscores."
   ]
  },
  {
   "cell_type": "code",
   "execution_count": 16,
   "id": "1ec01cab-4857-45a1-8600-759199f91b5c",
   "metadata": {},
   "outputs": [
    {
     "name": "stdin",
     "output_type": "stream",
     "text": [
      "Enter the string:  B A L A\n"
     ]
    },
    {
     "name": "stdout",
     "output_type": "stream",
     "text": [
      "The words seperated by underscores are = B_A_L_A\n"
     ]
    }
   ],
   "source": [
    "i_str=input(\"Enter the string: \")\n",
    "def us():\n",
    "    res= i_str.replace(\" \",\"_\")\n",
    "    print(\"The words seperated by underscores are =\",res)\n",
    "us()\n"
   ]
  },
  {
   "cell_type": "raw",
   "id": "ac6c850f-22b1-4353-a065-10771be54a77",
   "metadata": {},
   "source": [
    "17.Check if a string starts with a specific word or phrase."
   ]
  },
  {
   "cell_type": "code",
   "execution_count": 27,
   "id": "21b34679-b4e8-4bef-ad55-1b9819aa2b36",
   "metadata": {},
   "outputs": [
    {
     "name": "stdin",
     "output_type": "stream",
     "text": [
      "enter the string: BAVANI\n"
     ]
    },
    {
     "name": "stdout",
     "output_type": "stream",
     "text": [
      "False\n"
     ]
    }
   ],
   "source": [
    "i_str = input(\"enter the string:\")\n",
    "print(i_str.startswith(\"BALA\"))"
   ]
  },
  {
   "cell_type": "raw",
   "id": "276ba81c-317d-471a-b0e3-a69660a73543",
   "metadata": {},
   "source": [
    "18.Check if a string ends with a specific word or phrase."
   ]
  },
  {
   "cell_type": "code",
   "execution_count": 29,
   "id": "b322d9be-1f9b-4576-b0d3-ead3061bdb50",
   "metadata": {},
   "outputs": [
    {
     "name": "stdin",
     "output_type": "stream",
     "text": [
      "enter the string:  Bala 321\n"
     ]
    },
    {
     "name": "stdout",
     "output_type": "stream",
     "text": [
      "False\n"
     ]
    }
   ],
   "source": [
    "i_str = input(\"enter the string: \")\n",
    "print(i_str.endswith(\"123\"))"
   ]
  },
  {
   "cell_type": "raw",
   "id": "11e42a72-7677-4bee-a5bb-cf8eac52c3d6",
   "metadata": {},
   "source": [
    "19. Convert a string to title case."
   ]
  },
  {
   "cell_type": "code",
   "execution_count": 30,
   "id": "ef72c5c4-74bd-47a2-88ae-40fcd84b13db",
   "metadata": {},
   "outputs": [
    {
     "name": "stdin",
     "output_type": "stream",
     "text": [
      "enter the string:  hi bala chandar\n"
     ]
    },
    {
     "name": "stdout",
     "output_type": "stream",
     "text": [
      "Hi Bala Chandar\n"
     ]
    }
   ],
   "source": [
    "i_str = input(\"enter the string: \")\n",
    "res = i_str.title()\n",
    "print(res)"
   ]
  },
  {
   "cell_type": "raw",
   "id": "0151ab36-2e19-46c4-9ff1-0a9b30b05d0b",
   "metadata": {},
   "source": [
    "20. Find the longest word in a string."
   ]
  },
  {
   "cell_type": "code",
   "execution_count": 47,
   "id": "17ba14cb-f8d1-470d-b65f-86f85893a67d",
   "metadata": {},
   "outputs": [
    {
     "name": "stdin",
     "output_type": "stream",
     "text": [
      "enter the string:  BALA1@$ CHANDAR \n"
     ]
    },
    {
     "name": "stdout",
     "output_type": "stream",
     "text": [
      "The longest word in string is CHANDAR and it's length is 7\n"
     ]
    }
   ],
   "source": [
    "i_str = input(\"enter the string: \")\n",
    "rstr = i_str.split()\n",
    "longest_word = \"\"\n",
    "max_len = 0\n",
    "def lw():\n",
    "    for elem in rstr:\n",
    "        global longest_word,max_len\n",
    "        elem = elem.strip(\"!@#$%^&*():,./?;'*\")\n",
    "        if len(elem) > max_len:\n",
    "            max_len = len(elem)\n",
    "            longest_word = elem\n",
    "            \n",
    "    print(\"The longest word in string is\", longest_word,\"and it's length is\",max_len)\n",
    "lw()        \n"
   ]
  },
  {
   "cell_type": "raw",
   "id": "ed600bc4-b1b7-4755-8e1b-aaf2d2789e48",
   "metadata": {},
   "source": [
    "21.Find the shortest word in a string."
   ]
  },
  {
   "cell_type": "code",
   "execution_count": 51,
   "id": "756d0d51-d558-4c80-933f-f976e7df9885",
   "metadata": {},
   "outputs": [
    {
     "name": "stdin",
     "output_type": "stream",
     "text": [
      "enter the string:   BALA1@$ CHANDAR\n"
     ]
    },
    {
     "name": "stdout",
     "output_type": "stream",
     "text": [
      "The shortest word in string is BALA1 and it's length is 5\n"
     ]
    }
   ],
   "source": [
    "i_str = input(\"enter the string: \")\n",
    "rstr = i_str.split()\n",
    "shortest_word = \"\"\n",
    "min_len = float('inf')\n",
    "def lw():\n",
    "    for elem in rstr:\n",
    "        global shortest_word,min_len\n",
    "        elem = elem.strip(\"!@#$%^&*():,./?;'*\")\n",
    "        if len(elem)< min_len:\n",
    "            min_len = len(elem)\n",
    "            shortest_word = elem\n",
    "            \n",
    "    print(\"The shortest word in string is\", shortest_word,\"and it's length is\",min_len)\n",
    "lw()        \n"
   ]
  },
  {
   "cell_type": "raw",
   "id": "c7d8d893-4a89-402b-838c-725fb3b01e05",
   "metadata": {},
   "source": [
    "22.Reverse the order of words in a string."
   ]
  },
  {
   "cell_type": "code",
   "execution_count": 53,
   "id": "8a20e52c-e10a-451d-86b8-f65158a0a30e",
   "metadata": {},
   "outputs": [
    {
     "name": "stdin",
     "output_type": "stream",
     "text": [
      "Enter the string 123 Python! is a pro \n"
     ]
    },
    {
     "name": "stdout",
     "output_type": "stream",
     "text": [
      "The reversed order = pro a is Python! 123\n"
     ]
    }
   ],
   "source": [
    "i_str = input(\"Enter the string\")\n",
    "def rv():\n",
    "    res = i_str.split()\n",
    "    res1 = res[ : :-1]\n",
    "    fres = \" \".join(res1)\n",
    "    print(\"The reversed order =\",fres)\n",
    "rv()"
   ]
  },
  {
   "cell_type": "raw",
   "id": "55cb0e93-eba0-47e6-a0d9-9275842e4654",
   "metadata": {},
   "source": [
    "23. Check if a string is alphanumeric."
   ]
  },
  {
   "cell_type": "code",
   "execution_count": 56,
   "id": "7cc2c7ea-8a5f-4426-a3cc-1055c4b6a3b6",
   "metadata": {},
   "outputs": [
    {
     "name": "stdin",
     "output_type": "stream",
     "text": [
      "Enter the string BALA123\n",
      "Enter the string BALA!\n"
     ]
    },
    {
     "name": "stdout",
     "output_type": "stream",
     "text": [
      "True\n",
      "False\n"
     ]
    }
   ],
   "source": [
    "i_str1 = input(\"Enter the string\")\n",
    "i_str2 = input(\"Enter the string\")\n",
    "print(i_str1.isalnum())\n",
    "print(i_str2.isalnum())"
   ]
  },
  {
   "cell_type": "raw",
   "id": "ff8b904e-5439-482d-b4e1-3ffb69db4359",
   "metadata": {},
   "source": [
    "24. Extract all digits from a string."
   ]
  },
  {
   "cell_type": "code",
   "execution_count": 2,
   "id": "1ee8c2db-6be7-4450-9fb4-8971d97f2213",
   "metadata": {},
   "outputs": [
    {
     "name": "stdin",
     "output_type": "stream",
     "text": [
      "Enter the string 24hmkh53bj6n2\n"
     ]
    },
    {
     "name": "stdout",
     "output_type": "stream",
     "text": [
      "The digits present in a string are =  245362\n"
     ]
    }
   ],
   "source": [
    "I_str = input(\"Enter the string\")\n",
    "result = \" \"\n",
    "for i in I_str:\n",
    "    if i.isdigit():\n",
    "        result += i\n",
    "print(\"The digits present in a string are =\",result)\n",
    "        "
   ]
  },
  {
   "cell_type": "raw",
   "id": "55e09e34-540c-4f2a-8151-13a7c5a0c04c",
   "metadata": {},
   "source": [
    "25.Extract all alphabets from a string."
   ]
  },
  {
   "cell_type": "code",
   "execution_count": 16,
   "id": "b1ec4348-d359-4d13-af8d-e5788d3fc109",
   "metadata": {},
   "outputs": [
    {
     "name": "stdin",
     "output_type": "stream",
     "text": [
      "Enter the string B122A@##L*&^^A\n"
     ]
    },
    {
     "name": "stdout",
     "output_type": "stream",
     "text": [
      "The alphabets present in a string are =  bala\n"
     ]
    }
   ],
   "source": [
    "i_str = input(\"Enter the string\")\n",
    "rstr = i_str.lower()\n",
    "a = ('q','w','e','r','t','y','u','i','o','p','a','s','d','f','g','h','j','k','l','z','x','c','v','b','n','m')\n",
    "ares = \" \"\n",
    "for char in rstr:\n",
    "    if char in a:\n",
    "        ares += char\n",
    "print(\"The alphabets present in a string are =\",ares)"
   ]
  },
  {
   "cell_type": "raw",
   "id": "c4223ad0-dd2a-4b0d-8daf-5a21fffc4ded",
   "metadata": {},
   "source": [
    "26.Count the number of uppercase letters in a string."
   ]
  },
  {
   "cell_type": "code",
   "execution_count": 4,
   "id": "9a174cd0-ca51-41e7-b021-4409d876926c",
   "metadata": {},
   "outputs": [
    {
     "name": "stdin",
     "output_type": "stream",
     "text": [
      "Enter the string BalachandaR12@!\n"
     ]
    },
    {
     "name": "stdout",
     "output_type": "stream",
     "text": [
      "The number of uppercase letter in a string is: 2\n"
     ]
    }
   ],
   "source": [
    "i_str = input(\"Enter the string\")\n",
    "count = 0\n",
    "for i in i_str:\n",
    "    if i.isupper():\n",
    "        count += 1\n",
    "print(\"The number of uppercase letter in a string is:\",count)"
   ]
  },
  {
   "cell_type": "raw",
   "id": "1b70455d-dcdb-4b06-9648-7ae60efbb710",
   "metadata": {},
   "source": [
    "27. Count the number of lowercase letters in a string."
   ]
  },
  {
   "cell_type": "code",
   "execution_count": 5,
   "id": "800cbc4c-be5f-4995-aeb6-83b93f79dec6",
   "metadata": {},
   "outputs": [
    {
     "name": "stdin",
     "output_type": "stream",
     "text": [
      "Enter the string MACHine leaRNING\n"
     ]
    },
    {
     "name": "stdout",
     "output_type": "stream",
     "text": [
      "The number of lowercase letter in a string is: 6\n"
     ]
    }
   ],
   "source": [
    "i_str = input(\"Enter the string\")\n",
    "count = 0\n",
    "for i in i_str:\n",
    "    if i.islower():\n",
    "        count += 1\n",
    "print(\"The number of lowercase letter in a string is:\",count)"
   ]
  },
  {
   "cell_type": "raw",
   "id": "1512453f-d279-4af6-be1c-b203558681af",
   "metadata": {},
   "source": [
    "28. Swap the case of each character in a string."
   ]
  },
  {
   "cell_type": "code",
   "execution_count": 6,
   "id": "1cc6f96a-b7a9-46fb-bba5-128456a214b5",
   "metadata": {},
   "outputs": [
    {
     "name": "stdin",
     "output_type": "stream",
     "text": [
      "Enter the string ELON MUSK\n"
     ]
    },
    {
     "name": "stdout",
     "output_type": "stream",
     "text": [
      "String =  elon musk\n"
     ]
    }
   ],
   "source": [
    "i_str = input(\"Enter the string\")\n",
    "result = i_str.swapcase()\n",
    "print(\"String = \",result)"
   ]
  },
  {
   "cell_type": "raw",
   "id": "43484a2a-3240-4267-8c27-fe376f39e1d7",
   "metadata": {},
   "source": [
    "29. Remove a specific word from a string."
   ]
  },
  {
   "cell_type": "code",
   "execution_count": 16,
   "id": "b8490e18-310c-411a-b662-126248a40497",
   "metadata": {},
   "outputs": [
    {
     "name": "stdin",
     "output_type": "stream",
     "text": [
      "Enter the string bala is!\n"
     ]
    },
    {
     "name": "stdout",
     "output_type": "stream",
     "text": [
      "bala !\n"
     ]
    }
   ],
   "source": [
    "i_str = input(\"Enter the string\")\n",
    "res = i_str.replace(\"is\",\"\")\n",
    "print(res)"
   ]
  },
  {
   "cell_type": "raw",
   "id": "436a27b7-603c-4206-816e-e5b88381b369",
   "metadata": {},
   "source": [
    "30. Check if a string is a valid email address."
   ]
  },
  {
   "cell_type": "code",
   "execution_count": 23,
   "id": "a2d41910-a797-44b7-94e3-b7cb187687e3",
   "metadata": {},
   "outputs": [
    {
     "name": "stdin",
     "output_type": "stream",
     "text": [
      "Enter the string BALA60859@GMAIL.COM\n"
     ]
    },
    {
     "name": "stdout",
     "output_type": "stream",
     "text": [
      "The correct mail = bala60859@gmail.com\n",
      "it is valid email\n"
     ]
    }
   ],
   "source": [
    "i_str = input(\"Enter the string\")\n",
    "rstr = i_str.lower()\n",
    "print(\"The correct mail =\",rstr)\n",
    "email = \"@gmail.com\"\n",
    "if rstr[-1:-10] in email:\n",
    "    print(\"it is valid email\")\n",
    "else:\n",
    "    print(\"it is not a valid email\")"
   ]
  },
  {
   "cell_type": "raw",
   "id": "ac5267a4-6c1e-4f5b-812b-8d74d0885b69",
   "metadata": {},
   "source": [
    "31. Extract the username from an email address string."
   ]
  },
  {
   "cell_type": "code",
   "execution_count": 21,
   "id": "3f1b4e9c-6581-473f-bfa3-85a1338189b7",
   "metadata": {},
   "outputs": [
    {
     "name": "stdin",
     "output_type": "stream",
     "text": [
      "Enter the string  bala60859@gmail.com\n"
     ]
    },
    {
     "name": "stdout",
     "output_type": "stream",
     "text": [
      "The user name =  bala60859\n"
     ]
    }
   ],
   "source": [
    "i_str = input(\"Enter the string\")\n",
    "res = i_str[ :-10]\n",
    "print(\"The user name =\",res)"
   ]
  },
  {
   "cell_type": "raw",
   "id": "abc0c19b-cf5b-4c5d-aba6-848b044e03a6",
   "metadata": {},
   "source": [
    "32. Extract the domain name from an email address string."
   ]
  },
  {
   "cell_type": "code",
   "execution_count": 22,
   "id": "8261e3b0-775f-4707-963c-9de3343c0208",
   "metadata": {},
   "outputs": [
    {
     "name": "stdin",
     "output_type": "stream",
     "text": [
      "Enter the string bala60859@gmail.com\n"
     ]
    },
    {
     "name": "stdout",
     "output_type": "stream",
     "text": [
      "The domain name is : gmail.com\n"
     ]
    }
   ],
   "source": [
    "i_str = input(\"Enter the string\")\n",
    "res = i_str.partition(\"@\")\n",
    "print(\"The domain name is :\",res[2])"
   ]
  },
  {
   "cell_type": "raw",
   "id": "f9f5b63c-9d02-4a00-9baf-c069f8224cfe",
   "metadata": {},
   "source": [
    "33. Replace multiple spaces in a string with a single space."
   ]
  },
  {
   "cell_type": "code",
   "execution_count": 4,
   "id": "96a7eb6b-499a-4451-80a5-636f4dc424a7",
   "metadata": {},
   "outputs": [
    {
     "name": "stdin",
     "output_type": "stream",
     "text": [
      "Enter the string BALA      @        0\n"
     ]
    },
    {
     "name": "stdout",
     "output_type": "stream",
     "text": [
      "BALA @ 0\n"
     ]
    }
   ],
   "source": [
    "def spaces():\n",
    "    i_str = input(\"Enter the string\")\n",
    "    rstr = i_str.split()\n",
    "    result =\" \".join(rstr)\n",
    "    print(result)\n",
    "spaces()"
   ]
  },
  {
   "cell_type": "raw",
   "id": "9975707f-0868-4d1f-b9cc-9f946a60c66e",
   "metadata": {},
   "source": [
    "34. Check if a string is a valid URL."
   ]
  },
  {
   "cell_type": "code",
   "execution_count": 10,
   "id": "bee50960-5d52-41d8-bc3c-fdeb56ab309b",
   "metadata": {},
   "outputs": [
    {
     "name": "stdin",
     "output_type": "stream",
     "text": [
      "Enter the url :  https://www.geeksforgeeks.org/enumerate-in-python/\n"
     ]
    },
    {
     "name": "stdout",
     "output_type": "stream",
     "text": [
      "Valid url\n"
     ]
    }
   ],
   "source": [
    "import re\n",
    "i_str = input(\"Enter the url : \")\n",
    "if (re.findall(r'^(http|https)://[A-Za-z0-9.-]+(\\.[A-Za-z]{2,})?(:\\d+)?(/[^/]*)*$',i_str)):\n",
    "    print(\"Valid url\")\n",
    "else:\n",
    "    print(\"Invalid url\")\n",
    "    "
   ]
  },
  {
   "cell_type": "raw",
   "id": "ecdbe621-b6cc-4f83-9830-a6c3cd6b243e",
   "metadata": {},
   "source": [
    "35.Extract the protocol (http or https) from a URL string."
   ]
  },
  {
   "cell_type": "code",
   "execution_count": 20,
   "id": "174e472a-6c82-49c7-8887-7ff4a69869ad",
   "metadata": {},
   "outputs": [
    {
     "name": "stdin",
     "output_type": "stream",
     "text": [
      "Enter the string1:   http://www.example.com\n"
     ]
    },
    {
     "name": "stdout",
     "output_type": "stream",
     "text": [
      " http\n"
     ]
    }
   ],
   "source": [
    "i_str1 = input(\"Enter the string1: \")\n",
    "res = i_str.find(\"://\")\n",
    "if res != -1:\n",
    "    print(i_str[:res])\n",
    "else:\n",
    "    print(\"None\")"
   ]
  },
  {
   "cell_type": "raw",
   "id": "9a51ccb4-ff84-41b8-957f-d96a9b7ee1b9",
   "metadata": {},
   "source": [
    "36. Find the frequency of each character in a string."
   ]
  },
  {
   "cell_type": "code",
   "execution_count": 36,
   "id": "e38e2373-6498-4476-90fd-c216fdf3d5b4",
   "metadata": {},
   "outputs": [
    {
     "name": "stdin",
     "output_type": "stream",
     "text": [
      "Ente  the string:  HI BalaBHI ...\n"
     ]
    },
    {
     "name": "stdout",
     "output_type": "stream",
     "text": [
      "Char: H Frequency: 2\n",
      "Char: I Frequency: 2\n",
      "Char:   Frequency: 2\n",
      "Char: B Frequency: 2\n",
      "Char: a Frequency: 2\n",
      "Char: l Frequency: 1\n",
      "Char: . Frequency: 3\n"
     ]
    }
   ],
   "source": [
    "def freq(i_str):\n",
    "    i_str = input(\"Ente  the string: \")\n",
    "    re = {}\n",
    "    for char in i_str:\n",
    "        if char in re:\n",
    "            re[char] +=1\n",
    "        else:\n",
    "            re[char] = 1\n",
    "    for char,freq in re.items():\n",
    "        print(\"Char:\",char + \" Frequency:\",freq)\n",
    "freq(i_str)"
   ]
  },
  {
   "cell_type": "raw",
   "id": "c3b4ce06-e8d1-464c-9bf0-d5f5cd10cbab",
   "metadata": {},
   "source": [
    "37.Remove all punctuation from a string."
   ]
  },
  {
   "cell_type": "code",
   "execution_count": 37,
   "id": "a1427e8f-4dd8-44cf-9a67-2031994521ea",
   "metadata": {},
   "outputs": [
    {
     "name": "stdin",
     "output_type": "stream",
     "text": [
      "Enter the string :  Hey! whatsup\n"
     ]
    },
    {
     "name": "stdout",
     "output_type": "stream",
     "text": [
      "String without punctuation = Hey whatsup\n"
     ]
    }
   ],
   "source": [
    "def rpc():\n",
    "    i_str = input(\"Enter the string : \")\n",
    "    res = i_str.replace(\"!\",\"\")\n",
    "    print(\"String without punctuation =\",res)\n",
    "rpc()\n",
    "    "
   ]
  },
  {
   "cell_type": "raw",
   "id": "42120e06-f233-4139-a5cb-e4b5afc14a87",
   "metadata": {},
   "source": [
    "38. Check if a string contains only digits."
   ]
  },
  {
   "cell_type": "code",
   "execution_count": 1,
   "id": "aafa64d8-3841-459c-a1c5-eb4484e68145",
   "metadata": {},
   "outputs": [
    {
     "name": "stdin",
     "output_type": "stream",
     "text": [
      "Enter the string :  0123404b56\n"
     ]
    },
    {
     "name": "stdout",
     "output_type": "stream",
     "text": [
      "False\n"
     ]
    }
   ],
   "source": [
    "i_str = input(\"Enter the string : \")\n",
    "if i_str.isdigit():\n",
    "    print(\"True\")\n",
    "else:\n",
    "    print(\"False\")\n"
   ]
  },
  {
   "cell_type": "raw",
   "id": "bb64d47d-1173-4166-822d-6ffd26d90e17",
   "metadata": {},
   "source": [
    "39. Check if a string contains only alphabets."
   ]
  },
  {
   "cell_type": "code",
   "execution_count": 2,
   "id": "166b5e86-54de-450b-948d-995bbbd5b2bd",
   "metadata": {},
   "outputs": [
    {
     "name": "stdin",
     "output_type": "stream",
     "text": [
      "Enter the string :  BAla\n"
     ]
    },
    {
     "name": "stdout",
     "output_type": "stream",
     "text": [
      "True\n"
     ]
    }
   ],
   "source": [
    "i_str = input(\"Enter the string : \")\n",
    "if i_str.isalpha():\n",
    "    print(\"True\")\n",
    "else:\n",
    "    print(\"False\")\n"
   ]
  },
  {
   "cell_type": "raw",
   "id": "fb1cfd02-eb78-49ef-b77a-6fcdfaad091d",
   "metadata": {},
   "source": [
    "40. Convert a string to a list of characters."
   ]
  },
  {
   "cell_type": "code",
   "execution_count": 3,
   "id": "b39d903d-03f8-4318-a68c-64604fbd038a",
   "metadata": {},
   "outputs": [
    {
     "name": "stdin",
     "output_type": "stream",
     "text": [
      "Enter the string :  Elon musk\n"
     ]
    },
    {
     "name": "stdout",
     "output_type": "stream",
     "text": [
      "['E', 'l', 'o', 'n', ' ', 'm', 'u', 's', 'k']\n"
     ]
    }
   ],
   "source": [
    "i_str = input(\"Enter the string : \")\n",
    "lis = []\n",
    "for char in i_str:\n",
    "    lis.append(char)\n",
    "print(lis)\n"
   ]
  },
  {
   "cell_type": "raw",
   "id": "f11b4a08-f603-4d0f-bf97-b3a3fe59e4f0",
   "metadata": {},
   "source": [
    "41. Check if two strings are anagrams."
   ]
  },
  {
   "cell_type": "code",
   "execution_count": 18,
   "id": "f9806e08-7f55-44e6-a8de-183532c17032",
   "metadata": {},
   "outputs": [
    {
     "name": "stdin",
     "output_type": "stream",
     "text": [
      "Enter the string1  LISTEN\n",
      "Enter the string2  silent\n"
     ]
    },
    {
     "name": "stdout",
     "output_type": "stream",
     "text": [
      "True\n"
     ]
    }
   ],
   "source": [
    "i_st1 = input(\"Enter the string1 \")\n",
    "i_st2 = input(\"Enter the string2 \")\n",
    "def isag():\n",
    "    s1 = i_st1.lower()\n",
    "    s2 = i_st2.lower()\n",
    "    res1 = list(s1)\n",
    "    res2 = list(s2)\n",
    "    if sorted(res1) ==sorted(res2):\n",
    "        print(\"True\")\n",
    "    else:\n",
    "        print(\"False\")\n",
    "isag()\n",
    "\n",
    "\n"
   ]
  },
  {
   "cell_type": "raw",
   "id": "8d1ec1eb-e0c7-4c3b-a6cd-3bfd3a37d359",
   "metadata": {},
   "source": [
    "42. Encode a string using a Caesar cipher."
   ]
  },
  {
   "cell_type": "code",
   "execution_count": 14,
   "id": "854ecb34-86a9-4a77-86eb-5630c6822b5e",
   "metadata": {},
   "outputs": [
    {
     "data": {
      "text/plain": [
       "' TSDS'"
      ]
     },
     "execution_count": 14,
     "metadata": {},
     "output_type": "execute_result"
    }
   ],
   "source": [
    "def encryp(text,n):\n",
    "    result = \" \"\n",
    "    for i in text:\n",
    "        char = i\n",
    "        if char.isupper():\n",
    "            result+= chr((ord(char)+n-65)%26+65)\n",
    "        else:\n",
    "            result+= chr((ord(char)+n-65)%26+97)\n",
    "    return result\n",
    "encryp(text='BALA',n=96)\n",
    "\n",
    "            \n",
    "    "
   ]
  },
  {
   "cell_type": "raw",
   "id": "d0b74831-3512-43d5-8e5a-efd8d2b0ed04",
   "metadata": {},
   "source": [
    "43. Decode a Caesar cipher encoded string."
   ]
  },
  {
   "cell_type": "code",
   "execution_count": 15,
   "id": "e22d9c22-a619-4230-9235-d50229515971",
   "metadata": {},
   "outputs": [
    {
     "data": {
      "text/plain": [
       "' BALA'"
      ]
     },
     "execution_count": 15,
     "metadata": {},
     "output_type": "execute_result"
    }
   ],
   "source": [
    "def deccryp(text,n):\n",
    "    result = \" \"\n",
    "    for i in text:\n",
    "        char = i\n",
    "        if char.isupper():\n",
    "            result+= chr((ord(char)-n-65)%26+65)\n",
    "        else:\n",
    "            result+= chr((ord(char)-n-65)%26+97)\n",
    "    return result\n",
    "deccryp(text='TSDS',n=96)\n",
    "\n",
    "            "
   ]
  },
  {
   "cell_type": "raw",
   "id": "18f29ad1-8bff-4a01-ab5d-91c3b1ea9223",
   "metadata": {},
   "source": [
    "44. Find the most frequent word in a string."
   ]
  },
  {
   "cell_type": "code",
   "execution_count": 32,
   "id": "8fa43fd1-d92a-4030-842e-21297230dbdf",
   "metadata": {},
   "outputs": [
    {
     "name": "stdin",
     "output_type": "stream",
     "text": [
      "Enter the string :  DATA! data dAta bala bala\n"
     ]
    },
    {
     "name": "stdout",
     "output_type": "stream",
     "text": [
      "The Most frequent word in a string is data\n"
     ]
    }
   ],
   "source": [
    "def freq():\n",
    "    res = input(\"Enter the string : \").lower()\n",
    "    new = {}\n",
    "    fin = res.replace(\"!@#$%^&*()_+-=~`<>?:{}|[]\\\\\",\"\" ).split()\n",
    "    for i in fin:\n",
    "        if i in new:\n",
    "            new[i]+=1\n",
    "        else:\n",
    "            new[i]=1\n",
    "    highest_frequency = 0\n",
    "    frequent_word = None\n",
    "    for word,frequency in new.items():\n",
    "        if frequency>highest_frequency:\n",
    "            highest_frequency = frequency\n",
    "            frequent_word = word\n",
    "    return frequent_word\n",
    "result = freq()\n",
    "print(\"The Most frequent word in a string is\",result)\n",
    "\n",
    "    \n",
    "    \n",
    "    "
   ]
  },
  {
   "cell_type": "raw",
   "id": "22eb1ddb-7487-49f3-876d-57a2205ed3ba",
   "metadata": {},
   "source": [
    "45. Find all unique words in a string."
   ]
  },
  {
   "cell_type": "code",
   "execution_count": 1,
   "id": "4fe8598a-de31-4f2b-b102-2f3d3b540066",
   "metadata": {},
   "outputs": [
    {
     "name": "stdin",
     "output_type": "stream",
     "text": [
      "Enter the string :  bala data data bala ,,mn ff\n"
     ]
    },
    {
     "data": {
      "text/plain": [
       "[',,mn', 'bala', 'ff', 'data']"
      ]
     },
     "execution_count": 1,
     "metadata": {},
     "output_type": "execute_result"
    }
   ],
   "source": [
    "def un():\n",
    "    i_str = input(\"Enter the string : \")\n",
    "    fin = i_str.lower()\n",
    "    res = fin.replace(\"!@#$%^&*()_+-=~`<>?:{}|[]\\\\\",\"\" ).split()\n",
    "    uniqueword = set(res)\n",
    "    return list(uniqueword)\n",
    "un()\n",
    "\n",
    "\n",
    "        \n"
   ]
  },
  {
   "cell_type": "raw",
   "id": "f9a049b1-f695-4c48-93de-51b66b5777e5",
   "metadata": {},
   "source": [
    "46. Count the number of syllables in a string."
   ]
  },
  {
   "cell_type": "code",
   "execution_count": 41,
   "id": "22fa6744-959f-4acb-b69f-ff670f98961d",
   "metadata": {},
   "outputs": [
    {
     "name": "stdin",
     "output_type": "stream",
     "text": [
      "Enter the string :  hello\n"
     ]
    },
    {
     "name": "stdout",
     "output_type": "stream",
     "text": [
      "The total number of syllables in a string is  2\n"
     ]
    }
   ],
   "source": [
    "def cs():\n",
    "    i_str = input(\"Enter the string : \")\n",
    "    res = i_str.lower()\n",
    "    syllables = \"aeiou\"\n",
    "    count = 0\n",
    "    for i in res:\n",
    "        if i in syllables:\n",
    "            count+=1\n",
    "    print(\"The total number of syllables in a string is \",count)\n",
    "cs()"
   ]
  },
  {
   "cell_type": "raw",
   "id": "53f5415d-9c31-4652-bf97-fe196bd90b56",
   "metadata": {},
   "source": [
    "47. Check if a string contains any special characters."
   ]
  },
  {
   "cell_type": "code",
   "execution_count": 51,
   "id": "c85777f7-e951-4498-b23b-5144833b321c",
   "metadata": {},
   "outputs": [
    {
     "name": "stdin",
     "output_type": "stream",
     "text": [
      "Enter the string :  BALA@\n"
     ]
    },
    {
     "name": "stdout",
     "output_type": "stream",
     "text": [
      "It contains special character\n"
     ]
    }
   ],
   "source": [
    "def isspecial():\n",
    "    i_str = input(\"Enter the string : \")\n",
    "    specialcharacter = \"~!@#$%^&*()_+`-={}:\\\"<>?[];',./\\|*\"\n",
    "    specialcharacter1 = []\n",
    "    for i in i_str:\n",
    "        if i in specialcharacter:\n",
    "            specialcharacter1+=i\n",
    "    if specialcharacter1 == []:\n",
    "        print(\"It doesn't contains any special characters\")\n",
    "    else:\n",
    "        print(\"It contains special character\")\n",
    "    \n",
    "        \n",
    "isspecial()"
   ]
  },
  {
   "cell_type": "raw",
   "id": "c9dc2e54-b689-44fc-a334-c611c61ad5eb",
   "metadata": {},
   "source": [
    "48.Remove the nth word from a string."
   ]
  },
  {
   "cell_type": "code",
   "execution_count": 59,
   "id": "d0f1a6a2-156e-4dd0-a1e7-dfddf854940e",
   "metadata": {},
   "outputs": [
    {
     "name": "stdin",
     "output_type": "stream",
     "text": [
      "Enter the string :  Remove the nth word from a string.\n"
     ]
    },
    {
     "name": "stdout",
     "output_type": "stream",
     "text": [
      "The Final result = Remove the word from a string.\n"
     ]
    }
   ],
   "source": [
    "def rmnr(n):\n",
    "    i_str = input(\"Enter the string : \")\n",
    "    res = i_str.split()\n",
    "    if 1<=n<len(res):\n",
    "        res.pop(n-1)\n",
    "        modifiedstring = \" \".join(res)\n",
    "        return modifiedstring\n",
    "    else:\n",
    "        return\"n value is not possible\"\n",
    "    \n",
    "print(\"The Final result =\",rmnr(3))\n",
    "    \n",
    "    \n",
    "    "
   ]
  },
  {
   "cell_type": "raw",
   "id": "93344567-f1e1-4d9f-9d00-673be183d0a9",
   "metadata": {},
   "source": [
    "49. Insert a word at the nth position in a string."
   ]
  },
  {
   "cell_type": "code",
   "execution_count": 58,
   "id": "3c088eeb-3349-4437-9c1d-0ff82601986c",
   "metadata": {},
   "outputs": [
    {
     "name": "stdin",
     "output_type": "stream",
     "text": [
      "Enter the string :  Remove the word from a string.\n"
     ]
    },
    {
     "name": "stdout",
     "output_type": "stream",
     "text": [
      "The Final result = Remove the nth word from a string.\n"
     ]
    }
   ],
   "source": [
    "def insn(n):\n",
    "    i_str = input(\"Enter the string : \")\n",
    "    res = i_str.split()\n",
    "    if 1<=n<len(res):\n",
    "        res.insert(n-1,\"nth\")\n",
    "        modifiedstring = \" \".join(res)\n",
    "        return modifiedstring\n",
    "    else:\n",
    "        return \"n value is not possible\"\n",
    "print(\"The Final result =\",insn(3))\n",
    "    "
   ]
  },
  {
   "cell_type": "raw",
   "id": "4dae3ecf-950b-4c40-98f3-a0a2461e3b9e",
   "metadata": {},
   "source": [
    "50. Convert a CSV string to a list of lists."
   ]
  },
  {
   "cell_type": "code",
   "execution_count": 18,
   "id": "9e9b48f5-ec27-475b-8d72-7d30db61c57a",
   "metadata": {},
   "outputs": [
    {
     "name": "stdout",
     "output_type": "stream",
     "text": [
      "[['Name', 'Age', 'Location'], ['Alice', '30', 'New York'], ['Bob', '25', 'Los Angeles'], ['Charlie', '35', 'San Francisco']]\n"
     ]
    }
   ],
   "source": [
    "csv_string = \"\"\"Name,Age,Location\n",
    "Alice,30,New York\n",
    "Bob,25,Los Angeles\n",
    "Charlie,35,San Francisco\"\"\"\n",
    "res = csv_string.split(\"\\n\")\n",
    "d = []\n",
    "for i in res:\n",
    "    if i:\n",
    "        r=i.split(\",\")\n",
    "        d.append(r)\n",
    "print(d)"
   ]
  },
  {
   "cell_type": "raw",
   "id": "f91bef8c-2826-479b-a9a9-c8ed6775920c",
   "metadata": {},
   "source": [
    "LIST BASED PRACTICE PROBLEMS"
   ]
  },
  {
   "cell_type": "raw",
   "id": "76a838c5-4618-4d6a-b539-ece0eee8eb7c",
   "metadata": {},
   "source": [
    "1. Create a list with integers from 1 to 10."
   ]
  },
  {
   "cell_type": "code",
   "execution_count": 20,
   "id": "1be435b8-818e-4676-bcdd-e7a1edfa8e1c",
   "metadata": {},
   "outputs": [
    {
     "data": {
      "text/plain": [
       "[1, 2, 3, 4, 5, 6, 7, 8, 9, 10]"
      ]
     },
     "execution_count": 20,
     "metadata": {},
     "output_type": "execute_result"
    }
   ],
   "source": [
    "[i for i in range (1,11)]"
   ]
  },
  {
   "cell_type": "raw",
   "id": "52dc6a6c-b7e7-4af9-896b-460e88ff2112",
   "metadata": {},
   "source": [
    "2. Find the length of a list without using the `len()` function."
   ]
  },
  {
   "cell_type": "code",
   "execution_count": 21,
   "id": "67dea607-83dc-4eae-a862-99834a161767",
   "metadata": {
    "tags": []
   },
   "outputs": [
    {
     "name": "stdout",
     "output_type": "stream",
     "text": [
      "Length of the List =  10\n"
     ]
    }
   ],
   "source": [
    "l1 = [1, 2, 3, 4, 5, 6, 7, 8, 9, 10]\n",
    "length = 0\n",
    "for i in l1:\n",
    "    length+=1\n",
    "print(\"Length of the List = \",length)"
   ]
  },
  {
   "cell_type": "raw",
   "id": "982c14d8-dfee-44ce-9b85-75843dc22357",
   "metadata": {},
   "source": [
    "3. Append an element to the end of a list."
   ]
  },
  {
   "cell_type": "code",
   "execution_count": 24,
   "id": "107898af-56aa-45e0-b86d-e2c0c3271d06",
   "metadata": {},
   "outputs": [
    {
     "name": "stdout",
     "output_type": "stream",
     "text": [
      "[1, 2, 3, 4, 5, 6, 7, 8, 9, 10, 11]\n"
     ]
    }
   ],
   "source": [
    "l1 = [1, 2, 3, 4, 5, 6, 7, 8, 9, 10]\n",
    "l1.append(11)\n",
    "print(l1)"
   ]
  },
  {
   "cell_type": "raw",
   "id": "332af10d-c1a4-4664-9619-085a2ed982fc",
   "metadata": {},
   "source": [
    "4. Insert an element at a specific index in a list."
   ]
  },
  {
   "cell_type": "code",
   "execution_count": 28,
   "id": "b32f099c-9d5b-4956-b3a4-29c7cf3b8315",
   "metadata": {},
   "outputs": [
    {
     "name": "stdout",
     "output_type": "stream",
     "text": [
      "[1, 2, 3, 4, 5, 6, 7, 8, 9, 0, 10]\n"
     ]
    }
   ],
   "source": [
    "l1 = [1, 2, 3, 4, 5, 6, 7, 8, 9, 10]\n",
    "l1.insert(-1,0)\n",
    "print(l1)"
   ]
  },
  {
   "cell_type": "raw",
   "id": "16798b86-d64c-4b9d-a04d-c552dc120427",
   "metadata": {},
   "source": [
    "5. Remove an element from a list by its value."
   ]
  },
  {
   "cell_type": "code",
   "execution_count": 31,
   "id": "4d018fdb-6855-4a3b-8893-69fdfce34b41",
   "metadata": {},
   "outputs": [
    {
     "name": "stdout",
     "output_type": "stream",
     "text": [
      "[1, 2, 3, 4, 5, 6, 7, 8, 9]\n"
     ]
    }
   ],
   "source": [
    "l1 = [1, 2, 3, 4, 5, 6, 7, 8, 9, 10]\n",
    "l1.remove(10)\n",
    "print(l1)"
   ]
  },
  {
   "cell_type": "raw",
   "id": "5a8b59e2-fe32-402d-9bd4-d1efad5b89e8",
   "metadata": {},
   "source": [
    "6. Remove an element from a list by its index."
   ]
  },
  {
   "cell_type": "code",
   "execution_count": 30,
   "id": "ffa375ce-0a90-43d3-bf46-be61b10d0e3e",
   "metadata": {},
   "outputs": [
    {
     "data": {
      "text/plain": [
       "[2, 3, 4, 5, 6, 7, 8, 9, 10]"
      ]
     },
     "execution_count": 30,
     "metadata": {},
     "output_type": "execute_result"
    }
   ],
   "source": [
    "l1 = [1, 2, 3, 4, 5, 6, 7, 8, 9, 10]\n",
    "l1.pop(0)\n",
    "l1"
   ]
  },
  {
   "cell_type": "raw",
   "id": "31f209ca-1e1f-4caa-9b55-a9849f545f14",
   "metadata": {},
   "source": [
    "7. Check if an element exists in a list."
   ]
  },
  {
   "cell_type": "code",
   "execution_count": 37,
   "id": "319b0517-d578-4437-b084-10ae015de3a7",
   "metadata": {},
   "outputs": [
    {
     "name": "stdout",
     "output_type": "stream",
     "text": [
      "Exist\n"
     ]
    }
   ],
   "source": [
    "l1 = [1, 2, 3, 4, 5, 6, 7, 8, 9, 10]\n",
    "if 2 in l1:\n",
    "    print(\"Exist\")\n",
    "else:\n",
    "    print(\"Not Exist\")\n"
   ]
  },
  {
   "cell_type": "raw",
   "id": "a68c365b-eb4c-415b-8a86-ff0f06e969ac",
   "metadata": {},
   "source": [
    "8. Find the index of the first occurrence of an element in a list."
   ]
  },
  {
   "cell_type": "code",
   "execution_count": 39,
   "id": "88adec13-9a79-4654-9e63-e5d6b71fc43e",
   "metadata": {},
   "outputs": [
    {
     "name": "stdout",
     "output_type": "stream",
     "text": [
      "3\n"
     ]
    }
   ],
   "source": [
    "l1 = [1, 2, 3, 4, 5, 6, 7, 8, 9,4, 10]\n",
    "print(l1.index(4))"
   ]
  },
  {
   "cell_type": "raw",
   "id": "a5bd7488-a563-4bb8-92a2-81385f3aafab",
   "metadata": {},
   "source": [
    "9. Count the occurrences of an element in a list."
   ]
  },
  {
   "cell_type": "code",
   "execution_count": 40,
   "id": "1c0aac53-31bb-4472-a98e-4dab99ffc7ac",
   "metadata": {},
   "outputs": [
    {
     "data": {
      "text/plain": [
       "3"
      ]
     },
     "execution_count": 40,
     "metadata": {},
     "output_type": "execute_result"
    }
   ],
   "source": [
    "l1 = [1, 2, 3, 4, 5,5,6, 7, 8, 9,5,10]\n",
    "l1.count(5)\n"
   ]
  },
  {
   "cell_type": "raw",
   "id": "e4a51eda-c94a-415c-9420-4d7ccdb155ba",
   "metadata": {},
   "source": [
    "10. Reverse the order of elements in a list."
   ]
  },
  {
   "cell_type": "code",
   "execution_count": 43,
   "id": "f15d41ee-eb75-4eec-8231-3c2b811431bf",
   "metadata": {},
   "outputs": [
    {
     "name": "stdout",
     "output_type": "stream",
     "text": [
      "[10, 5, 9, 8, 7, 6, 5, 5, 4, 3, 2, 1]\n"
     ]
    }
   ],
   "source": [
    "l1 = [1, 2, 3, 4, 5,5,6, 7, 8, 9,5,10]\n",
    "l1.reverse()\n",
    "print(l1)"
   ]
  },
  {
   "cell_type": "raw",
   "id": "02308086-28e3-4c6d-a349-da8b959a24d3",
   "metadata": {},
   "source": [
    "11. Sort a list in ascending order."
   ]
  },
  {
   "cell_type": "code",
   "execution_count": 53,
   "id": "acd8bafd-1ba8-4cc3-8cd2-87906b36a461",
   "metadata": {},
   "outputs": [
    {
     "name": "stdout",
     "output_type": "stream",
     "text": [
      "[1, 2, 3, 4, 5, 5, 5, 5, 6, 7, 8, 9, 10, 54, 66, 99]\n"
     ]
    }
   ],
   "source": [
    "l1 = [1, 2, 3, 4, 5,5,6, 99,5,54,66,7, 8, 9,5,10]\n",
    "l1.sort()\n",
    "print(l1)\n"
   ]
  },
  {
   "cell_type": "raw",
   "id": "1f8a1e93-c84a-41d3-84c2-0f7cb0f415ee",
   "metadata": {},
   "source": [
    "12. Sort a list in descending order."
   ]
  },
  {
   "cell_type": "code",
   "execution_count": 52,
   "id": "2d60e25d-2d57-468e-9cf0-392ad6632fba",
   "metadata": {},
   "outputs": [
    {
     "data": {
      "text/plain": [
       "[10, 9, 8, 7, 6, 5, 5, 5, 4, 3, 2, 1]"
      ]
     },
     "execution_count": 52,
     "metadata": {},
     "output_type": "execute_result"
    }
   ],
   "source": [
    "l1 = [1, 2, 3, 4, 5,5,6, 7, 8, 9,5,10]\n",
    "l1.sort(reverse =True)\n",
    "l1"
   ]
  },
  {
   "cell_type": "raw",
   "id": "574872a5-f082-4e67-80f1-abf556b6f91c",
   "metadata": {},
   "source": [
    "13. Create a list of even numbers from 1 to 20."
   ]
  },
  {
   "cell_type": "code",
   "execution_count": 55,
   "id": "7f827138-3e3a-4d49-9f0f-15422b3e41aa",
   "metadata": {},
   "outputs": [
    {
     "data": {
      "text/plain": [
       "[2, 4, 6, 8, 10, 12, 14, 16, 18, 20]"
      ]
     },
     "execution_count": 55,
     "metadata": {},
     "output_type": "execute_result"
    }
   ],
   "source": [
    "[i for i in range(1,20+1) if i %2==0]"
   ]
  },
  {
   "cell_type": "raw",
   "id": "2908c7a9-1b46-4313-93de-ee91d795c56d",
   "metadata": {},
   "source": [
    "14. Create a list of odd numbers from 1 to 20."
   ]
  },
  {
   "cell_type": "code",
   "execution_count": 56,
   "id": "30f06186-f81e-46d8-9592-b86ef8ba7a65",
   "metadata": {},
   "outputs": [
    {
     "data": {
      "text/plain": [
       "[1, 3, 5, 7, 9, 11, 13, 15, 17, 19]"
      ]
     },
     "execution_count": 56,
     "metadata": {},
     "output_type": "execute_result"
    }
   ],
   "source": [
    "[i for i in range(1,20+1) if i %2!=0]"
   ]
  },
  {
   "cell_type": "raw",
   "id": "587ac72c-c82c-4707-bbfa-5d976247e628",
   "metadata": {},
   "source": [
    "15. Find the sum of all elements in a list."
   ]
  },
  {
   "cell_type": "code",
   "execution_count": 57,
   "id": "0293dd35-b570-4bd4-a69d-7d0b3bc785b7",
   "metadata": {},
   "outputs": [
    {
     "name": "stdout",
     "output_type": "stream",
     "text": [
      "100\n"
     ]
    }
   ],
   "source": [
    "l1 = [1, 3, 5, 7, 9, 11, 13, 15, 17, 19]\n",
    "print(sum(l1))"
   ]
  },
  {
   "cell_type": "raw",
   "id": "2bc10e99-eed1-47c6-83f8-8892eee65219",
   "metadata": {},
   "source": [
    "16. Find the maximum value in a list."
   ]
  },
  {
   "cell_type": "code",
   "execution_count": 58,
   "id": "1d129f05-3bef-4a56-88dc-c095812eee2b",
   "metadata": {},
   "outputs": [
    {
     "data": {
      "text/plain": [
       "19"
      ]
     },
     "execution_count": 58,
     "metadata": {},
     "output_type": "execute_result"
    }
   ],
   "source": [
    "l1=[1, 3, 5, 7, 9, 11, 13, 15, 17, 19]\n",
    "max(l1)"
   ]
  },
  {
   "cell_type": "raw",
   "id": "b8e27f05-e7df-44ae-ba75-0c5c7d55ea11",
   "metadata": {},
   "source": [
    "17. Find the minimum value in a list."
   ]
  },
  {
   "cell_type": "code",
   "execution_count": 59,
   "id": "ed816d27-028c-490c-9ad6-c4ab0aed685e",
   "metadata": {},
   "outputs": [
    {
     "data": {
      "text/plain": [
       "1"
      ]
     },
     "execution_count": 59,
     "metadata": {},
     "output_type": "execute_result"
    }
   ],
   "source": [
    "l1 =[1, 3, 5, 7, 9, 11, 13, 15, 17, 19]\n",
    "min(l1)"
   ]
  },
  {
   "cell_type": "raw",
   "id": "e25aaeac-0f9c-4107-8fa9-440de13322d8",
   "metadata": {},
   "source": [
    "18. Create a list of squares of numbers from 1 to 10."
   ]
  },
  {
   "cell_type": "code",
   "execution_count": 60,
   "id": "ef26bd03-1ab7-4927-86b0-bd31991069ee",
   "metadata": {},
   "outputs": [
    {
     "data": {
      "text/plain": [
       "[1, 4, 9, 16, 25, 36, 49, 64, 81, 100]"
      ]
     },
     "execution_count": 60,
     "metadata": {},
     "output_type": "execute_result"
    }
   ],
   "source": [
    "[i*i for i in range(1,10+1)]"
   ]
  },
  {
   "cell_type": "raw",
   "id": "d02cf53e-cb0b-4a23-9f9d-1a75d254443d",
   "metadata": {},
   "source": [
    "19. Create a list of random numbers."
   ]
  },
  {
   "cell_type": "code",
   "execution_count": 67,
   "id": "498a3742-9cde-4b4c-b159-30332bb4b2f0",
   "metadata": {},
   "outputs": [
    {
     "data": {
      "text/plain": [
       "[56, 42, 11, 49, 54, 69, 74, 87, 14, 19, 89]"
      ]
     },
     "execution_count": 67,
     "metadata": {},
     "output_type": "execute_result"
    }
   ],
   "source": [
    "import random \n",
    "[random.randint(1,100) for i in range(10+1)]"
   ]
  },
  {
   "cell_type": "raw",
   "id": "a43f1707-fec5-4d16-8206-d6fbd0621601",
   "metadata": {},
   "source": [
    "20. Remove duplicates from a list."
   ]
  },
  {
   "cell_type": "code",
   "execution_count": 68,
   "id": "d4eeb878-72dc-4987-b0b4-4c41e8bdf82f",
   "metadata": {},
   "outputs": [
    {
     "name": "stdout",
     "output_type": "stream",
     "text": [
      "[0, 1, 2, 33, 66, 98, 8, 78, 55, 22, 1111, 89]\n"
     ]
    }
   ],
   "source": [
    "l1 = [1,2,22,22,33,1111,1111,1,55,66,78,89,98,89,0,0,8,8]\n",
    "res = set(l1)\n",
    "print(list(res))"
   ]
  },
  {
   "cell_type": "raw",
   "id": "d201659a-3a97-4732-9734-030815e35c58",
   "metadata": {},
   "source": [
    "21. Find the common elements between two lists."
   ]
  },
  {
   "cell_type": "code",
   "execution_count": 3,
   "id": "d1800bbe-2b26-468c-9789-2267b9a6170d",
   "metadata": {},
   "outputs": [
    {
     "name": "stdout",
     "output_type": "stream",
     "text": [
      "[1, 3, 5]\n"
     ]
    }
   ],
   "source": [
    "def common(l1,l2):\n",
    "    res =[]\n",
    "    for i in l1:\n",
    "        if i in l2:\n",
    "            res.append(i)\n",
    "    print(res)\n",
    "common(l1 =[1,2,3,4,5,6,7],l2 =[1,3,5,55,666,66])                   "
   ]
  },
  {
   "cell_type": "raw",
   "id": "cba22499-9c51-4983-ad3d-77bafdc744f0",
   "metadata": {},
   "source": [
    "22. Find the difference between two lists."
   ]
  },
  {
   "cell_type": "code",
   "execution_count": 4,
   "id": "ad443a7f-6178-4c8e-9827-51b125836358",
   "metadata": {},
   "outputs": [
    {
     "name": "stdout",
     "output_type": "stream",
     "text": [
      "[2, 4, 6, 7]\n"
     ]
    }
   ],
   "source": [
    "def common(l1,l2):\n",
    "    res =[]\n",
    "    for i in l1:\n",
    "        if i not in l2:\n",
    "            res.append(i)\n",
    "    print(res)\n",
    "common(l1 =[1,2,3,4,5,6,7],l2 =[1,3,5,55,666,66])                   "
   ]
  },
  {
   "cell_type": "raw",
   "id": "610ff72e-04bc-4dd8-9e09-c3544212948e",
   "metadata": {},
   "source": [
    "23. Merge two lists."
   ]
  },
  {
   "cell_type": "code",
   "execution_count": 6,
   "id": "3fb89614-be70-44b8-a2a7-38984eb6cb23",
   "metadata": {},
   "outputs": [
    {
     "name": "stdout",
     "output_type": "stream",
     "text": [
      "[1, 2, 3, 4, 5, 6, 7, 1, 3, 5, 55, 666, 66]\n"
     ]
    }
   ],
   "source": [
    "l1 =[1,2,3,4,5,6,7]\n",
    "l2 =[1,3,5,55,666,66]\n",
    "l1.extend(l2)\n",
    "print(l1)"
   ]
  },
  {
   "cell_type": "raw",
   "id": "76ae98e5-e8a2-49b3-a59c-5a67f27b7ab8",
   "metadata": {},
   "source": [
    "24. Multiply all elements in a list by 2."
   ]
  },
  {
   "cell_type": "code",
   "execution_count": 7,
   "id": "fc87f581-2147-468f-aee2-8781c2a56c53",
   "metadata": {},
   "outputs": [
    {
     "name": "stdout",
     "output_type": "stream",
     "text": [
      "[2, 4, 6, 8, 10, 12, 14]\n"
     ]
    }
   ],
   "source": [
    "l1 =[1,2,3,4,5,6,7]\n",
    "res = []\n",
    "for i in l1:\n",
    "    res.append(i*2)\n",
    "print(res)\n",
    "    "
   ]
  },
  {
   "cell_type": "raw",
   "id": "845e0de5-83e0-4de4-910c-017e91569e1a",
   "metadata": {},
   "source": [
    "25. Filter out all even numbers from a list."
   ]
  },
  {
   "cell_type": "code",
   "execution_count": 8,
   "id": "4e91274f-4b9b-4ed8-b1be-d584dfdfc507",
   "metadata": {},
   "outputs": [
    {
     "data": {
      "text/plain": [
       "[2, 4, 6, 8, 10]"
      ]
     },
     "execution_count": 8,
     "metadata": {},
     "output_type": "execute_result"
    }
   ],
   "source": [
    "l1=[1,2,3,4,5,6,7,8,9,10]\n",
    "res = [i for i in l1 if i%2==0]\n",
    "res"
   ]
  },
  {
   "cell_type": "raw",
   "id": "610cf8fe-38c3-44f0-a946-14d426331601",
   "metadata": {},
   "source": [
    "26. Convert a list of strings to a list of integers."
   ]
  },
  {
   "cell_type": "code",
   "execution_count": 11,
   "id": "58fbd5ce-5f15-4e48-b5a4-483e96d16d2b",
   "metadata": {},
   "outputs": [
    {
     "name": "stdout",
     "output_type": "stream",
     "text": [
      "[1, 2, 3, 4]\n"
     ]
    }
   ],
   "source": [
    "l1 = [\"1\",\"2\",\"3\",\"4\"]\n",
    "res = []\n",
    "for i in l1:\n",
    "    res.append(int(i))\n",
    "print(res)\n",
    "    "
   ]
  },
  {
   "cell_type": "raw",
   "id": "003c5a3b-c1b4-48e7-98e6-40db1fa0fd53",
   "metadata": {},
   "source": [
    "27. Convert a list of integers to a list of strings."
   ]
  },
  {
   "cell_type": "code",
   "execution_count": 12,
   "id": "2f7d1745-ebb3-419d-b9ff-6b20943c39c5",
   "metadata": {},
   "outputs": [
    {
     "name": "stdout",
     "output_type": "stream",
     "text": [
      "['1', '2', '3', '4']\n"
     ]
    }
   ],
   "source": [
    "l1 = [1,2,3,4]\n",
    "res = []\n",
    "for i in l1:\n",
    "    res.append(str(i))\n",
    "print(res)"
   ]
  },
  {
   "cell_type": "raw",
   "id": "7d9aab71-3aab-4322-a038-f3642b40e79d",
   "metadata": {},
   "source": [
    "28. Flatten a nested list."
   ]
  },
  {
   "cell_type": "code",
   "execution_count": 15,
   "id": "74b9c662-7ab0-4b14-8bc6-c1e95abe6ef2",
   "metadata": {},
   "outputs": [
    {
     "name": "stdout",
     "output_type": "stream",
     "text": [
      "[[1, 4, 5], 45, 5, 5, [66, 66, 77, '**', 'bala', True]]\n"
     ]
    }
   ],
   "source": [
    "def flp(nested_list):\n",
    "    flatten_list = []\n",
    "    for items in nested_list:\n",
    "        if isinstance(items,list):\n",
    "            flatten_list.append(flp(items))\n",
    "        else:\n",
    "            flatten_list.append(items)\n",
    "    return flatten_list\n",
    "nested_list = [[1,4,5],45,5,5,[66,66,77,\"**\",\"bala\",True]]\n",
    "result =flp( nested_list)\n",
    "print(result)"
   ]
  },
  {
   "cell_type": "raw",
   "id": "f5c3ab3f-ed57-4c59-b8f9-feee4d5c4bc2",
   "metadata": {},
   "source": [
    "29. Create a list of the first 10 Fibonacci numbers."
   ]
  },
  {
   "cell_type": "code",
   "execution_count": 26,
   "id": "42d1cd37-dd27-4122-9a4b-5583017504ca",
   "metadata": {},
   "outputs": [
    {
     "data": {
      "text/plain": [
       "[0, 1, 1, 2, 3, 5, 8, 13, 21, 34]"
      ]
     },
     "execution_count": 26,
     "metadata": {},
     "output_type": "execute_result"
    }
   ],
   "source": [
    "def fibseq(n):\n",
    "    fib_num =[0,1]\n",
    "    while len(fib_num)<n:\n",
    "        res = fib_num[-1]+fib_num[-2]\n",
    "        fib_num.append(res)\n",
    "    return fib_num\n",
    "fibseq(10)"
   ]
  },
  {
   "cell_type": "raw",
   "id": "7fcaeb57-75c9-4f09-b237-5cde20187891",
   "metadata": {},
   "source": [
    "30. Check if a list is sorted."
   ]
  },
  {
   "cell_type": "code",
   "execution_count": 13,
   "id": "6f3a6311-d374-4c5f-910f-08f57906698d",
   "metadata": {},
   "outputs": [
    {
     "name": "stdout",
     "output_type": "stream",
     "text": [
      "List is not sorted\n"
     ]
    }
   ],
   "source": [
    "def issort(ls):\n",
    "    for i in range(1,len(ls)):\n",
    "        if ls[i]< ls[i-1]:\n",
    "            return False\n",
    "    return True\n",
    "ls = [1,2,33,4,5,6,7,8,0]\n",
    "if issort(ls):\n",
    "    print(\"The list is sorted\")\n",
    "else:\n",
    "    print(\"List is not sorted\")"
   ]
  },
  {
   "cell_type": "raw",
   "id": "cd537336-4cd6-4f66-9b7c-715f6a7a9e5b",
   "metadata": {},
   "source": [
    "31. Rotate a list to the left by `n` positions."
   ]
  },
  {
   "cell_type": "code",
   "execution_count": 4,
   "id": "ad9fb7f8-7026-422f-a1fe-c274437bfe6d",
   "metadata": {},
   "outputs": [
    {
     "name": "stdout",
     "output_type": "stream",
     "text": [
      "The Rotated list = [4, 5, 1, 2, 3]\n"
     ]
    }
   ],
   "source": [
    "def rotatelef(lst,n):\n",
    "    n%len(lst)\n",
    "    res = lst[n:]+lst[:n]\n",
    "    return res\n",
    "lst = [1,2,3,4,5]\n",
    "rotated = rotatelef(lst,3)\n",
    "print(\"The Rotated list =\",rotated)"
   ]
  },
  {
   "cell_type": "raw",
   "id": "f59b19dd-9dfc-4d17-a75e-43b20c093cd6",
   "metadata": {},
   "source": [
    "32. Rotate a list to the right by `n` positions."
   ]
  },
  {
   "cell_type": "code",
   "execution_count": 21,
   "id": "609c9afb-2f4c-4512-ab43-1b8a98f5bb02",
   "metadata": {},
   "outputs": [
    {
     "name": "stdout",
     "output_type": "stream",
     "text": [
      "The Rotated list = [3, 4, 5, 1, 2]\n"
     ]
    }
   ],
   "source": [
    "def rotateryt(lst,n):\n",
    "    n%len(lst)\n",
    "    res = lst[-n:]+lst[:-n]\n",
    "    return res\n",
    "lst = [1,2,3,4,5]\n",
    "rotated = rotateryt(lst,3)\n",
    "print(\"The Rotated list =\",rotated)"
   ]
  },
  {
   "cell_type": "raw",
   "id": "b0b70eac-38ad-4fdc-91dc-9c0501c25600",
   "metadata": {},
   "source": [
    "33. Create a list of prime numbers up to 50."
   ]
  },
  {
   "cell_type": "code",
   "execution_count": 20,
   "id": "d01cac5a-160c-407e-b4bd-3913e9e9d826",
   "metadata": {},
   "outputs": [
    {
     "name": "stdout",
     "output_type": "stream",
     "text": [
      "[1, 2, 3, 4, 5, 6, 7, 8, 9, 10, 11, 12, 13, 14, 15, 16, 17, 18, 19, 20, 21, 22, 23, 24, 25, 26, 27, 28, 29, 30, 31, 32, 33, 34, 35, 36, 37, 38, 39, 40, 41, 42, 43, 44, 45, 46, 47, 48, 49, 50] "
     ]
    }
   ],
   "source": [
    "res = [i for i in range(1,50+1)if i%i ==0] \n",
    "print(res ,end = \" \")"
   ]
  },
  {
   "cell_type": "raw",
   "id": "269d23e9-9bd4-4e2d-b2ce-8e421f300f10",
   "metadata": {},
   "source": [
    "34. Split a list into chunks of size `n`."
   ]
  },
  {
   "cell_type": "code",
   "execution_count": 39,
   "id": "0a7b95dd-5999-4d9c-8ac5-f396cdddce3c",
   "metadata": {},
   "outputs": [
    {
     "name": "stdout",
     "output_type": "stream",
     "text": [
      "[[1, 2, 3, 4, 5, 6, 7, 7, 8, 90], [12, 2, 3, 4, 5, 6, 7, 8, 9, 1], [2, 3, 34, 4, 555, 66, 666, 6, 7777, 898765], [34543]]\n"
     ]
    }
   ],
   "source": [
    "def chunks(lst,n): \n",
    "    for i in range(0,len(lst),n): \n",
    "        yield lst[i : i+n] \n",
    "result = list(chunks(lst,10)) \n",
    "print(result)"
   ]
  },
  {
   "cell_type": "code",
   "execution_count": 2,
   "id": "1e1a3c98-ef4b-4fc2-8681-80b74f59f05f",
   "metadata": {},
   "outputs": [
    {
     "name": "stdout",
     "output_type": "stream",
     "text": [
      "[[1, 2, 3, 4, 5, 6, 7, 7, 8, 90], [12, 2, 3, 4, 5, 6, 7, 8, 9, 1], [2, 3, 34, 4, 555, 66, 666, 6, 7777, 898765], [34543]]\n"
     ]
    }
   ],
   "source": [
    "lst = [1,2,3,4,5,6,7,7,8,90,12,2,3,4,5,6,7,8,9,1,2,3,34,4,555,66,666,6,7777,898765,34543]\n",
    "n = 10\n",
    "res = [lst[i*n :(i+1)*n] for i in range((len(lst) + n-1)//n)]\n",
    "print(res)\n"
   ]
  },
  {
   "cell_type": "code",
   "execution_count": null,
   "id": "0d417b5a-540d-4e3e-8c27-075b595afe30",
   "metadata": {},
   "outputs": [],
   "source": [
    "35. Find the second largest number in a list."
   ]
  },
  {
   "cell_type": "code",
   "execution_count": 9,
   "id": "cbd78ee7-d880-4fa7-a96b-edd60fa176c3",
   "metadata": {},
   "outputs": [
    {
     "name": "stdout",
     "output_type": "stream",
     "text": [
      "The second largest number in the list is 34543\n"
     ]
    }
   ],
   "source": [
    "lst = [1,2,3,4,5,6,7,7,8,90,12,2,3,4,5,6,7,8,9,1,2,3,34,4,555,66,666,6,7777,898765,34543]\n",
    "def secondl(l):\n",
    "    res = sorted(set(lst))\n",
    "    return res[-2]\n",
    "results = secondl(lst)\n",
    "print(\"The second largest number in the list is\",results)"
   ]
  },
  {
   "cell_type": "raw",
   "id": "df39d052-a5e8-4689-9473-67aba19e7fac",
   "metadata": {},
   "source": [
    "36. Replace every element in a list with its square."
   ]
  },
  {
   "cell_type": "code",
   "execution_count": 3,
   "id": "a62a89bc-41d0-4e5b-97cf-1cad395b1753",
   "metadata": {},
   "outputs": [
    {
     "name": "stdout",
     "output_type": "stream",
     "text": [
      "[1, 4, 9, 16, 25, 36, 49]\n"
     ]
    }
   ],
   "source": [
    "lst = [1,2,3,4,5,6,7]\n",
    "res=[i*i for i in lst]\n",
    "print(res)"
   ]
  },
  {
   "cell_type": "raw",
   "id": "79b8225d-20b1-46f9-a278-a996d5207a4d",
   "metadata": {},
   "source": [
    "37. Convert a list to a dictionary where list elements become keys and their\n",
    "indices become values."
   ]
  },
  {
   "cell_type": "code",
   "execution_count": 12,
   "id": "9cb2bf7f-88ed-4c50-a3d4-b0252b583723",
   "metadata": {},
   "outputs": [
    {
     "name": "stdout",
     "output_type": "stream",
     "text": [
      "{1: 0, 4: 1, 8: 2, 10: 3, 11: 4, 6: 5, 7: 6}\n"
     ]
    }
   ],
   "source": [
    "l1 = [1,4,8,10,11,6,7]\n",
    "res = {}\n",
    "for i,num in enumerate (l1):\n",
    "    res[num] = i\n",
    "print(res)"
   ]
  },
  {
   "cell_type": "raw",
   "id": "3b83049c-892c-4054-9f6d-7b798865cbd1",
   "metadata": {},
   "source": [
    "38. Shuffle the elements of a list randomly."
   ]
  },
  {
   "cell_type": "code",
   "execution_count": 19,
   "id": "fb4246dc-8fb9-4736-900d-1421908afdf0",
   "metadata": {},
   "outputs": [
    {
     "data": {
      "text/plain": [
       "[5, 10, 1, 9, 8, 3, 6, 7, 4, 2]"
      ]
     },
     "execution_count": 19,
     "metadata": {},
     "output_type": "execute_result"
    }
   ],
   "source": [
    "l1 = [1,2,3,4,5,6,7,8,9,10]\n",
    "import random\n",
    "random.shuffle(l1)\n",
    "l1"
   ]
  },
  {
   "cell_type": "raw",
   "id": "5091d482-d11d-4819-be8f-5d15be5d3097",
   "metadata": {},
   "source": [
    "39. Create a list of the first 10 factorial numbers."
   ]
  },
  {
   "cell_type": "code",
   "execution_count": 21,
   "id": "47f47d28-1ca7-4fe5-826a-9db5ea23a06a",
   "metadata": {},
   "outputs": [
    {
     "data": {
      "text/plain": [
       "[0, 1, 2, 6, 24, 120, 720, 5040, 40320, 362880, 3628800]"
      ]
     },
     "execution_count": 21,
     "metadata": {},
     "output_type": "execute_result"
    }
   ],
   "source": [
    "def fact(n):\n",
    "        if n==0 or n==1:\n",
    "            return n\n",
    "        else:\n",
    "            return n* fact(n-1)\n",
    "res = [fact(i) for i in range(0,10+1)] \n",
    "res"
   ]
  },
  {
   "cell_type": "raw",
   "id": "b72ab3c9-ccff-45f0-957e-61d17b788e9a",
   "metadata": {},
   "source": [
    "40. Check if two lists have at least one element in common."
   ]
  },
  {
   "cell_type": "code",
   "execution_count": 25,
   "id": "a7aaa64a-40b3-4e1f-9336-5a24db6f070c",
   "metadata": {},
   "outputs": [
    {
     "name": "stdout",
     "output_type": "stream",
     "text": [
      "two lists have at least one element in common\n"
     ]
    }
   ],
   "source": [
    "l1 = [1,2,3,4,5]\n",
    "l2 = [10,9,8,7,5,6]\n",
    "def onec():\n",
    "    for i in l1:\n",
    "        if i in l2:\n",
    "            return True\n",
    "    return False\n",
    "if onec():\n",
    "    print(\"two lists have at least one element in common\")\n",
    "else:\n",
    "    print(\"Nope\")"
   ]
  },
  {
   "cell_type": "raw",
   "id": "a2433278-f45a-43b1-b36b-379cb9601d7d",
   "metadata": {},
   "source": [
    "41. Remove all elements from a list."
   ]
  },
  {
   "cell_type": "code",
   "execution_count": 31,
   "id": "279e1374-066f-4ff3-9634-2cf214ee0afa",
   "metadata": {},
   "outputs": [
    {
     "data": {
      "text/plain": [
       "[]"
      ]
     },
     "execution_count": 31,
     "metadata": {},
     "output_type": "execute_result"
    }
   ],
   "source": [
    "l1 = [1,2,3,4,5]\n",
    "l1.clear()\n",
    "l1"
   ]
  },
  {
   "cell_type": "raw",
   "id": "2045aac5-b8fc-4dad-8650-edefdef64ecc",
   "metadata": {},
   "source": [
    "42. Replace negative numbers in a list with 0."
   ]
  },
  {
   "cell_type": "code",
   "execution_count": 39,
   "id": "e42101bf-6f03-4431-a432-17302498ed6f",
   "metadata": {},
   "outputs": [
    {
     "data": {
      "text/plain": [
       "[1, 2, 3, 0, 0, 778, 0]"
      ]
     },
     "execution_count": 39,
     "metadata": {},
     "output_type": "execute_result"
    }
   ],
   "source": [
    "l1 =[1,2,3,4-5,-6,778,0]\n",
    "for i in range(len(l1)):\n",
    "    if l1[i]<0:\n",
    "        l1[i] = 0\n",
    "l1"
   ]
  },
  {
   "cell_type": "raw",
   "id": "b840e18f-ad03-485f-b6f8-09c90a7167ae",
   "metadata": {},
   "source": [
    "43. Convert a string into a list of words."
   ]
  },
  {
   "cell_type": "code",
   "execution_count": 41,
   "id": "859c3c57-ce30-49d0-a8dc-07028fdb6a9c",
   "metadata": {},
   "outputs": [
    {
     "name": "stdin",
     "output_type": "stream",
     "text": [
      "Enter the string :  VIRAT KOHLI\n"
     ]
    },
    {
     "name": "stdout",
     "output_type": "stream",
     "text": [
      "['V', 'I', 'R', 'A', 'T', ' ', 'K', 'O', 'H', 'L', 'I']\n"
     ]
    }
   ],
   "source": [
    "i_str = input(\"Enter the string : \")\n",
    "res = []\n",
    "for i in i_str:\n",
    "    res.append(i)\n",
    "print(res)"
   ]
  },
  {
   "cell_type": "raw",
   "id": "97c387fe-b5a5-4ff4-8784-5a787b3ea0ba",
   "metadata": {},
   "source": [
    "43. Convert a string into a list of words."
   ]
  },
  {
   "cell_type": "code",
   "execution_count": 2,
   "id": "cfcdc235-20f0-411c-8f27-6bfebb0faafa",
   "metadata": {},
   "outputs": [
    {
     "name": "stdout",
     "output_type": "stream",
     "text": [
      "['VIRAT', 'KOHLI']\n"
     ]
    }
   ],
   "source": [
    "istr = \"VIRAT KOHLI\"\n",
    "def dt():\n",
    "        res1 = []\n",
    "        res=istr.split()\n",
    "        for i in res:\n",
    "            res1.append(i)\n",
    "        print(res1)\n",
    "dt()\n",
    "\n"
   ]
  },
  {
   "cell_type": "raw",
   "id": "78615ad3-3221-4bbd-839d-c6f79923eb95",
   "metadata": {},
   "source": [
    "45. Create a list of the first `n` powers of 2."
   ]
  },
  {
   "cell_type": "code",
   "execution_count": 15,
   "id": "75ac5047-f278-4c1c-878f-956fda070b4a",
   "metadata": {},
   "outputs": [
    {
     "name": "stdout",
     "output_type": "stream",
     "text": [
      "[1, 2, 4]\n"
     ]
    }
   ],
   "source": [
    "def sd(n):\n",
    "    res = [2**i for i in range (n)]\n",
    "    return res\n",
    "result = sd(3)\n",
    "print(result)"
   ]
  },
  {
   "cell_type": "raw",
   "id": "38710278-bc63-454c-8065-96edc2142e2d",
   "metadata": {},
   "source": [
    "46. Find the longest string in a list of strings."
   ]
  },
  {
   "cell_type": "code",
   "execution_count": 24,
   "id": "24f95951-f7cf-4a65-a2ee-1b6fae1b9dc8",
   "metadata": {},
   "outputs": [
    {
     "name": "stdout",
     "output_type": "stream",
     "text": [
      "The longest string in this list is arunkumar\n"
     ]
    }
   ],
   "source": [
    "def lstr(l):\n",
    "    longest_string = \" \"\n",
    "    for i in l:\n",
    "        if len(i)> len(longest_string):\n",
    "            longest_string = i\n",
    "    return longest_string\n",
    "string = [\"bala\",\"arunkumar\",\"baskaran\",\"radha\"]\n",
    "print(\"The longest string in this list is\",lstr(string))"
   ]
  },
  {
   "cell_type": "raw",
   "id": "fd3bb091-f3f0-44d5-9b28-0ceac5e3a778",
   "metadata": {},
   "source": [
    "47. Find the shortest string in a list of strings."
   ]
  },
  {
   "cell_type": "code",
   "execution_count": 30,
   "id": "9f3c4b9b-f153-49e4-8732-1c1b9c39db49",
   "metadata": {},
   "outputs": [
    {
     "name": "stdout",
     "output_type": "stream",
     "text": [
      "The shortest string in this list is bala\n"
     ]
    }
   ],
   "source": [
    "def lstr(l):\n",
    "    shortest_string = l[0]\n",
    "    for i in l:\n",
    "        if len(i)<len(shortest_string):\n",
    "            shortest_string = i\n",
    "    return shortest_string\n",
    "string = [\"bala\",\"arunkumar\",\"baskaran\",\"radha\"]\n",
    "print(\"The shortest string in this list is\",lstr(string))"
   ]
  },
  {
   "cell_type": "raw",
   "id": "08e6fa47-512a-4a49-b2d5-6b72c657f82f",
   "metadata": {},
   "source": [
    "48. Create a list of the first `n` triangular numbers."
   ]
  },
  {
   "cell_type": "code",
   "execution_count": 13,
   "id": "a89be701-8e2e-4bb4-9b9d-875a39ef9f9e",
   "metadata": {},
   "outputs": [
    {
     "data": {
      "text/plain": [
       "[1, 3, 6, 10, 15, 21, 28, 36, 45, 55]"
      ]
     },
     "execution_count": 13,
     "metadata": {},
     "output_type": "execute_result"
    }
   ],
   "source": [
    "def tri(n):\n",
    "    res = [i*(i+1)//2 for i in range(1,n+1)]\n",
    "    return res\n",
    "tri(10)"
   ]
  },
  {
   "cell_type": "raw",
   "id": "4c60d799-546a-43c2-945e-89eec7973780",
   "metadata": {},
   "source": [
    "49. Check if a list contains another list as a subsequence."
   ]
  },
  {
   "cell_type": "code",
   "execution_count": 33,
   "id": "e18bda09-0ca7-4aa1-9405-0b7048ba7cc6",
   "metadata": {},
   "outputs": [
    {
     "name": "stdout",
     "output_type": "stream",
     "text": [
      "List contains other sublist\n"
     ]
    }
   ],
   "source": [
    "l1  = [1,2,3,4,[\"bla\",1,2],45]\n",
    "def subs(l1):\n",
    "    for i in l1:\n",
    "        if isinstance(i,list):\n",
    "            return True\n",
    "    else:\n",
    "        return False\n",
    "if subs(l1):\n",
    "    print(\"List contains other sublist\")\n",
    "else:\n",
    "    print(\"it doesn't\")"
   ]
  },
  {
   "cell_type": "raw",
   "id": "ea9f1940-c358-4f3a-8888-f3eb7e1ef3f0",
   "metadata": {},
   "source": [
    "50. Swap two elements in a list by their indices."
   ]
  },
  {
   "cell_type": "code",
   "execution_count": 2,
   "id": "3308b38a-8be0-4893-9edd-8cde4ad030da",
   "metadata": {},
   "outputs": [
    {
     "data": {
      "text/plain": [
       "[1, 2, 3, 5, 5]"
      ]
     },
     "execution_count": 2,
     "metadata": {},
     "output_type": "execute_result"
    }
   ],
   "source": [
    "l = [1,2,3,4,5]\n",
    "l[3] = l[4]\n",
    "l\n"
   ]
  },
  {
   "cell_type": "markdown",
   "id": "c5fab28b-2d10-462f-8b39-ea27dc70cb8f",
   "metadata": {},
   "source": [
    "TUPLE BASED PROBLEMS"
   ]
  },
  {
   "cell_type": "raw",
   "id": "854a014e-9284-4d8f-a896-125b986ba10f",
   "metadata": {},
   "source": [
    "1. Create a tuple with integers from 1 to 5."
   ]
  },
  {
   "cell_type": "code",
   "execution_count": 28,
   "id": "c0c57471-ad28-434c-8663-deb75e94aa12",
   "metadata": {},
   "outputs": [
    {
     "data": {
      "text/plain": [
       "(1, 2, 3, 4, 5)"
      ]
     },
     "execution_count": 28,
     "metadata": {},
     "output_type": "execute_result"
    }
   ],
   "source": [
    "res = tuple(i for i in range(1,6))\n",
    "res"
   ]
  },
  {
   "cell_type": "raw",
   "id": "46cf349d-a344-47c1-9a7c-396c072ce7a8",
   "metadata": {},
   "source": [
    "2. Access the third element of a tuple."
   ]
  },
  {
   "cell_type": "code",
   "execution_count": 29,
   "id": "94d890e5-dd2f-478c-8abb-6fcd6d49b46e",
   "metadata": {},
   "outputs": [
    {
     "data": {
      "text/plain": [
       "3"
      ]
     },
     "execution_count": 29,
     "metadata": {},
     "output_type": "execute_result"
    }
   ],
   "source": [
    "tup = (1, 2, 3, 4, 5)\n",
    "tup[2]"
   ]
  },
  {
   "cell_type": "raw",
   "id": "acdbafa0-0c60-47ad-9ab9-c66e3e991c16",
   "metadata": {},
   "source": [
    "3. Find the length of a tuple without using the `len()` function."
   ]
  },
  {
   "cell_type": "code",
   "execution_count": 31,
   "id": "a2b3a569-4579-45fa-bb7b-4559d44bc8b3",
   "metadata": {},
   "outputs": [
    {
     "name": "stdout",
     "output_type": "stream",
     "text": [
      "The length of the tuple is 7\n"
     ]
    }
   ],
   "source": [
    "tup = (1, 2, 3, 4, 5,44,555)\n",
    "res = 0\n",
    "for i in tup:\n",
    "    res+=1\n",
    "print(\"The length of the tuple is\",res)\n"
   ]
  },
  {
   "cell_type": "raw",
   "id": "1f124283-dc47-45f8-adf7-1b874acccb1e",
   "metadata": {},
   "source": [
    "4. Count the occurrences of an element in a tuple."
   ]
  },
  {
   "cell_type": "code",
   "execution_count": 36,
   "id": "9bff34a9-f02c-4946-816d-c159dd8029ff",
   "metadata": {},
   "outputs": [
    {
     "name": "stdout",
     "output_type": "stream",
     "text": [
      "The number of times 222 appeared in this tuple is  2\n"
     ]
    }
   ],
   "source": [
    "tup = (1,222,222,333,444,3333,44,44,55,6,5,4,5,0)\n",
    "res = {}\n",
    "for i in tup:\n",
    "    if i in res:\n",
    "        res[i]+=1\n",
    "    else:\n",
    "        res[i]=1\n",
    "print(\"The number of times 222 appeared in this tuple is \",res[222])"
   ]
  },
  {
   "cell_type": "raw",
   "id": "cc593ae3-10aa-4066-8db5-69698c85b2cc",
   "metadata": {},
   "source": [
    "5. Find the index of the first occurrence of an element in a tuple."
   ]
  },
  {
   "cell_type": "code",
   "execution_count": 45,
   "id": "0db5c54a-0702-4f30-bf6a-883eefd30e85",
   "metadata": {},
   "outputs": [
    {
     "name": "stdout",
     "output_type": "stream",
     "text": [
      "The index of the first occurrence of an 4 in a tuple is  3\n"
     ]
    }
   ],
   "source": [
    "tup = (1,2,3,4,2,4,2)\n",
    "element_to_find = 4\n",
    "index = -1\n",
    "for i,num in enumerate(tup):\n",
    "    if num == element_to_find:\n",
    "        index = i\n",
    "        break\n",
    "print(\"The index of the first occurrence of an\",element_to_find,\"in a tuple is \",index)"
   ]
  },
  {
   "cell_type": "raw",
   "id": "a7dc3935-3db2-40d7-96b4-174cdadc0fd1",
   "metadata": {},
   "source": [
    "6. Check if an element exists in a tuple."
   ]
  },
  {
   "cell_type": "code",
   "execution_count": 51,
   "id": "c21d83c6-1096-46c8-a104-7095b6250519",
   "metadata": {},
   "outputs": [
    {
     "name": "stdout",
     "output_type": "stream",
     "text": [
      "Not Exist\n"
     ]
    }
   ],
   "source": [
    "tup  = (1,2,3,4,5)\n",
    "element_to_check = !\n",
    "if element_to_check in tup:\n",
    "    print(\"Exist\")\n",
    "else:\n",
    "    print(\"Not Exist\")"
   ]
  },
  {
   "cell_type": "raw",
   "id": "c7aa25fd-b5ac-46ee-818b-b25a02bb3bed",
   "metadata": {},
   "source": [
    "7. Convert a tuple to a list."
   ]
  },
  {
   "cell_type": "code",
   "execution_count": 52,
   "id": "54e416c2-6e50-4a27-a5c0-bd82c1077084",
   "metadata": {},
   "outputs": [
    {
     "data": {
      "text/plain": [
       "[1, 2, 3, 4, 5]"
      ]
     },
     "execution_count": 52,
     "metadata": {},
     "output_type": "execute_result"
    }
   ],
   "source": [
    "tup  = (1,2,3,4,5)\n",
    "res = list(tup)\n",
    "res"
   ]
  },
  {
   "cell_type": "raw",
   "id": "ab357d5d-8acf-4515-8032-62d570fceafb",
   "metadata": {},
   "source": [
    "8. Convert a list to a tuple."
   ]
  },
  {
   "cell_type": "code",
   "execution_count": 53,
   "id": "3091fdb4-80e8-4f9c-a126-6d74b92a94c0",
   "metadata": {},
   "outputs": [
    {
     "data": {
      "text/plain": [
       "(1, 2, 3, 4, 5)"
      ]
     },
     "execution_count": 53,
     "metadata": {},
     "output_type": "execute_result"
    }
   ],
   "source": [
    "l = [1, 2, 3, 4, 5]\n",
    "res = tuple(l)\n",
    "res"
   ]
  },
  {
   "cell_type": "raw",
   "id": "d7c994bb-5f78-49ea-b362-550b5e017377",
   "metadata": {},
   "source": [
    "9. Unpack the elements of a tuple into variables."
   ]
  },
  {
   "cell_type": "code",
   "execution_count": 2,
   "id": "6b874f03-d8c7-436a-b48e-d0ed772a1608",
   "metadata": {},
   "outputs": [
    {
     "name": "stdout",
     "output_type": "stream",
     "text": [
      "1\n",
      "2\n",
      "3\n"
     ]
    }
   ],
   "source": [
    "tup = (1,2,3)\n",
    "l1,l2,l3 = tup\n",
    "print(l1)\n",
    "print(l2)\n",
    "print(l3)"
   ]
  },
  {
   "cell_type": "raw",
   "id": "a3a03384-602a-4907-a154-84d59c5ce363",
   "metadata": {},
   "source": [
    "10. Create a tuple of even numbers from 1 to 10."
   ]
  },
  {
   "cell_type": "code",
   "execution_count": 6,
   "id": "e99911b1-b82e-4cff-8eca-e802b4c97c12",
   "metadata": {},
   "outputs": [
    {
     "data": {
      "text/plain": [
       "(2, 4, 6, 8, 10)"
      ]
     },
     "execution_count": 6,
     "metadata": {},
     "output_type": "execute_result"
    }
   ],
   "source": [
    "res = tuple(i for i in range(1,11) if i%2==0)\n",
    "res"
   ]
  },
  {
   "cell_type": "raw",
   "id": "a6b40a2d-bd40-4ba3-8725-fa0615cf42c2",
   "metadata": {},
   "source": [
    "11. Create a tuple of odd numbers from 1 to 10."
   ]
  },
  {
   "cell_type": "code",
   "execution_count": 7,
   "id": "18bf68e2-6c51-4dcb-a5a1-8fc64f37cc94",
   "metadata": {},
   "outputs": [
    {
     "data": {
      "text/plain": [
       "(1, 3, 5, 7, 9)"
      ]
     },
     "execution_count": 7,
     "metadata": {},
     "output_type": "execute_result"
    }
   ],
   "source": [
    "res = tuple(i for i in range(1,11) if i%2!=0)\n",
    "res"
   ]
  },
  {
   "cell_type": "raw",
   "id": "97631e07-c578-4512-b315-6913e2cfd19e",
   "metadata": {},
   "source": [
    "12. Concatenate two tuples."
   ]
  },
  {
   "cell_type": "code",
   "execution_count": 8,
   "id": "017a2e6b-2899-4ce3-889b-afbf39488ba2",
   "metadata": {},
   "outputs": [
    {
     "name": "stdout",
     "output_type": "stream",
     "text": [
      "(1, 3, 5, 7, 9, 2, 4, 6, 8, 10)\n"
     ]
    }
   ],
   "source": [
    "l1=(1, 3, 5, 7, 9)\n",
    "l2=(2, 4, 6, 8, 10)\n",
    "print(l1+l2)"
   ]
  },
  {
   "cell_type": "raw",
   "id": "16189755-53f0-496e-8b8f-25e7123f1b85",
   "metadata": {},
   "source": [
    "13. Repeat a tuple three times."
   ]
  },
  {
   "cell_type": "code",
   "execution_count": 9,
   "id": "60b20180-2d27-4eef-9fb4-4b656ef401d3",
   "metadata": {},
   "outputs": [
    {
     "data": {
      "text/plain": [
       "(1, 3, 5, 7, 9, 1, 3, 5, 7, 9, 1, 3, 5, 7, 9)"
      ]
     },
     "execution_count": 9,
     "metadata": {},
     "output_type": "execute_result"
    }
   ],
   "source": [
    "l1=(1, 3, 5, 7, 9)\n",
    "l1*3"
   ]
  },
  {
   "cell_type": "raw",
   "id": "e717b889-0490-49fd-bd9f-2f96f039efe6",
   "metadata": {},
   "source": [
    "14. Check if a tuple is empty."
   ]
  },
  {
   "cell_type": "code",
   "execution_count": 12,
   "id": "07b34fa2-2960-458a-87b8-3dd0297eed43",
   "metadata": {},
   "outputs": [
    {
     "name": "stdout",
     "output_type": "stream",
     "text": [
      "tuple is not empty\n"
     ]
    }
   ],
   "source": [
    "l1 = (1,2,3)\n",
    "if len(l1)==0:\n",
    "    print(\"tuple is empty\")\n",
    "else:\n",
    "    print(\"tuple is not empty\")"
   ]
  },
  {
   "cell_type": "raw",
   "id": "97175c4c-b71c-4a95-aabf-8c02087cc6f4",
   "metadata": {},
   "source": [
    "15. Create a nested tuple."
   ]
  },
  {
   "cell_type": "code",
   "execution_count": 15,
   "id": "5fa921cc-b107-46e4-a923-377e7a5c6e9b",
   "metadata": {},
   "outputs": [
    {
     "name": "stdout",
     "output_type": "stream",
     "text": [
      "(1, 2, 3, 4, ('bala', 'arun'))\n"
     ]
    }
   ],
   "source": [
    "res = (1,2,3,4,(\"bala\",\"arun\"))\n",
    "print(res)"
   ]
  },
  {
   "cell_type": "raw",
   "id": "417138c7-9d11-4285-b72f-ba8d7321745e",
   "metadata": {},
   "source": [
    "16. Access the first element of a nested tuple."
   ]
  },
  {
   "cell_type": "code",
   "execution_count": 17,
   "id": "535bab7c-9622-4890-9f85-a3f5f11dad4a",
   "metadata": {},
   "outputs": [
    {
     "name": "stdout",
     "output_type": "stream",
     "text": [
      "arun\n"
     ]
    }
   ],
   "source": [
    "nested_tuple = (1, 2, 3, 4, ('bala', 'arun'))\n",
    "print(nested_tuple[4][1])"
   ]
  },
  {
   "cell_type": "raw",
   "id": "c30dc870-3b50-4e8b-8cc6-77c230943633",
   "metadata": {},
   "source": [
    "17. Create a tuple with a single element."
   ]
  },
  {
   "cell_type": "code",
   "execution_count": 20,
   "id": "9fe5cd8b-5519-4c53-aa9b-d68982318852",
   "metadata": {},
   "outputs": [
    {
     "name": "stdout",
     "output_type": "stream",
     "text": [
      "The tuple with single element (5,)\n"
     ]
    }
   ],
   "source": [
    "tup = (5,)\n",
    "print(\"The tuple with single element\",tup)"
   ]
  },
  {
   "cell_type": "raw",
   "id": "28a5b337-b350-4358-b05a-a6fd538885ca",
   "metadata": {},
   "source": [
    "18. Compare two tuples."
   ]
  },
  {
   "cell_type": "code",
   "execution_count": 21,
   "id": "2aaed132-c5f1-490d-aab4-6e857aa951bc",
   "metadata": {},
   "outputs": [
    {
     "name": "stdout",
     "output_type": "stream",
     "text": [
      "False\n"
     ]
    }
   ],
   "source": [
    "tup_1 = (1,2,3,4,5)\n",
    "tup_2 = (5,4,32,2)\n",
    "print(tup_1 == tup_2)"
   ]
  },
  {
   "cell_type": "raw",
   "id": "15208e4e-e778-4d2d-bb14-470d595a65b2",
   "metadata": {},
   "source": [
    "19. Delete a tuple."
   ]
  },
  {
   "cell_type": "code",
   "execution_count": 23,
   "id": "727a58d3-470e-4aaf-aac4-845a40394a18",
   "metadata": {},
   "outputs": [
    {
     "ename": "NameError",
     "evalue": "name 'tup' is not defined",
     "output_type": "error",
     "traceback": [
      "\u001b[0;31m---------------------------------------------------------------------------\u001b[0m",
      "\u001b[0;31mNameError\u001b[0m                                 Traceback (most recent call last)",
      "Cell \u001b[0;32mIn[23], line 3\u001b[0m\n\u001b[1;32m      1\u001b[0m tup \u001b[38;5;241m=\u001b[39m (\u001b[38;5;124m\"\u001b[39m\u001b[38;5;124mVirat\u001b[39m\u001b[38;5;124m\"\u001b[39m,\u001b[38;5;124m\"\u001b[39m\u001b[38;5;124mKohli\u001b[39m\u001b[38;5;124m\"\u001b[39m)\n\u001b[1;32m      2\u001b[0m \u001b[38;5;28;01mdel\u001b[39;00m tup\n\u001b[0;32m----> 3\u001b[0m \u001b[38;5;28mprint\u001b[39m(\u001b[43mtup\u001b[49m)\n",
      "\u001b[0;31mNameError\u001b[0m: name 'tup' is not defined"
     ]
    }
   ],
   "source": [
    "tup = (\"Virat\",\"Kohli\")\n",
    "del tup\n",
    "print(tup)"
   ]
  },
  {
   "cell_type": "raw",
   "id": "60489516-e425-4e9a-b75f-8cdac8bdfed3",
   "metadata": {},
   "source": [
    "20. Slice a tuple."
   ]
  },
  {
   "cell_type": "code",
   "execution_count": 24,
   "id": "80a5a8ea-a176-435f-9885-ad75664ebc6e",
   "metadata": {},
   "outputs": [
    {
     "name": "stdout",
     "output_type": "stream",
     "text": [
      "(1, 2, 3)\n"
     ]
    }
   ],
   "source": [
    "tup = (1,2,3,4)\n",
    "print(tup[0:3])"
   ]
  },
  {
   "cell_type": "raw",
   "id": "ab629654-42de-4c2e-87b0-dffd7e151e39",
   "metadata": {},
   "source": [
    "21. Find the maximum value in a tuple."
   ]
  },
  {
   "cell_type": "code",
   "execution_count": 25,
   "id": "5c1d1de4-654e-45f8-8d73-c3821bca4d2a",
   "metadata": {},
   "outputs": [
    {
     "data": {
      "text/plain": [
       "4"
      ]
     },
     "execution_count": 25,
     "metadata": {},
     "output_type": "execute_result"
    }
   ],
   "source": [
    "tup = (1,2,3,4)\n",
    "max(tup)"
   ]
  },
  {
   "cell_type": "raw",
   "id": "4cee6777-e46b-4056-8ae1-4ce420dc15d1",
   "metadata": {},
   "source": [
    "22. Find the minimum value in a tuple."
   ]
  },
  {
   "cell_type": "code",
   "execution_count": 27,
   "id": "06cb122b-cbad-4c5d-aeab-a5d869179f50",
   "metadata": {},
   "outputs": [
    {
     "data": {
      "text/plain": [
       "1"
      ]
     },
     "execution_count": 27,
     "metadata": {},
     "output_type": "execute_result"
    }
   ],
   "source": [
    "tup = (1,2,3,4)\n",
    "min(tup)"
   ]
  },
  {
   "cell_type": "raw",
   "id": "1f72d315-a5d1-43f6-860d-38975f4e9066",
   "metadata": {},
   "source": [
    "23. Convert a string to a tuple of characters."
   ]
  },
  {
   "cell_type": "code",
   "execution_count": 31,
   "id": "9a07b269-7b07-40e3-82b7-2b0eaba2ad3c",
   "metadata": {},
   "outputs": [
    {
     "name": "stdout",
     "output_type": "stream",
     "text": [
      "('N', 'i', 'k', 'h', 'i', 'l', ' ', 'k', 'a', 'm', 'a', 't', 'h')\n"
     ]
    }
   ],
   "source": [
    "i_str = \"Nikhil kamath\"\n",
    "print(tuple(i_str))"
   ]
  },
  {
   "cell_type": "raw",
   "id": "fd922232-a7d6-442c-924f-d4ed9f24ee75",
   "metadata": {},
   "source": [
    "24. Convert a tuple of characters to a string."
   ]
  },
  {
   "cell_type": "code",
   "execution_count": 32,
   "id": "23eb4589-1c9c-4442-a7bb-234e352048d9",
   "metadata": {},
   "outputs": [
    {
     "name": "stdout",
     "output_type": "stream",
     "text": [
      "Nikhil kamath\n"
     ]
    }
   ],
   "source": [
    "tup = ('N', 'i', 'k', 'h', 'i', 'l', ' ', 'k', 'a', 'm', 'a', 't', 'h')\n",
    "print(\"\".join(tup))"
   ]
  },
  {
   "cell_type": "raw",
   "id": "24ee99a8-0d36-4135-8d3a-85c1683dbd14",
   "metadata": {},
   "source": [
    "25. Create a tuple from multiple data types."
   ]
  },
  {
   "cell_type": "code",
   "execution_count": 36,
   "id": "da8a84aa-9f96-4d03-a15c-b3286e590f76",
   "metadata": {},
   "outputs": [
    {
     "name": "stdout",
     "output_type": "stream",
     "text": [
      "([1, 2, 3, 4], 'Bala', {'virat', 'kohli'}, {'name': 'virat kohli', 'profession': 'Cricketer'})\n"
     ]
    },
    {
     "data": {
      "text/plain": [
       "tuple"
      ]
     },
     "execution_count": 36,
     "metadata": {},
     "output_type": "execute_result"
    }
   ],
   "source": [
    "tup = ([1,2,3,4],\"Bala\",{\"virat\",\"kohli\"},{\"name\":\"virat kohli\",\"profession\":\"Cricketer\"})\n",
    "print(tup)\n",
    "type(tup)"
   ]
  },
  {
   "cell_type": "raw",
   "id": "044fb2ca-d02c-4756-98e2-065100cc4275",
   "metadata": {},
   "source": [
    "26. Check if two tuples are identical."
   ]
  },
  {
   "cell_type": "code",
   "execution_count": 38,
   "id": "1610a152-e6d5-4462-8c7e-b3d876b9a159",
   "metadata": {},
   "outputs": [
    {
     "name": "stdout",
     "output_type": "stream",
     "text": [
      "identical\n"
     ]
    }
   ],
   "source": [
    "tup_1 = (1,2,3)\n",
    "tup_2 = (1,2,3)\n",
    "if tup_1 == tup_2:\n",
    "    print(\"identical\")\n",
    "else:\n",
    "    print(\"Non identical\")"
   ]
  },
  {
   "cell_type": "raw",
   "id": "a1638544-6700-40ab-ab27-1d0125ea8f9e",
   "metadata": {},
   "source": [
    "27. Sort the elements of a tuple."
   ]
  },
  {
   "cell_type": "code",
   "execution_count": 43,
   "id": "ab98ee2e-7f7a-44ae-bd75-0a6b789e6849",
   "metadata": {},
   "outputs": [
    {
     "data": {
      "text/plain": [
       "(0, 3, 4, 5, 6, 7, 8, 21)"
      ]
     },
     "execution_count": 43,
     "metadata": {},
     "output_type": "execute_result"
    }
   ],
   "source": [
    "tup = (6,7,8,5,4,3,21,0)\n",
    "tuple(sorted(tup))"
   ]
  },
  {
   "cell_type": "raw",
   "id": "69b86daa-9557-492c-8ae2-5cd877a7f402",
   "metadata": {},
   "source": [
    "28. Convert a tuple of integers to a tuple of strings."
   ]
  },
  {
   "cell_type": "code",
   "execution_count": 4,
   "id": "e92ddd4f-d6a8-4d42-a642-0146d54a9e16",
   "metadata": {},
   "outputs": [
    {
     "name": "stdout",
     "output_type": "stream",
     "text": [
      "('1', '2', '3', '4')\n"
     ]
    }
   ],
   "source": [
    "tup = (1,2,3,4)\n",
    "res = tuple(str(num) for num in tup)\n",
    "print(res)\n",
    "    "
   ]
  },
  {
   "cell_type": "raw",
   "id": "4a7e5923-046b-4170-9261-ebdee847f5fb",
   "metadata": {},
   "source": [
    "29. Convert a tuple of strings to a tuple of integers."
   ]
  },
  {
   "cell_type": "code",
   "execution_count": 6,
   "id": "901ffc81-bdc7-4dda-8039-ae89b398843e",
   "metadata": {},
   "outputs": [
    {
     "name": "stdout",
     "output_type": "stream",
     "text": [
      "(1, 2, 3, 4)\n"
     ]
    }
   ],
   "source": [
    "tup = ('1', '2', '3', '4')\n",
    "res = tuple(int(num) for num in tup )\n",
    "print(res)"
   ]
  },
  {
   "cell_type": "raw",
   "id": "26010c40-6081-49f1-9d07-e2186882c1ad",
   "metadata": {},
   "source": [
    "30. Merge two tuples."
   ]
  },
  {
   "cell_type": "code",
   "execution_count": 7,
   "id": "4e1a4d97-f9e7-413a-abed-ace000ac3d21",
   "metadata": {},
   "outputs": [
    {
     "name": "stdout",
     "output_type": "stream",
     "text": [
      "(1, 2, 3, 4, 5, 11, 22, 333, 44, 55)\n"
     ]
    }
   ],
   "source": [
    "tup1 = (1,2,3,4,5)\n",
    "tup2 = (11,22,333,44,55)\n",
    "print(tup1+tup2)"
   ]
  },
  {
   "cell_type": "raw",
   "id": "ba8b19a7-8298-456f-8888-0ad62124ec35",
   "metadata": {},
   "source": [
    "31. Flatten a nested tuple."
   ]
  },
  {
   "cell_type": "code",
   "execution_count": 8,
   "id": "7db3f4fc-fc56-41ca-8f3b-acb6c6e271bd",
   "metadata": {},
   "outputs": [
    {
     "name": "stdout",
     "output_type": "stream",
     "text": [
      "(1, 2, 3, 4, 'bala', 'arun')\n"
     ]
    }
   ],
   "source": [
    "nested_tuple = (1,2,3,4,(\"bala\",\"arun\"))\n",
    "res = []\n",
    "for i in nested_tuple:\n",
    "    if isinstance(i,tuple):\n",
    "        res.extend(i)\n",
    "    else:\n",
    "        res.append(i)\n",
    "print(tuple(res))"
   ]
  },
  {
   "cell_type": "raw",
   "id": "ac2c7c6f-f2a4-4620-bf9b-8e74470495e6",
   "metadata": {},
   "source": [
    "32. Create a tuple of the first 5 prime numbers."
   ]
  },
  {
   "cell_type": "code",
   "execution_count": 20,
   "id": "f60a097f-db72-4ab1-a656-6bf7909095de",
   "metadata": {},
   "outputs": [
    {
     "name": "stdout",
     "output_type": "stream",
     "text": [
      "(2, 3, 5, 7, 11)\n"
     ]
    }
   ],
   "source": [
    "def is_prime(num):\n",
    "    if num<=1:\n",
    "        return False\n",
    "    for i in range(2,num):\n",
    "        if num%i==0:\n",
    "            return False\n",
    "    return True\n",
    "res = [i for i in range(2,100) if is_prime(i)][:5]\n",
    "print(tuple(res))"
   ]
  },
  {
   "cell_type": "raw",
   "id": "cea6eb66-0aa0-4c89-92da-ec943f6138cf",
   "metadata": {},
   "source": [
    "33. Check if a tuple is a palindrome."
   ]
  },
  {
   "cell_type": "code",
   "execution_count": 21,
   "id": "2a8c36a1-7c9e-4525-8c59-7bb2ac03dcac",
   "metadata": {},
   "outputs": [
    {
     "name": "stdout",
     "output_type": "stream",
     "text": [
      "it is palindrome\n"
     ]
    }
   ],
   "source": [
    "tup = (1,2,3,2,1)\n",
    "if tup[ : ] == tup[ : :-1]:\n",
    "    print(\"it is palindrome\")\n",
    "else:\n",
    "    print(\"Non palindrome\")"
   ]
  },
  {
   "cell_type": "raw",
   "id": "2c3faeda-6fd9-4c63-8946-6efb0ed17dbe",
   "metadata": {},
   "source": [
    "34. Create a tuple of squares of numbers from 1 to 5."
   ]
  },
  {
   "cell_type": "code",
   "execution_count": 23,
   "id": "61cc690a-60eb-4b1e-a2d7-ec71ef9d1f71",
   "metadata": {},
   "outputs": [
    {
     "name": "stdout",
     "output_type": "stream",
     "text": [
      "(1, 4, 9, 16, 25)\n"
     ]
    }
   ],
   "source": [
    "res = tuple(i*i for i in range(1,6))\n",
    "print(res)"
   ]
  },
  {
   "cell_type": "raw",
   "id": "987c87b5-53ce-4401-9007-efe143f3ef2b",
   "metadata": {},
   "source": [
    "35. Filter out all even numbers from a tuple."
   ]
  },
  {
   "cell_type": "code",
   "execution_count": 24,
   "id": "b2848675-c593-4944-bc84-1a87af7ed484",
   "metadata": {},
   "outputs": [
    {
     "name": "stdout",
     "output_type": "stream",
     "text": [
      "(2, 4, 6)\n"
     ]
    }
   ],
   "source": [
    "tup = (1,2,3,4,5,6)\n",
    "l = []\n",
    "for i in tup:\n",
    "    if i%2==0:\n",
    "        l.append(i)\n",
    "print(tuple(l))"
   ]
  },
  {
   "cell_type": "raw",
   "id": "6b3f7bcc-ee44-43e0-ab94-0480636aa455",
   "metadata": {},
   "source": [
    "36. Multiply all elements in a tuple by 2."
   ]
  },
  {
   "cell_type": "code",
   "execution_count": 25,
   "id": "f26ebd30-ca7a-445d-96be-498cb6013196",
   "metadata": {},
   "outputs": [
    {
     "name": "stdout",
     "output_type": "stream",
     "text": [
      "(2, 4, 6, 8, 10, 12)\n"
     ]
    }
   ],
   "source": [
    "tup = (1,2,3,4,5,6)\n",
    "res = tuple(i*2 for i in tup)\n",
    "print(res)"
   ]
  },
  {
   "cell_type": "raw",
   "id": "fcd18c9e-fbd9-4be4-bfd8-301d9e8fe421",
   "metadata": {},
   "source": [
    "37. Create a tuple of random numbers."
   ]
  },
  {
   "cell_type": "code",
   "execution_count": 37,
   "id": "80bc9b36-5a3f-484b-9fc1-140bec1372d9",
   "metadata": {},
   "outputs": [
    {
     "name": "stdout",
     "output_type": "stream",
     "text": [
      "(22, 52, 60, 97, 47, 43, 4, 14, 67, 4)\n"
     ]
    }
   ],
   "source": [
    "import random\n",
    "res = tuple(random.randint(1,100) for i in range(10))\n",
    "print(res)"
   ]
  },
  {
   "cell_type": "raw",
   "id": "b5f39ba3-f1b2-4baf-8695-9b3af5333730",
   "metadata": {},
   "source": [
    "38. Check if a tuple is sorted."
   ]
  },
  {
   "cell_type": "code",
   "execution_count": 32,
   "id": "7ec1a2de-8d80-4df6-a9c7-312c2c1acb68",
   "metadata": {},
   "outputs": [
    {
     "name": "stdout",
     "output_type": "stream",
     "text": [
      "it is sorted\n"
     ]
    }
   ],
   "source": [
    "tup= (1,2,3,4)\n",
    "res = 0\n",
    "for i in range(1,len(tup)):\n",
    "    if tup[i] < tup[i-1]:\n",
    "        res+=1\n",
    "if res == 0:\n",
    "    print(\"it is sorted\")\n",
    "else:\n",
    "    print(\"Not sorted\")"
   ]
  },
  {
   "cell_type": "raw",
   "id": "f8a2d945-5ffc-421d-8a62-357149f77df7",
   "metadata": {},
   "source": [
    "39. Rotate a tuple to the left by `n` positions."
   ]
  },
  {
   "cell_type": "code",
   "execution_count": 38,
   "id": "11c4f039-998b-4640-9032-54054cd7b0be",
   "metadata": {},
   "outputs": [
    {
     "data": {
      "text/plain": [
       "(3, 4, 5, 1, 2)"
      ]
     },
     "execution_count": 38,
     "metadata": {},
     "output_type": "execute_result"
    }
   ],
   "source": [
    "tup = (1,2,3,4,5)\n",
    "def rotlef(tup,n):\n",
    "    n = n%len(tup)\n",
    "    result =  tup[n:] + tup[:n]\n",
    "    return result\n",
    "rotlef(tup,2)"
   ]
  },
  {
   "cell_type": "raw",
   "id": "f1e7be38-eea4-4a64-a198-9e339e11b7a4",
   "metadata": {},
   "source": [
    "40. Rotate a tuple to the right by `n` positions."
   ]
  },
  {
   "cell_type": "code",
   "execution_count": 40,
   "id": "8c5d87b4-13a9-4d98-90c7-de535d9d41c8",
   "metadata": {},
   "outputs": [
    {
     "data": {
      "text/plain": [
       "(4, 5, 1, 2, 3)"
      ]
     },
     "execution_count": 40,
     "metadata": {},
     "output_type": "execute_result"
    }
   ],
   "source": [
    "tup = (1,2,3,4,5)\n",
    "def rotlef(tup,n):\n",
    "    n = n%len(tup)\n",
    "    result =  tup[-n:] + tup[:-n]\n",
    "    return result\n",
    "rotlef(tup,2)"
   ]
  },
  {
   "cell_type": "raw",
   "id": "d799114d-3fa4-4f73-af8d-94157ebbdddf",
   "metadata": {},
   "source": [
    "41. Create a tuple of the first 5 Fibonacci numbers."
   ]
  },
  {
   "cell_type": "code",
   "execution_count": 3,
   "id": "d17d3400-4dab-4147-b586-b465ae1d7533",
   "metadata": {},
   "outputs": [
    {
     "name": "stdout",
     "output_type": "stream",
     "text": [
      "(0, 1, 1, 2, 3)\n"
     ]
    }
   ],
   "source": [
    "def first(n):\n",
    "    fibonacci_series = [0,1]\n",
    "    while len(fibonacci_series)<n:\n",
    "        res = fibonacci_series[-1]+fibonacci_series[-2]\n",
    "        fibonacci_series.append(res)\n",
    "    return fibonacci_series\n",
    "series = tuple(first(5))\n",
    "print(series)"
   ]
  },
  {
   "cell_type": "raw",
   "id": "5d98ba81-577d-4657-a7c7-8c58ea902f93",
   "metadata": {},
   "source": [
    "42. Create a tuple from user input."
   ]
  },
  {
   "cell_type": "code",
   "execution_count": 6,
   "id": "5e963f70-2ea6-4d96-a941-f4eab0dca5a8",
   "metadata": {},
   "outputs": [
    {
     "name": "stdin",
     "output_type": "stream",
     "text": [
      "Enter  NIKHIL KAMATH\n"
     ]
    },
    {
     "data": {
      "text/plain": [
       "('N', 'I', 'K', 'H', 'I', 'L', ' ', 'K', 'A', 'M', 'A', 'T', 'H')"
      ]
     },
     "execution_count": 6,
     "metadata": {},
     "output_type": "execute_result"
    }
   ],
   "source": [
    "res = tuple(input(\"Enter \"))\n",
    "res"
   ]
  },
  {
   "cell_type": "raw",
   "id": "db7d9c19-2a0f-48e1-99fb-81141ee03158",
   "metadata": {},
   "source": [
    "43. Swap two elements in a tuple."
   ]
  },
  {
   "cell_type": "code",
   "execution_count": 44,
   "id": "11d9ba99-ed8a-49e4-8c7b-42f96d03286b",
   "metadata": {},
   "outputs": [
    {
     "ename": "TypeError",
     "evalue": "'tuple' object does not support item assignment",
     "output_type": "error",
     "traceback": [
      "\u001b[0;31m---------------------------------------------------------------------------\u001b[0m",
      "\u001b[0;31mTypeError\u001b[0m                                 Traceback (most recent call last)",
      "Cell \u001b[0;32mIn[44], line 2\u001b[0m\n\u001b[1;32m      1\u001b[0m tup \u001b[38;5;241m=\u001b[39m (\u001b[38;5;241m1\u001b[39m,\u001b[38;5;241m2\u001b[39m,\u001b[38;5;241m3\u001b[39m,\u001b[38;5;241m4\u001b[39m,\u001b[38;5;241m5\u001b[39m)\n\u001b[0;32m----> 2\u001b[0m \u001b[43mtup\u001b[49m\u001b[43m[\u001b[49m\u001b[38;5;241;43m0\u001b[39;49m\u001b[43m]\u001b[49m \u001b[38;5;241m=\u001b[39m tup[\u001b[38;5;241m1\u001b[39m]\n\u001b[1;32m      3\u001b[0m \u001b[38;5;28mprint\u001b[39m(tup)\n",
      "\u001b[0;31mTypeError\u001b[0m: 'tuple' object does not support item assignment"
     ]
    }
   ],
   "source": [
    "tup = (1,2,3,4,5)\n",
    "tup[0] = tup[1]\n",
    "print(tup)"
   ]
  },
  {
   "cell_type": "raw",
   "id": "a3c6af2e-0378-4092-9f9f-2d8876d5de80",
   "metadata": {},
   "source": [
    "44. Reverse the elements of a tuple."
   ]
  },
  {
   "cell_type": "code",
   "execution_count": 8,
   "id": "7c6e32d8-e0fe-4a6b-99b4-653e510143c3",
   "metadata": {},
   "outputs": [
    {
     "name": "stdout",
     "output_type": "stream",
     "text": [
      "(5, 4, 3, 2, 1)\n"
     ]
    }
   ],
   "source": [
    "tup = (1,2,3,4,5)\n",
    "reversed_tuple = tup[ : :-1]\n",
    "print(reversed_tuple)"
   ]
  },
  {
   "cell_type": "raw",
   "id": "aa6a60fc-7433-48a1-9b8b-85846dd7205e",
   "metadata": {},
   "source": [
    "45. Create a tuple of the first `n` powers of 2."
   ]
  },
  {
   "cell_type": "code",
   "execution_count": 9,
   "id": "2ee46ccf-91e4-4abe-bf61-7f8eb955bfb4",
   "metadata": {},
   "outputs": [
    {
     "data": {
      "text/plain": [
       "(0, 2, 4, 6, 8, 10, 12, 14, 16, 18)"
      ]
     },
     "execution_count": 9,
     "metadata": {},
     "output_type": "execute_result"
    }
   ],
   "source": [
    "def np(n):\n",
    "    res = [2*i for i in range(n)]\n",
    "    return tuple(res)\n",
    "np(10)"
   ]
  },
  {
   "cell_type": "raw",
   "id": "6e1a4049-2b2a-435e-a572-7cf127ce97c7",
   "metadata": {},
   "source": [
    "46. Find the longest string in a tuple of strings."
   ]
  },
  {
   "cell_type": "code",
   "execution_count": 10,
   "id": "2baf1096-ac19-46ef-86a6-865f025aab09",
   "metadata": {},
   "outputs": [
    {
     "data": {
      "text/plain": [
       "'Baskaran'"
      ]
     },
     "execution_count": 10,
     "metadata": {},
     "output_type": "execute_result"
    }
   ],
   "source": [
    "tup = (\"bal\",\"Arun\",\"kohli\",\"Baskaran\")\n",
    "def longs(tup):\n",
    "    longest_string = \" \"\n",
    "    for i in tup:\n",
    "        if len(i)> len(longest_string):\n",
    "            longest_string = i\n",
    "    return longest_string\n",
    "longs(tup)"
   ]
  },
  {
   "cell_type": "raw",
   "id": "44161659-1854-442f-bebe-7b23193f21c1",
   "metadata": {},
   "source": [
    "47. Find the shortest string in a tuple of strings."
   ]
  },
  {
   "cell_type": "code",
   "execution_count": 14,
   "id": "b13b6dc9-6bc9-4700-a2fa-f74f2d8fe006",
   "metadata": {},
   "outputs": [
    {
     "data": {
      "text/plain": [
       "''"
      ]
     },
     "execution_count": 14,
     "metadata": {},
     "output_type": "execute_result"
    }
   ],
   "source": [
    "tup = (\"bal\",\"Arun\",\"kohli\",\"Baskaran\")\n",
    "def shorts(tup):\n",
    "    shortest_string = \"\"\n",
    "    for i in tup:\n",
    "        if len(i)<len(shortest_string):\n",
    "            shortest_string = i\n",
    "    return shortest_string\n",
    "shorts(tup)"
   ]
  },
  {
   "cell_type": "raw",
   "id": "9aa78e2a-9109-47a8-a16c-bd62a4971995",
   "metadata": {},
   "source": [
    "48. Create a tuple of the first `n` triangular numbers."
   ]
  },
  {
   "cell_type": "code",
   "execution_count": 3,
   "id": "a71e46ba-bc6d-45c3-9fc2-d5e5a073d1f4",
   "metadata": {},
   "outputs": [
    {
     "data": {
      "text/plain": [
       "(1, 3, 6, 10, 15)"
      ]
     },
     "execution_count": 3,
     "metadata": {},
     "output_type": "execute_result"
    }
   ],
   "source": [
    "def tri(n):\n",
    "    res = tuple(i*(i+1)//2 for i in range(1,n+1))\n",
    "    return res\n",
    "tri(5)"
   ]
  },
  {
   "cell_type": "raw",
   "id": "e4412591-b5dd-4214-9913-c2a47a96a265",
   "metadata": {},
   "source": [
    "49. Check if a tuple contains another tuple as a subsequence."
   ]
  },
  {
   "cell_type": "code",
   "execution_count": 6,
   "id": "b078befc-a000-486b-9a55-3ed0cc801357",
   "metadata": {},
   "outputs": [
    {
     "name": "stdout",
     "output_type": "stream",
     "text": [
      "Present\n"
     ]
    }
   ],
   "source": [
    "tup = (1,2,3,2,(3,4,5))\n",
    "res = 0\n",
    "for i in tup:\n",
    "    if isinstance(i,tuple):\n",
    "        res+=1\n",
    "if res==0:\n",
    "    print(\"Nope\")\n",
    "else:\n",
    "    print(\"Present\")"
   ]
  },
  {
   "cell_type": "raw",
   "id": "8d33b07d-c45c-4143-8df2-f8a982059b2a",
   "metadata": {},
   "source": [
    "50. Create a tuple of alternating 1s and 0s of length `n`."
   ]
  },
  {
   "cell_type": "code",
   "execution_count": 7,
   "id": "c642403c-9d87-436a-bd92-c47f0d993cf0",
   "metadata": {},
   "outputs": [
    {
     "data": {
      "text/plain": [
       "(1, 0, 1, 0, 1, 0, 1, 0, 1, 0)"
      ]
     },
     "execution_count": 7,
     "metadata": {},
     "output_type": "execute_result"
    }
   ],
   "source": [
    "def alter(n):\n",
    "    res = tuple(1 if i%2==0 else 0 for i in range(n))\n",
    "    return res\n",
    "alter(10)"
   ]
  },
  {
   "cell_type": "raw",
   "id": "fb5b8c34-7e4a-4777-a0e3-21ec1a5cb33e",
   "metadata": {},
   "source": [
    "Set Based Practice Problem :"
   ]
  },
  {
   "cell_type": "raw",
   "id": "e3fdee15-3713-48be-be04-6f5e34f62430",
   "metadata": {},
   "source": [
    "1. Create a set with integers from 1 to 5."
   ]
  },
  {
   "cell_type": "code",
   "execution_count": 8,
   "id": "edc87558-0241-4189-ae1d-17b81694905d",
   "metadata": {},
   "outputs": [
    {
     "name": "stdout",
     "output_type": "stream",
     "text": [
      "{1, 2, 3, 4, 5}\n"
     ]
    },
    {
     "data": {
      "text/plain": [
       "set"
      ]
     },
     "execution_count": 8,
     "metadata": {},
     "output_type": "execute_result"
    }
   ],
   "source": [
    "res = {1,2,3,4,5}\n",
    "print(res)\n",
    "type(res)"
   ]
  },
  {
   "cell_type": "raw",
   "id": "8af0798d-52d9-4a12-92c7-c395b4cd1255",
   "metadata": {},
   "source": [
    "2. Add an element to a set."
   ]
  },
  {
   "cell_type": "code",
   "execution_count": 9,
   "id": "3607c482-835e-41e2-b29f-c300fb350abb",
   "metadata": {},
   "outputs": [
    {
     "data": {
      "text/plain": [
       "{1, 2, 3, 4, 5, 6}"
      ]
     },
     "execution_count": 9,
     "metadata": {},
     "output_type": "execute_result"
    }
   ],
   "source": [
    "res = {1,2,3,4,5}\n",
    "res.add(6)\n",
    "res"
   ]
  },
  {
   "cell_type": "raw",
   "id": "bd71daab-b1b7-4db3-a2a9-39647f5653b2",
   "metadata": {},
   "source": [
    "3. Remove an element from a set."
   ]
  },
  {
   "cell_type": "code",
   "execution_count": 10,
   "id": "0ebeb6f9-7a68-440c-8cfb-d9968415073b",
   "metadata": {},
   "outputs": [
    {
     "data": {
      "text/plain": [
       "{1, 2, 3, 4}"
      ]
     },
     "execution_count": 10,
     "metadata": {},
     "output_type": "execute_result"
    }
   ],
   "source": [
    "res = {1,2,3,4,5}\n",
    "res.remove(5)\n",
    "res"
   ]
  },
  {
   "cell_type": "raw",
   "id": "8a5c3415-6ef2-4735-8fd1-813086fda950",
   "metadata": {},
   "source": [
    "4. Check if an element exists in a set."
   ]
  },
  {
   "cell_type": "code",
   "execution_count": 11,
   "id": "ee37cece-8548-4aed-adf3-5522043130fe",
   "metadata": {},
   "outputs": [
    {
     "data": {
      "text/plain": [
       "True"
      ]
     },
     "execution_count": 11,
     "metadata": {},
     "output_type": "execute_result"
    }
   ],
   "source": [
    "res = {1,2,3,4,5}\n",
    "1 in res"
   ]
  },
  {
   "cell_type": "raw",
   "id": "1d054138-7214-45f5-98dd-ee43fbe3707d",
   "metadata": {},
   "source": [
    "5. Find the length of a set without using the `len()` function."
   ]
  },
  {
   "cell_type": "code",
   "execution_count": 12,
   "id": "69c716a6-a836-430b-855a-dac52c90361d",
   "metadata": {},
   "outputs": [
    {
     "name": "stdout",
     "output_type": "stream",
     "text": [
      "The length of the res 5\n"
     ]
    }
   ],
   "source": [
    "res = {1,2,3,4,5}\n",
    "count = 0\n",
    "for i in res:\n",
    "    count+=1\n",
    "print(\"The length of the res\",count)\n"
   ]
  },
  {
   "cell_type": "raw",
   "id": "bc43b1b7-640f-48ff-b149-8d1ba20c7839",
   "metadata": {},
   "source": [
    "6. Clear all elements from a set."
   ]
  },
  {
   "cell_type": "code",
   "execution_count": 14,
   "id": "e9c4087e-24a9-450c-a670-696b25c825cf",
   "metadata": {},
   "outputs": [
    {
     "data": {
      "text/plain": [
       "set()"
      ]
     },
     "execution_count": 14,
     "metadata": {},
     "output_type": "execute_result"
    }
   ],
   "source": [
    "res = {1,2,3,4,5}\n",
    "res.clear()\n",
    "res"
   ]
  },
  {
   "cell_type": "raw",
   "id": "8d77f1e8-29ba-4d22-aae8-f248302860bf",
   "metadata": {},
   "source": [
    "7. Create a set of even numbers from 1 to 10."
   ]
  },
  {
   "cell_type": "code",
   "execution_count": 15,
   "id": "010e74e9-c95f-4133-bb3d-34b769ae4b91",
   "metadata": {},
   "outputs": [
    {
     "data": {
      "text/plain": [
       "{2, 4, 6, 8, 10}"
      ]
     },
     "execution_count": 15,
     "metadata": {},
     "output_type": "execute_result"
    }
   ],
   "source": [
    "res = {i for i in range(1,11)if i %2==0}\n",
    "res"
   ]
  },
  {
   "cell_type": "raw",
   "id": "c4b643c1-b8fd-4412-a19a-ba3cfbeaefde",
   "metadata": {},
   "source": [
    "8. Create a set of odd numbers from 1 to 10."
   ]
  },
  {
   "cell_type": "code",
   "execution_count": 16,
   "id": "9f75abd8-2a66-4a95-b1af-662d72698c2c",
   "metadata": {},
   "outputs": [
    {
     "data": {
      "text/plain": [
       "{1, 3, 5, 7, 9}"
      ]
     },
     "execution_count": 16,
     "metadata": {},
     "output_type": "execute_result"
    }
   ],
   "source": [
    "res = {i for i in range(1,11)if i %2!=0}\n",
    "res"
   ]
  },
  {
   "cell_type": "raw",
   "id": "7199d2c2-757b-4d85-b847-9fe2a9fc493a",
   "metadata": {},
   "source": [
    "9. Find the union of two sets."
   ]
  },
  {
   "cell_type": "code",
   "execution_count": 17,
   "id": "91f5bb21-5f75-4a5e-9c73-8a0a507dc109",
   "metadata": {},
   "outputs": [
    {
     "data": {
      "text/plain": [
       "{1, 2, 3, 4, 5}"
      ]
     },
     "execution_count": 17,
     "metadata": {},
     "output_type": "execute_result"
    }
   ],
   "source": [
    "l1 = {1,2,3,4,5}\n",
    "l2 ={5,4,3,2,1}\n",
    "l1.union(l2)"
   ]
  },
  {
   "cell_type": "raw",
   "id": "ace615de-cb95-4ab2-b672-379d57360a2a",
   "metadata": {},
   "source": [
    "10. Find the intersection of two sets."
   ]
  },
  {
   "cell_type": "code",
   "execution_count": 19,
   "id": "3fa8cf90-5820-4180-b36c-5c90669f51db",
   "metadata": {},
   "outputs": [
    {
     "data": {
      "text/plain": [
       "{1, 2, 3, 4, 5}"
      ]
     },
     "execution_count": 19,
     "metadata": {},
     "output_type": "execute_result"
    }
   ],
   "source": [
    "l1 = {1,2,3,4,5}\n",
    "l2 ={5,4,3,2,1}\n",
    "res =l1.intersection(l2)\n",
    "res"
   ]
  },
  {
   "cell_type": "raw",
   "id": "fd2fde8d-98aa-4b99-abab-d994ccb8954e",
   "metadata": {},
   "source": [
    "11. Find the difference between two sets."
   ]
  },
  {
   "cell_type": "code",
   "execution_count": 2,
   "id": "c4c9ff74-df24-4aa3-b0ca-332efa44d0a2",
   "metadata": {},
   "outputs": [
    {
     "data": {
      "text/plain": [
       "{44}"
      ]
     },
     "execution_count": 2,
     "metadata": {},
     "output_type": "execute_result"
    }
   ],
   "source": [
    "l1 = {1,2,3,4,5}\n",
    "l2 = {1,2,3,44,5}\n",
    "l2.difference(l1)"
   ]
  },
  {
   "cell_type": "raw",
   "id": "08a883e7-acad-40e9-ad73-718a35f5ff0c",
   "metadata": {},
   "source": [
    "12. Check if a set is a subset of another set."
   ]
  },
  {
   "cell_type": "code",
   "execution_count": 8,
   "id": "d17e9611-0c00-43c7-8c79-971ad65e9f8c",
   "metadata": {},
   "outputs": [
    {
     "data": {
      "text/plain": [
       "True"
      ]
     },
     "execution_count": 8,
     "metadata": {},
     "output_type": "execute_result"
    }
   ],
   "source": [
    "s = {1,2,1,2,3,4}\n",
    "s1 = {1,2,3,4}\n",
    "res = s1.issubset(s)\n",
    "res"
   ]
  },
  {
   "cell_type": "raw",
   "id": "0058662d-e81a-4054-8700-6790b793de78",
   "metadata": {},
   "source": [
    "13. Check if a set is a superset of another set."
   ]
  },
  {
   "cell_type": "code",
   "execution_count": 10,
   "id": "c4fc672f-4f0e-45f8-99a1-f1307923106a",
   "metadata": {},
   "outputs": [
    {
     "data": {
      "text/plain": [
       "True"
      ]
     },
     "execution_count": 10,
     "metadata": {},
     "output_type": "execute_result"
    }
   ],
   "source": [
    "s = {1,2,1,2,3,4}\n",
    "s1 = {1,2,3,4}\n",
    "res = s.issuperset(s1)\n",
    "res"
   ]
  },
  {
   "cell_type": "raw",
   "id": "cc36bba3-b309-481b-a07f-3b56c8e0a557",
   "metadata": {},
   "source": [
    "14. Create a set from a list."
   ]
  },
  {
   "cell_type": "code",
   "execution_count": 13,
   "id": "3b632f41-321b-4f1f-81b0-9007fddb0823",
   "metadata": {},
   "outputs": [
    {
     "data": {
      "text/plain": [
       "{1, 2, 3, 4, 5}"
      ]
     },
     "execution_count": 13,
     "metadata": {},
     "output_type": "execute_result"
    }
   ],
   "source": [
    "l = [1,2,3,3,4,5]\n",
    "res = set(l)\n",
    "res"
   ]
  },
  {
   "cell_type": "raw",
   "id": "423d618b-ea3c-4942-819e-2aa809209036",
   "metadata": {},
   "source": [
    "15. Convert a set to a list."
   ]
  },
  {
   "cell_type": "code",
   "execution_count": 14,
   "id": "a98ba8a8-2970-4655-896f-50ea99675cc9",
   "metadata": {},
   "outputs": [
    {
     "data": {
      "text/plain": [
       "[1, 2, 3, 4, 5]"
      ]
     },
     "execution_count": 14,
     "metadata": {},
     "output_type": "execute_result"
    }
   ],
   "source": [
    "s = {1, 2, 3, 4, 5}\n",
    "res = list(s)\n",
    "res"
   ]
  },
  {
   "cell_type": "raw",
   "id": "8815fc2d-ed00-4dc3-a2d8-c48a19a637c1",
   "metadata": {},
   "source": [
    "16. Remove a random element from a set."
   ]
  },
  {
   "cell_type": "code",
   "execution_count": 35,
   "id": "5b3e9ab5-92d5-4713-b878-3c9f8df111f9",
   "metadata": {},
   "outputs": [
    {
     "name": "stdout",
     "output_type": "stream",
     "text": [
      "{1, 3, 5}\n"
     ]
    }
   ],
   "source": [
    "s = {1,3,4,5}\n",
    "import random\n",
    "res = random.choice(list(s))\n",
    "s.remove(res)\n",
    "print(s)\n",
    "\n"
   ]
  },
  {
   "cell_type": "raw",
   "id": "624ecd51-9327-4a1a-93e1-6b5827d0bdcf",
   "metadata": {},
   "source": [
    "17. Pop an element from a set."
   ]
  },
  {
   "cell_type": "code",
   "execution_count": 38,
   "id": "e0a086a7-3522-455e-92f8-bb3d8766d567",
   "metadata": {},
   "outputs": [
    {
     "data": {
      "text/plain": [
       "{2, 3, 4}"
      ]
     },
     "execution_count": 38,
     "metadata": {},
     "output_type": "execute_result"
    }
   ],
   "source": [
    "s = {1,2,3,4}\n",
    "s.pop()\n",
    "s"
   ]
  },
  {
   "cell_type": "raw",
   "id": "971395dc-f107-40a8-a38b-67a8c32829dc",
   "metadata": {},
   "source": [
    "18. Check if two sets have no elements in common."
   ]
  },
  {
   "cell_type": "code",
   "execution_count": 40,
   "id": "ad1f213f-6695-436f-8548-855008d9c8ed",
   "metadata": {},
   "outputs": [
    {
     "name": "stdout",
     "output_type": "stream",
     "text": [
      "it has no elements in common\n"
     ]
    }
   ],
   "source": [
    "s1={1,2,3,4}\n",
    "s2={5,6,7,8}\n",
    "if s1.intersection(s2):\n",
    "    print(\"it has common elements\")\n",
    "else:\n",
    "    print(\"it has no elements in common\")"
   ]
  },
  {
   "cell_type": "raw",
   "id": "809fb097-e332-4be4-94e4-e821e67c1612",
   "metadata": {},
   "source": [
    "19. Find the symmetric difference between two sets."
   ]
  },
  {
   "cell_type": "code",
   "execution_count": 42,
   "id": "f6350643-a792-4f3e-b0e4-ab06d616b94f",
   "metadata": {},
   "outputs": [
    {
     "data": {
      "text/plain": [
       "{5}"
      ]
     },
     "execution_count": 42,
     "metadata": {},
     "output_type": "execute_result"
    }
   ],
   "source": [
    "s1={1,2,3,4}\n",
    "s2={1,2,3,4,5}\n",
    "s1^s2"
   ]
  },
  {
   "cell_type": "raw",
   "id": "3b9fb7e1-a7b3-46e7-9b9a-50025fc376ce",
   "metadata": {},
   "source": [
    "20. Update a set with elements from another set."
   ]
  },
  {
   "cell_type": "code",
   "execution_count": 44,
   "id": "837c3ea5-e1bb-4d11-88f8-385a47b5da1e",
   "metadata": {},
   "outputs": [
    {
     "data": {
      "text/plain": [
       "{1, 2, 3, 4, 5, 6, 7, 8}"
      ]
     },
     "execution_count": 44,
     "metadata": {},
     "output_type": "execute_result"
    }
   ],
   "source": [
    "s1={1,2,3,4}\n",
    "s2={5,6,7,8}\n",
    "s1.update(s2)\n",
    "s1\n"
   ]
  },
  {
   "cell_type": "raw",
   "id": "88e58594-ce76-4fb0-9cab-f9598471f8cd",
   "metadata": {},
   "source": [
    "21. Create a set of the first 5 prime numbers."
   ]
  },
  {
   "cell_type": "code",
   "execution_count": 61,
   "id": "ebc0f3a4-bceb-4c12-aa69-083029d4d9f9",
   "metadata": {},
   "outputs": [
    {
     "name": "stdout",
     "output_type": "stream",
     "text": [
      "{1, 2, 3, 5, 7}\n"
     ]
    }
   ],
   "source": [
    "def prn(n):\n",
    "    for i in range(2,n):\n",
    "        if n%i==0:\n",
    "            return False\n",
    "    return True\n",
    "prime_set = set()\n",
    "n = 1\n",
    "while len(prime_set)<5:\n",
    "    if prn(n):\n",
    "        prime_set.add(n)\n",
    "    n+=1\n",
    "print(prime_set)"
   ]
  },
  {
   "cell_type": "raw",
   "id": "87007b73-549d-4586-8f31-5f12e1fe914e",
   "metadata": {},
   "source": [
    "22. Check if two sets are identical."
   ]
  },
  {
   "cell_type": "code",
   "execution_count": 62,
   "id": "4708b492-2982-4556-8ba7-4f84fb93e9ac",
   "metadata": {},
   "outputs": [
    {
     "name": "stdout",
     "output_type": "stream",
     "text": [
      "identical\n"
     ]
    }
   ],
   "source": [
    "s1 = {1,2,3,4}\n",
    "s2 = {1,2,3,4}\n",
    "if s1==s2:\n",
    "    print(\"identical\")\n",
    "else:\n",
    "    print(\"Not identical\")"
   ]
  },
  {
   "cell_type": "raw",
   "id": "987d61db-1ea0-42ac-8291-aaa988c5aa45",
   "metadata": {},
   "source": [
    "23. Create a frozen set."
   ]
  },
  {
   "cell_type": "code",
   "execution_count": 64,
   "id": "91b5b241-42fc-4b03-96df-f76df2f38386",
   "metadata": {},
   "outputs": [
    {
     "name": "stdout",
     "output_type": "stream",
     "text": [
      "frozenset({1, 2, 3, 4, 5})\n"
     ]
    }
   ],
   "source": [
    "element = (1,2,3,4,5)\n",
    "s = frozenset(element)\n",
    "print(s)"
   ]
  },
  {
   "cell_type": "raw",
   "id": "b7ac7493-917b-40b4-b78e-d0feb9577769",
   "metadata": {},
   "source": [
    "24. Check if a set is disjoint with another set."
   ]
  },
  {
   "cell_type": "code",
   "execution_count": 71,
   "id": "72756a44-ee8f-4068-a39b-856d391fe014",
   "metadata": {},
   "outputs": [
    {
     "name": "stdout",
     "output_type": "stream",
     "text": [
      "The sets are not disjoint.\n"
     ]
    }
   ],
   "source": [
    "s1 = {1, 2, 3, 4, 5}\n",
    "s2 = {5, 7, 8, 9, 10}\n",
    "\n",
    "if s1.isdisjoint(s2):\n",
    "    print(\"The sets are disjoint.\")\n",
    "else:\n",
    "    print(\"The sets are not disjoint.\")\n"
   ]
  },
  {
   "cell_type": "raw",
   "id": "851032a4-7492-46b2-9a75-15df495c0958",
   "metadata": {},
   "source": [
    "25. Create a set of squares of numbers from 1 to 5."
   ]
  },
  {
   "cell_type": "code",
   "execution_count": 73,
   "id": "8c0b3f04-87da-4031-9990-02766147ebed",
   "metadata": {},
   "outputs": [
    {
     "name": "stdout",
     "output_type": "stream",
     "text": [
      "{1, 4, 9, 16, 25}\n"
     ]
    }
   ],
   "source": [
    "res =[i*i for i in range(1,5+1)]\n",
    "print(set(res))"
   ]
  },
  {
   "cell_type": "raw",
   "id": "349a4a45-9ce6-40fa-8d70-0b0222e7db07",
   "metadata": {},
   "source": [
    "26. Filter out all even numbers from a set."
   ]
  },
  {
   "cell_type": "code",
   "execution_count": 78,
   "id": "a7f9d4b8-9531-4f35-9cb1-b7e628bbb8a0",
   "metadata": {},
   "outputs": [
    {
     "data": {
      "text/plain": [
       "{4, 16}"
      ]
     },
     "execution_count": 78,
     "metadata": {},
     "output_type": "execute_result"
    }
   ],
   "source": [
    "s1 = {1, 4, 9, 16, 25}\n",
    "res = [i for i in s1 if i%2==0]\n",
    "set(res)"
   ]
  },
  {
   "cell_type": "raw",
   "id": "138a4a77-679e-4a56-aff0-50d9b779c16b",
   "metadata": {},
   "source": [
    "27. Multiply all elements in a set by 2."
   ]
  },
  {
   "cell_type": "code",
   "execution_count": 79,
   "id": "137c5e91-0b11-4212-a8dc-4427cedd880c",
   "metadata": {},
   "outputs": [
    {
     "data": {
      "text/plain": [
       "{2, 8, 18, 32, 50}"
      ]
     },
     "execution_count": 79,
     "metadata": {},
     "output_type": "execute_result"
    }
   ],
   "source": [
    "s1 = {1, 4, 9, 16, 25}\n",
    "res = [2*i for i in s1]\n",
    "set(res)"
   ]
  },
  {
   "cell_type": "raw",
   "id": "14f573f2-37f4-48fc-ba43-f6c0cb75766c",
   "metadata": {},
   "source": [
    "28. Create a set of random numbers."
   ]
  },
  {
   "cell_type": "code",
   "execution_count": 86,
   "id": "388bd6a7-a3a8-4fbf-b22c-98c8f92f914e",
   "metadata": {},
   "outputs": [
    {
     "name": "stdout",
     "output_type": "stream",
     "text": [
      "{6627, 452, 4938, 5931, 3662}\n"
     ]
    }
   ],
   "source": [
    "random_set = set()\n",
    "number = 5\n",
    "for i in range(number):\n",
    "    re = random.randint(1,10000)\n",
    "    random_set.add(re)\n",
    "print(random_set)"
   ]
  },
  {
   "cell_type": "raw",
   "id": "80d540f3-6fe4-4893-8a5a-9ceff3cd1e10",
   "metadata": {},
   "source": [
    "29. Check if a set is empty."
   ]
  },
  {
   "cell_type": "code",
   "execution_count": 87,
   "id": "67c348ff-2876-48f8-b017-325e83b14233",
   "metadata": {},
   "outputs": [
    {
     "name": "stdout",
     "output_type": "stream",
     "text": [
      "set is not empty\n"
     ]
    }
   ],
   "source": [
    "set = {1,2,3}\n",
    "if len(set)==0:\n",
    "    print(\"set is empty\")\n",
    "else:\n",
    "    print(\"set is not empty\")"
   ]
  },
  {
   "cell_type": "raw",
   "id": "ed645a75-90a7-4bc4-9126-3ef44470de0c",
   "metadata": {},
   "source": [
    "30. Create a nested set (hint: use frozenset)."
   ]
  },
  {
   "cell_type": "code",
   "execution_count": 89,
   "id": "dda5faeb-d2e9-4548-b2f6-f447637d7afc",
   "metadata": {},
   "outputs": [
    {
     "name": "stdout",
     "output_type": "stream",
     "text": [
      "{frozenset({1, 2, 34, 5}), frozenset({2, 3, 4, 5})}\n"
     ]
    }
   ],
   "source": [
    "s1 = {1,2,34,5}\n",
    "s2 = {2,3,4,5,5}\n",
    "res = {frozenset(s1),frozenset(s2)}\n",
    "print(res)"
   ]
  },
  {
   "cell_type": "raw",
   "id": "a7460192-1062-435f-8ba1-9748d0877843",
   "metadata": {},
   "source": [
    "31. Remove an element from a set using the discard method."
   ]
  },
  {
   "cell_type": "code",
   "execution_count": 91,
   "id": "9450e498-7c8e-47e7-b299-e0462ce1208c",
   "metadata": {},
   "outputs": [
    {
     "data": {
      "text/plain": [
       "{1, 3, 4}"
      ]
     },
     "execution_count": 91,
     "metadata": {},
     "output_type": "execute_result"
    }
   ],
   "source": [
    "set = {1,2,3,4}\n",
    "set.discard(2)\n",
    "set"
   ]
  },
  {
   "cell_type": "raw",
   "id": "c376dfe8-3e97-4a0b-99c0-ddc82c06c633",
   "metadata": {},
   "source": [
    "32. Compare two sets."
   ]
  },
  {
   "cell_type": "code",
   "execution_count": 93,
   "id": "284a1bc0-4828-44bf-b9eb-8063de702574",
   "metadata": {},
   "outputs": [
    {
     "data": {
      "text/plain": [
       "False"
      ]
     },
     "execution_count": 93,
     "metadata": {},
     "output_type": "execute_result"
    }
   ],
   "source": [
    "set1 = {1,2,3,4}\n",
    "set2 = {1, 3, 4}\n",
    "set2>set2"
   ]
  },
  {
   "cell_type": "raw",
   "id": "eaf50c5d-04c2-492b-976d-2722cb0b7c30",
   "metadata": {},
   "source": [
    "33. Create a set from a string."
   ]
  },
  {
   "cell_type": "code",
   "execution_count": 12,
   "id": "62195366-3c12-4ca9-ac8a-dcbef75f4753",
   "metadata": {},
   "outputs": [
    {
     "name": "stdout",
     "output_type": "stream",
     "text": [
      "{'k', ' ', 'u', 'E', 'l', 'n', 'm', 's', 'o'}\n"
     ]
    }
   ],
   "source": [
    "i_str = \"Elon musk\"\n",
    "print(set(i_str))"
   ]
  },
  {
   "cell_type": "raw",
   "id": "f016cb59-6428-4663-9ebf-03a25156e4ba",
   "metadata": {},
   "source": [
    "34. Convert a set of strings to a set of integers."
   ]
  },
  {
   "cell_type": "code",
   "execution_count": 11,
   "id": "7db02705-2a50-49c7-a85f-2da74fdd6461",
   "metadata": {},
   "outputs": [
    {
     "name": "stdout",
     "output_type": "stream",
     "text": [
      "{123}\n"
     ]
    }
   ],
   "source": [
    "s = {\"123\"}\n",
    "res = set()\n",
    "for i in s:\n",
    "    res.add(int(i))\n",
    "print(res)"
   ]
  },
  {
   "cell_type": "raw",
   "id": "f11ae4f4-6b44-40a8-9296-6b9b8c7569a6",
   "metadata": {},
   "source": [
    "35. Convert a set of integers to a set of strings."
   ]
  },
  {
   "cell_type": "code",
   "execution_count": 9,
   "id": "dca2088c-08b7-48b3-b39e-610ed1dd23e6",
   "metadata": {},
   "outputs": [
    {
     "name": "stdout",
     "output_type": "stream",
     "text": [
      "{'123'}\n"
     ]
    }
   ],
   "source": [
    "s = {123}\n",
    "res = set()\n",
    "for i in s:\n",
    "    res.add(str(i))\n",
    "print(res)"
   ]
  },
  {
   "cell_type": "raw",
   "id": "473d5b40-7b85-4e6d-9fa1-008b6584e6e2",
   "metadata": {},
   "source": [
    "36. Create a set from a tuple."
   ]
  },
  {
   "cell_type": "code",
   "execution_count": 10,
   "id": "10e785d7-d878-44cd-90c3-c5cdb5595774",
   "metadata": {},
   "outputs": [
    {
     "name": "stdout",
     "output_type": "stream",
     "text": [
      "{1, 2, 3, 4}\n"
     ]
    }
   ],
   "source": [
    "tup = (1,2,3,4)\n",
    "s = set()\n",
    "for i in tup:\n",
    "    s.add(i)\n",
    "print(s)"
   ]
  },
  {
   "cell_type": "raw",
   "id": "857cd595-bd05-4990-8fd8-b71b5d042673",
   "metadata": {},
   "source": [
    "37. Convert a set to a tuple."
   ]
  },
  {
   "cell_type": "code",
   "execution_count": 114,
   "id": "40763111-adc0-4ffd-9fe1-17aafffd89c7",
   "metadata": {},
   "outputs": [
    {
     "name": "stdout",
     "output_type": "stream",
     "text": [
      "Original set: {1, 2, 3, 4, 5}\n",
      "Converted tuple: (1, 2, 3, 4, 5)\n"
     ]
    }
   ],
   "source": [
    "input_set = {1, 2, 3, 4, 5}\n",
    "output_tuple = tuple(input_set)\n",
    "print(\"Original set:\", input_set)\n",
    "print(\"Converted tuple:\", output_tuple)"
   ]
  },
  {
   "cell_type": "raw",
   "id": "6997a7ce-aa36-4d63-8d98-cd663417e3aa",
   "metadata": {},
   "source": [
    "38. Find the maximum value in a set."
   ]
  },
  {
   "cell_type": "code",
   "execution_count": 115,
   "id": "c9fd1d94-e394-45de-b405-a81946c53228",
   "metadata": {},
   "outputs": [
    {
     "data": {
      "text/plain": [
       "3"
      ]
     },
     "execution_count": 115,
     "metadata": {},
     "output_type": "execute_result"
    }
   ],
   "source": [
    "set = {1,2,3}\n",
    "max(set)"
   ]
  },
  {
   "cell_type": "raw",
   "id": "e658a5ca-b184-438f-86d2-420ef549f7c6",
   "metadata": {},
   "source": [
    "39. Find the minimum value in a set."
   ]
  },
  {
   "cell_type": "code",
   "execution_count": 116,
   "id": "fb3f0491-ed49-4041-b9d8-8c81960a1f82",
   "metadata": {},
   "outputs": [
    {
     "data": {
      "text/plain": [
       "1"
      ]
     },
     "execution_count": 116,
     "metadata": {},
     "output_type": "execute_result"
    }
   ],
   "source": [
    "set = {1,2,3}\n",
    "min(set)"
   ]
  },
  {
   "cell_type": "raw",
   "id": "a0ff59fd-4052-4468-a23f-a9fa120e0283",
   "metadata": {},
   "source": [
    "40. Create a set from user input."
   ]
  },
  {
   "cell_type": "code",
   "execution_count": 2,
   "id": "9ed08dc8-6f09-47d1-ac80-d938f391920e",
   "metadata": {},
   "outputs": [
    {
     "name": "stdin",
     "output_type": "stream",
     "text": [
      "Enter ?  123 BALA \"bala\"\n"
     ]
    },
    {
     "data": {
      "text/plain": [
       "{' ', '\"', '1', '2', '3', 'A', 'B', 'L', 'a', 'b', 'l'}"
      ]
     },
     "execution_count": 2,
     "metadata": {},
     "output_type": "execute_result"
    }
   ],
   "source": [
    "i_str = input(\"Enter ? \")\n",
    "res = set()\n",
    "for i in i_str:\n",
    "    res.add(i)\n",
    "res"
   ]
  },
  {
   "cell_type": "raw",
   "id": "345e9a35-eff5-4940-b570-57892888f700",
   "metadata": {},
   "source": [
    "41. Check if the intersection of two sets is empty."
   ]
  },
  {
   "cell_type": "code",
   "execution_count": 4,
   "id": "422f4729-fc8f-4c50-83c4-acc28b0b9b3a",
   "metadata": {},
   "outputs": [
    {
     "name": "stdout",
     "output_type": "stream",
     "text": [
      "The sets have common elements.\n"
     ]
    }
   ],
   "source": [
    "set1 = {'E', 'l', 'o', 'n', ' ', 'M', 'u', 's', 'k'}\n",
    "set2 = {'E', 'l', 'o', 'n', ' ', 'X', 'Y', 'Z'}\n",
    "if set1.isdisjoint(set2):\n",
    "    print(\"The sets have no common elements.\")\n",
    "else:\n",
    "    print(\"The sets have common elements.\")"
   ]
  },
  {
   "cell_type": "raw",
   "id": "25c256d7-c0a6-4c5e-a30b-7c8c1c4eadf3",
   "metadata": {},
   "source": [
    "42. Create a set of the first 5 Fibonacci numbers."
   ]
  },
  {
   "cell_type": "code",
   "execution_count": 5,
   "id": "34aafb28-d906-47b3-8066-4b4f6df5e09a",
   "metadata": {},
   "outputs": [
    {
     "name": "stdout",
     "output_type": "stream",
     "text": [
      "Set of the first 5 Fibonacci numbers: {0, 1, 2, 3, 5}\n"
     ]
    }
   ],
   "source": [
    "fibonacci_set = set()\n",
    "a, b = 0,1\n",
    "for _ in range(6):\n",
    "    fibonacci_set.add(a)\n",
    "    a, b = b, a + b\n",
    "print(\"Set of the first 5 Fibonacci numbers:\", fibonacci_set)"
   ]
  },
  {
   "cell_type": "raw",
   "id": "d8b2a52f-7fd5-42b8-98b1-a9453fbf8600",
   "metadata": {},
   "source": [
    "43. Remove duplicates from a list using sets."
   ]
  },
  {
   "cell_type": "code",
   "execution_count": 7,
   "id": "dfd23dcd-4e92-44a2-91f9-9cf4ca463665",
   "metadata": {},
   "outputs": [
    {
     "data": {
      "text/plain": [
       "[1, 2, 33, 4, 5, 44]"
      ]
     },
     "execution_count": 7,
     "metadata": {},
     "output_type": "execute_result"
    }
   ],
   "source": [
    "l = [1,1,2,2,33,33,44,4,5]\n",
    "set(l)\n",
    "list(set(l))"
   ]
  },
  {
   "cell_type": "raw",
   "id": "c4f87f4b-68e0-4369-b2bd-fdb4be9632e9",
   "metadata": {},
   "source": [
    "44. Check if two sets have the same elements, regardless of their count."
   ]
  },
  {
   "cell_type": "code",
   "execution_count": 8,
   "id": "13c6be63-8975-4291-93e5-f77f186a8da0",
   "metadata": {},
   "outputs": [
    {
     "name": "stdout",
     "output_type": "stream",
     "text": [
      "The sets have the same elements, regardless of their count.\n"
     ]
    }
   ],
   "source": [
    "set1 = {'E', 'l', 'o', 'n', ' ', 'M', 'u', 's', 'k'}\n",
    "set2 = {'E', 'l', 'o', 'n', ' ', 'k', 's', 'u', 'M'}\n",
    "\n",
    "if set1 == set2:\n",
    "    print(\"The sets have the same elements, regardless of their count.\")\n",
    "else:\n",
    "    print(\"The sets do not have the same elements.\")\n"
   ]
  },
  {
   "cell_type": "raw",
   "id": "a93bf8e2-b21f-49a6-baf3-28af03da5d04",
   "metadata": {},
   "source": [
    "45. Create a set of the first `n` powers of 2."
   ]
  },
  {
   "cell_type": "code",
   "execution_count": 21,
   "id": "692d5961-a4e7-4bf7-b11e-0699f389c356",
   "metadata": {},
   "outputs": [
    {
     "data": {
      "text/plain": [
       "[2, 4, 8, 16, 32]"
      ]
     },
     "execution_count": 21,
     "metadata": {},
     "output_type": "execute_result"
    }
   ],
   "source": [
    "def np(n):\n",
    "    res = [2**i for i in range(1,n+1)]\n",
    "    return res\n",
    "result = np(5)\n",
    "result"
   ]
  },
  {
   "cell_type": "raw",
   "id": "40976baf-7a5d-4e41-81d3-bfd507828558",
   "metadata": {},
   "source": [
    "46. Find the common elements between a set and a list."
   ]
  },
  {
   "cell_type": "code",
   "execution_count": 29,
   "id": "5875ac63-b663-4294-a905-bf91e07aa462",
   "metadata": {},
   "outputs": [
    {
     "name": "stdout",
     "output_type": "stream",
     "text": [
      "Common element: {3, 4, 5}\n"
     ]
    }
   ],
   "source": [
    "my_set = {1, 2, 3, 4, 5}\n",
    "my_list = [3, 4, 5, 6, 7]\n",
    "common_elements_alternative = my_set & set(my_list)\n",
    "print(\"Common element:\", common_elements_alternative)"
   ]
  },
  {
   "cell_type": "raw",
   "id": "6a6fdf6e-ce68-42f3-adf1-fe5749e2ebc9",
   "metadata": {},
   "source": [
    "47. Create a set of the first `n` triangular number"
   ]
  },
  {
   "cell_type": "code",
   "execution_count": 22,
   "id": "4a440d04-a77c-4cfb-add8-29fbbfb84a37",
   "metadata": {},
   "outputs": [
    {
     "name": "stdin",
     "output_type": "stream",
     "text": [
      "Enter the value of n:  5\n"
     ]
    },
    {
     "name": "stdout",
     "output_type": "stream",
     "text": [
      "The set of the first 5 triangular numbers is: {1, 3, 6, 10, 15}\n"
     ]
    }
   ],
   "source": [
    "def generate_triangular_numbers(n):\n",
    "    triangular_numbers = set() \n",
    "    for i in range(1, n + 1):\n",
    "        triangular_number = i * (i + 1) // 2  \n",
    "        triangular_numbers.add(triangular_number)  \n",
    "    return triangular_numbers\n",
    "n = int(input(\"Enter the value of n: \"))\n",
    "triangular_set = generate_triangular_numbers(n)\n",
    "print(f\"The set of the first {n} triangular numbers is:\", triangular_set)"
   ]
  },
  {
   "cell_type": "raw",
   "id": "5084308f-1e86-4dd0-96f9-d8195416b73e",
   "metadata": {},
   "source": [
    "48. Check if a set contains another set as a subset."
   ]
  },
  {
   "cell_type": "code",
   "execution_count": 23,
   "id": "7e53eb32-a254-41d9-8a1e-03f04b3534ae",
   "metadata": {},
   "outputs": [
    {
     "name": "stdout",
     "output_type": "stream",
     "text": [
      "set2 is a subset of set1\n"
     ]
    }
   ],
   "source": [
    "set1 = {1, 2, 3, 4, 5}\n",
    "set2 = {3, 4}\n",
    "is_subset = set2.issubset(set1)\n",
    "if is_subset:\n",
    "    print(\"set2 is a subset of set1\")\n",
    "else:\n",
    "    print(\"set2 is not a subset of set1\")"
   ]
  },
  {
   "cell_type": "raw",
   "id": "951ad590-5cf2-452b-b626-d5507a7bcaa4",
   "metadata": {},
   "source": [
    "49. Create a set of alternating 1s and 0s of length `n`."
   ]
  },
  {
   "cell_type": "code",
   "execution_count": 26,
   "id": "852f9646-fd71-4075-be13-38b0ad3d152d",
   "metadata": {},
   "outputs": [
    {
     "name": "stdout",
     "output_type": "stream",
     "text": [
      "{0, 1}\n"
     ]
    }
   ],
   "source": [
    "def create_alternating_set(n):\n",
    "    alternating_set = set()\n",
    "    for i in range(n):\n",
    "        if i % 2 == 0:\n",
    "            alternating_set.add(1) \n",
    "        else:\n",
    "            alternating_set.add(0) \n",
    "    return alternating_set\n",
    "length_n = 10\n",
    "result = create_alternating_set(length_n)\n",
    "print(result)"
   ]
  },
  {
   "cell_type": "raw",
   "id": "2918803a-202a-46af-90ae-9dcd14050df4",
   "metadata": {},
   "source": [
    "50. Merge multiple sets into one."
   ]
  },
  {
   "cell_type": "code",
   "execution_count": 27,
   "id": "f250d3ce-86f3-46f9-8b78-81008541b2e9",
   "metadata": {},
   "outputs": [
    {
     "name": "stdout",
     "output_type": "stream",
     "text": [
      "Merged Set: {1, 2, 3, 4, 5, 6, 7}\n"
     ]
    }
   ],
   "source": [
    "set1 = {1, 2, 3}\n",
    "set2 = {3, 4, 5}\n",
    "set3 = {5, 6, 7}\n",
    "merged_set = set1.union(set2, set3)\n",
    "print(\"Merged Set:\", merged_set)"
   ]
  },
  {
   "cell_type": "raw",
   "id": "161b96d1-f052-49a1-b6a0-d0b53befa78e",
   "metadata": {},
   "source": [
    ".......................................................FINISHED............................................................................."
   ]
  }
 ],
 "metadata": {
  "kernelspec": {
   "display_name": "Python 3 (ipykernel)",
   "language": "python",
   "name": "python3"
  },
  "language_info": {
   "codemirror_mode": {
    "name": "ipython",
    "version": 3
   },
   "file_extension": ".py",
   "mimetype": "text/x-python",
   "name": "python",
   "nbconvert_exporter": "python",
   "pygments_lexer": "ipython3",
   "version": "3.10.8"
  }
 },
 "nbformat": 4,
 "nbformat_minor": 5
}
