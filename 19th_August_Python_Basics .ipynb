{
 "cells": [
  {
   "cell_type": "markdown",
   "id": "c51c10e2-6dcb-4806-a1e7-53976722a4a6",
   "metadata": {},
   "source": [
    "#   Topic 1 =  Python Basic Variable"
   ]
  },
  {
   "cell_type": "markdown",
   "id": "4d593950-4562-4f42-a71a-8cd9de67fbd3",
   "metadata": {},
   "source": [
    "# Assignment 1st question = swapping variables without using temperory variable."
   ]
  },
  {
   "cell_type": "code",
   "execution_count": 1,
   "id": "8679c5ea-6657-4a22-b355-9507e08a321a",
   "metadata": {},
   "outputs": [
    {
     "name": "stdout",
     "output_type": "stream",
     "text": [
      "44 33\n"
     ]
    }
   ],
   "source": [
    "x = 33\n",
    "y = 44\n",
    "x,y = y,x\n",
    "print(x,y)"
   ]
  },
  {
   "cell_type": "markdown",
   "id": "0569a71c-ede4-44b3-a18d-d4113fcc5979",
   "metadata": {},
   "source": [
    "# Assignment 2nd question = program to calculate the area of the rectangle"
   ]
  },
  {
   "cell_type": "code",
   "execution_count": 7,
   "id": "c1d16513-4f4b-41c9-a625-150f4d1b37b1",
   "metadata": {},
   "outputs": [
    {
     "name": "stdin",
     "output_type": "stream",
     "text": [
      "Enter the value of Length ?  123.657\n",
      "Enter the calue of Width ?  765.987\n"
     ]
    },
    {
     "name": "stdout",
     "output_type": "stream",
     "text": [
      "Area of the rectangle = 94719.65\n"
     ]
    }
   ],
   "source": [
    "Length = float(input(\"Enter the value of Length ? \"))\n",
    "Width = float(input(\"Enter the calue of Width ? \"))\n",
    "# Formula to calculate the area of the rectangle by using length and width\n",
    "Area = Length*Width\n",
    "print(f\"Area of the rectangle = {Area:.2f}\")"
   ]
  },
  {
   "cell_type": "markdown",
   "id": "7b39dff1-9199-4ce2-ae68-024382d8edbe",
   "metadata": {},
   "source": [
    "# Assignment 3rd question = program to convert the temperature from celsius to fahrenheit then Take the temperature in Celsius as input, store it in a variable,convert it to fahrenheit, and display the result."
   ]
  },
  {
   "cell_type": "code",
   "execution_count": 9,
   "id": "632393e0-fbcc-48a2-a121-4c0f6605b081",
   "metadata": {},
   "outputs": [
    {
     "name": "stdin",
     "output_type": "stream",
     "text": [
      "Enter the temperature in celsius =  100\n"
     ]
    },
    {
     "name": "stdout",
     "output_type": "stream",
     "text": [
      "The temperature in Fahrenheit: 212.0\n"
     ]
    }
   ],
   "source": [
    "celsius = float(input(\"Enter the temperature in celsius = \"))\n",
    "Fahrenheit = (celsius*9/5) + 32\n",
    "print(\"The temperature in Fahrenheit:\",Fahrenheit)"
   ]
  },
  {
   "cell_type": "raw",
   "id": "657ef77d-387a-4c95-a91e-2ae01f87c360",
   "metadata": {},
   "source": [
    "#   Topic 2 = String Based Questions"
   ]
  },
  {
   "cell_type": "markdown",
   "id": "a7c6116e-45dd-40b4-b90d-008b7ecacc8b",
   "metadata": {},
   "source": [
    "# Assignment 1st question = Python program that takes a string as input and prints the length of the string."
   ]
  },
  {
   "cell_type": "code",
   "execution_count": 6,
   "id": "baca64bf-8792-4073-96f6-ffa3641da36c",
   "metadata": {},
   "outputs": [
    {
     "name": "stdin",
     "output_type": "stream",
     "text": [
      "Enter your Name :  Balachandar.B\n"
     ]
    },
    {
     "name": "stdout",
     "output_type": "stream",
     "text": [
      "THE LENGTH OF THE STRING :  13\n"
     ]
    }
   ],
   "source": [
    "Name = str(input(\"Enter your Name : \"))\n",
    "length = len(Name)\n",
    "print(\"THE LENGTH OF THE STRING : \",length)\n"
   ]
  },
  {
   "cell_type": "markdown",
   "id": "a7533977-d002-48e7-a07d-897168d7326c",
   "metadata": {},
   "source": [
    "# Assignment 2nd question = program that takes a sentence from the user and counts the number of vowels (a, e, i, o, u) in the string."
   ]
  },
  {
   "cell_type": "code",
   "execution_count": 1,
   "id": "5471594f-238a-435b-9a14-fc5fee7ff82e",
   "metadata": {},
   "outputs": [
    {
     "name": "stdin",
     "output_type": "stream",
     "text": [
      "Enter the string :  BALAchandar\n"
     ]
    },
    {
     "name": "stdout",
     "output_type": "stream",
     "text": [
      "The number of vowels present in the string is : 4\n"
     ]
    }
   ],
   "source": [
    "Sentence = input(\"Enter the string : \")\n",
    "String = Sentence.lower()\n",
    "List = [\"a\",\"e\",\"i\",\"o\",\"u\"]\n",
    "#here variable count is initialize to 0 to keep track of number of vowels\n",
    "count = 0\n",
    "for char in String:\n",
    "    if char in List:\n",
    "        count = count + 1\n",
    "print(\"The number of vowels present in the string is :\",count)\n"
   ]
  },
  {
   "cell_type": "markdown",
   "id": "928d5849-8616-4edd-82fd-ea6154810dd8",
   "metadata": {},
   "source": [
    "# Assignment 3rd question = Given a string, reverse the order of characters using string slicing and print the reversed string."
   ]
  },
  {
   "cell_type": "code",
   "execution_count": 4,
   "id": "66fbb853-a9df-4c8e-9c49-42ee1d92b4f7",
   "metadata": {},
   "outputs": [
    {
     "name": "stdin",
     "output_type": "stream",
     "text": [
      "enter the value of string :  taekwondo\n"
     ]
    },
    {
     "name": "stdout",
     "output_type": "stream",
     "text": [
      "The reverse of the string is odnowkeat\n"
     ]
    }
   ],
   "source": [
    "string = str(input(\"enter the value of string : \"))\n",
    "string_reverse = string[ : :-1]\n",
    "print(\"The reverse of the string is\",string_reverse)\n",
    "                   "
   ]
  },
  {
   "cell_type": "markdown",
   "id": "c0812727-5fd5-4fe7-b707-553ed742d5da",
   "metadata": {},
   "source": [
    "# Assignment 4th question = program that takes a string as input and checks if it is a palindrome."
   ]
  },
  {
   "cell_type": "code",
   "execution_count": 12,
   "id": "b24a2ab4-dac4-416a-a3ff-e003b7d7f7e0",
   "metadata": {},
   "outputs": [
    {
     "name": "stdin",
     "output_type": "stream",
     "text": [
      "enter the string :  madam\n"
     ]
    },
    {
     "name": "stdout",
     "output_type": "stream",
     "text": [
      "Yup! It is Palindrome\n"
     ]
    }
   ],
   "source": [
    "Userinput = str(input(\"enter the string : \"))\n",
    "Userinput_reverse = Userinput[ : :-1]\n",
    "if Userinput == Userinput_reverse:\n",
    "    print(\"Yup! It is Palindrome\")\n",
    "else:\n",
    "    print(\"NOPE! It is not Palindrome\")\n"
   ]
  },
  {
   "cell_type": "markdown",
   "id": "3cfe3f5f-7079-4ebc-a836-ba750cdaadb3",
   "metadata": {},
   "source": [
    "# Assignment 5th question = program that takes a string as input and removes all the spaces from it and Print the modified string without spaces."
   ]
  },
  {
   "cell_type": "code",
   "execution_count": 14,
   "id": "40f9f730-cd96-455b-a89f-196931b78808",
   "metadata": {},
   "outputs": [
    {
     "name": "stdin",
     "output_type": "stream",
     "text": [
      "Enter the value :  z e br a    !\n"
     ]
    },
    {
     "name": "stdout",
     "output_type": "stream",
     "text": [
      "The String without spaces : zebra!\n"
     ]
    }
   ],
   "source": [
    "string = str(input(\"Enter the value : \"))\n",
    "string1 = string.replace(\" \",\"\")\n",
    "print(\"The String without spaces :\",string1)"
   ]
  },
  {
   "cell_type": "code",
   "execution_count": null,
   "id": "ad980626-7def-4341-a790-02eb9b317691",
   "metadata": {},
   "outputs": [],
   "source": []
  }
 ],
 "metadata": {
  "kernelspec": {
   "display_name": "Python 3 (ipykernel)",
   "language": "python",
   "name": "python3"
  },
  "language_info": {
   "codemirror_mode": {
    "name": "ipython",
    "version": 3
   },
   "file_extension": ".py",
   "mimetype": "text/x-python",
   "name": "python",
   "nbconvert_exporter": "python",
   "pygments_lexer": "ipython3",
   "version": "3.10.8"
  }
 },
 "nbformat": 4,
 "nbformat_minor": 5
}
